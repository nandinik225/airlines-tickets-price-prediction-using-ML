{
 "cells": [
  {
   "cell_type": "code",
   "execution_count": 1,
   "id": "0e973dcc",
   "metadata": {},
   "outputs": [],
   "source": [
    "import numpy as np\n",
    "import pandas as pd\n",
    "import matplotlib.pyplot as plt\n",
    "import seaborn as sns"
   ]
  },
  {
   "cell_type": "code",
   "execution_count": 2,
   "id": "99eee363",
   "metadata": {},
   "outputs": [],
   "source": [
    "data = pd.read_excel(\"/Users/nandinik/Downloads/Data_Train.xlsx\")"
   ]
  },
  {
   "cell_type": "code",
   "execution_count": 3,
   "id": "9b5d484f",
   "metadata": {},
   "outputs": [
    {
     "data": {
      "text/html": [
       "<div>\n",
       "<style scoped>\n",
       "    .dataframe tbody tr th:only-of-type {\n",
       "        vertical-align: middle;\n",
       "    }\n",
       "\n",
       "    .dataframe tbody tr th {\n",
       "        vertical-align: top;\n",
       "    }\n",
       "\n",
       "    .dataframe thead th {\n",
       "        text-align: right;\n",
       "    }\n",
       "</style>\n",
       "<table border=\"1\" class=\"dataframe\">\n",
       "  <thead>\n",
       "    <tr style=\"text-align: right;\">\n",
       "      <th></th>\n",
       "      <th>Airline</th>\n",
       "      <th>Date_of_Journey</th>\n",
       "      <th>Source</th>\n",
       "      <th>Destination</th>\n",
       "      <th>Route</th>\n",
       "      <th>Dep_Time</th>\n",
       "      <th>Arrival_Time</th>\n",
       "      <th>Duration</th>\n",
       "      <th>Total_Stops</th>\n",
       "      <th>Additional_Info</th>\n",
       "      <th>Price</th>\n",
       "    </tr>\n",
       "  </thead>\n",
       "  <tbody>\n",
       "    <tr>\n",
       "      <th>0</th>\n",
       "      <td>IndiGo</td>\n",
       "      <td>24/03/2019</td>\n",
       "      <td>Banglore</td>\n",
       "      <td>New Delhi</td>\n",
       "      <td>BLR → DEL</td>\n",
       "      <td>22:20</td>\n",
       "      <td>01:10 22 Mar</td>\n",
       "      <td>2h 50m</td>\n",
       "      <td>non-stop</td>\n",
       "      <td>No info</td>\n",
       "      <td>3897</td>\n",
       "    </tr>\n",
       "    <tr>\n",
       "      <th>1</th>\n",
       "      <td>Air India</td>\n",
       "      <td>1/05/2019</td>\n",
       "      <td>Kolkata</td>\n",
       "      <td>Banglore</td>\n",
       "      <td>CCU → IXR → BBI → BLR</td>\n",
       "      <td>05:50</td>\n",
       "      <td>13:15</td>\n",
       "      <td>7h 25m</td>\n",
       "      <td>2 stops</td>\n",
       "      <td>No info</td>\n",
       "      <td>7662</td>\n",
       "    </tr>\n",
       "    <tr>\n",
       "      <th>2</th>\n",
       "      <td>Jet Airways</td>\n",
       "      <td>9/06/2019</td>\n",
       "      <td>Delhi</td>\n",
       "      <td>Cochin</td>\n",
       "      <td>DEL → LKO → BOM → COK</td>\n",
       "      <td>09:25</td>\n",
       "      <td>04:25 10 Jun</td>\n",
       "      <td>19h</td>\n",
       "      <td>2 stops</td>\n",
       "      <td>No info</td>\n",
       "      <td>13882</td>\n",
       "    </tr>\n",
       "    <tr>\n",
       "      <th>3</th>\n",
       "      <td>IndiGo</td>\n",
       "      <td>12/05/2019</td>\n",
       "      <td>Kolkata</td>\n",
       "      <td>Banglore</td>\n",
       "      <td>CCU → NAG → BLR</td>\n",
       "      <td>18:05</td>\n",
       "      <td>23:30</td>\n",
       "      <td>5h 25m</td>\n",
       "      <td>1 stop</td>\n",
       "      <td>No info</td>\n",
       "      <td>6218</td>\n",
       "    </tr>\n",
       "    <tr>\n",
       "      <th>4</th>\n",
       "      <td>IndiGo</td>\n",
       "      <td>01/03/2019</td>\n",
       "      <td>Banglore</td>\n",
       "      <td>New Delhi</td>\n",
       "      <td>BLR → NAG → DEL</td>\n",
       "      <td>16:50</td>\n",
       "      <td>21:35</td>\n",
       "      <td>4h 45m</td>\n",
       "      <td>1 stop</td>\n",
       "      <td>No info</td>\n",
       "      <td>13302</td>\n",
       "    </tr>\n",
       "    <tr>\n",
       "      <th>...</th>\n",
       "      <td>...</td>\n",
       "      <td>...</td>\n",
       "      <td>...</td>\n",
       "      <td>...</td>\n",
       "      <td>...</td>\n",
       "      <td>...</td>\n",
       "      <td>...</td>\n",
       "      <td>...</td>\n",
       "      <td>...</td>\n",
       "      <td>...</td>\n",
       "      <td>...</td>\n",
       "    </tr>\n",
       "    <tr>\n",
       "      <th>10678</th>\n",
       "      <td>Air Asia</td>\n",
       "      <td>9/04/2019</td>\n",
       "      <td>Kolkata</td>\n",
       "      <td>Banglore</td>\n",
       "      <td>CCU → BLR</td>\n",
       "      <td>19:55</td>\n",
       "      <td>22:25</td>\n",
       "      <td>2h 30m</td>\n",
       "      <td>non-stop</td>\n",
       "      <td>No info</td>\n",
       "      <td>4107</td>\n",
       "    </tr>\n",
       "    <tr>\n",
       "      <th>10679</th>\n",
       "      <td>Air India</td>\n",
       "      <td>27/04/2019</td>\n",
       "      <td>Kolkata</td>\n",
       "      <td>Banglore</td>\n",
       "      <td>CCU → BLR</td>\n",
       "      <td>20:45</td>\n",
       "      <td>23:20</td>\n",
       "      <td>2h 35m</td>\n",
       "      <td>non-stop</td>\n",
       "      <td>No info</td>\n",
       "      <td>4145</td>\n",
       "    </tr>\n",
       "    <tr>\n",
       "      <th>10680</th>\n",
       "      <td>Jet Airways</td>\n",
       "      <td>27/04/2019</td>\n",
       "      <td>Banglore</td>\n",
       "      <td>Delhi</td>\n",
       "      <td>BLR → DEL</td>\n",
       "      <td>08:20</td>\n",
       "      <td>11:20</td>\n",
       "      <td>3h</td>\n",
       "      <td>non-stop</td>\n",
       "      <td>No info</td>\n",
       "      <td>7229</td>\n",
       "    </tr>\n",
       "    <tr>\n",
       "      <th>10681</th>\n",
       "      <td>Vistara</td>\n",
       "      <td>01/03/2019</td>\n",
       "      <td>Banglore</td>\n",
       "      <td>New Delhi</td>\n",
       "      <td>BLR → DEL</td>\n",
       "      <td>11:30</td>\n",
       "      <td>14:10</td>\n",
       "      <td>2h 40m</td>\n",
       "      <td>non-stop</td>\n",
       "      <td>No info</td>\n",
       "      <td>12648</td>\n",
       "    </tr>\n",
       "    <tr>\n",
       "      <th>10682</th>\n",
       "      <td>Air India</td>\n",
       "      <td>9/05/2019</td>\n",
       "      <td>Delhi</td>\n",
       "      <td>Cochin</td>\n",
       "      <td>DEL → GOI → BOM → COK</td>\n",
       "      <td>10:55</td>\n",
       "      <td>19:15</td>\n",
       "      <td>8h 20m</td>\n",
       "      <td>2 stops</td>\n",
       "      <td>No info</td>\n",
       "      <td>11753</td>\n",
       "    </tr>\n",
       "  </tbody>\n",
       "</table>\n",
       "<p>10683 rows × 11 columns</p>\n",
       "</div>"
      ],
      "text/plain": [
       "           Airline Date_of_Journey    Source Destination  \\\n",
       "0           IndiGo      24/03/2019  Banglore   New Delhi   \n",
       "1        Air India       1/05/2019   Kolkata    Banglore   \n",
       "2      Jet Airways       9/06/2019     Delhi      Cochin   \n",
       "3           IndiGo      12/05/2019   Kolkata    Banglore   \n",
       "4           IndiGo      01/03/2019  Banglore   New Delhi   \n",
       "...            ...             ...       ...         ...   \n",
       "10678     Air Asia       9/04/2019   Kolkata    Banglore   \n",
       "10679    Air India      27/04/2019   Kolkata    Banglore   \n",
       "10680  Jet Airways      27/04/2019  Banglore       Delhi   \n",
       "10681      Vistara      01/03/2019  Banglore   New Delhi   \n",
       "10682    Air India       9/05/2019     Delhi      Cochin   \n",
       "\n",
       "                       Route Dep_Time  Arrival_Time Duration Total_Stops  \\\n",
       "0                  BLR → DEL    22:20  01:10 22 Mar   2h 50m    non-stop   \n",
       "1      CCU → IXR → BBI → BLR    05:50         13:15   7h 25m     2 stops   \n",
       "2      DEL → LKO → BOM → COK    09:25  04:25 10 Jun      19h     2 stops   \n",
       "3            CCU → NAG → BLR    18:05         23:30   5h 25m      1 stop   \n",
       "4            BLR → NAG → DEL    16:50         21:35   4h 45m      1 stop   \n",
       "...                      ...      ...           ...      ...         ...   \n",
       "10678              CCU → BLR    19:55         22:25   2h 30m    non-stop   \n",
       "10679              CCU → BLR    20:45         23:20   2h 35m    non-stop   \n",
       "10680              BLR → DEL    08:20         11:20       3h    non-stop   \n",
       "10681              BLR → DEL    11:30         14:10   2h 40m    non-stop   \n",
       "10682  DEL → GOI → BOM → COK    10:55         19:15   8h 20m     2 stops   \n",
       "\n",
       "      Additional_Info  Price  \n",
       "0             No info   3897  \n",
       "1             No info   7662  \n",
       "2             No info  13882  \n",
       "3             No info   6218  \n",
       "4             No info  13302  \n",
       "...               ...    ...  \n",
       "10678         No info   4107  \n",
       "10679         No info   4145  \n",
       "10680         No info   7229  \n",
       "10681         No info  12648  \n",
       "10682         No info  11753  \n",
       "\n",
       "[10683 rows x 11 columns]"
      ]
     },
     "execution_count": 3,
     "metadata": {},
     "output_type": "execute_result"
    }
   ],
   "source": [
    "data"
   ]
  },
  {
   "cell_type": "code",
   "execution_count": 4,
   "id": "50b0c676",
   "metadata": {},
   "outputs": [
    {
     "data": {
      "text/plain": [
       "Airline            0\n",
       "Date_of_Journey    0\n",
       "Source             0\n",
       "Destination        0\n",
       "Route              1\n",
       "Dep_Time           0\n",
       "Arrival_Time       0\n",
       "Duration           0\n",
       "Total_Stops        1\n",
       "Additional_Info    0\n",
       "Price              0\n",
       "dtype: int64"
      ]
     },
     "execution_count": 4,
     "metadata": {},
     "output_type": "execute_result"
    }
   ],
   "source": [
    "data.isnull().sum()"
   ]
  },
  {
   "cell_type": "code",
   "execution_count": 5,
   "id": "9a470bd5",
   "metadata": {},
   "outputs": [
    {
     "data": {
      "text/html": [
       "<div>\n",
       "<style scoped>\n",
       "    .dataframe tbody tr th:only-of-type {\n",
       "        vertical-align: middle;\n",
       "    }\n",
       "\n",
       "    .dataframe tbody tr th {\n",
       "        vertical-align: top;\n",
       "    }\n",
       "\n",
       "    .dataframe thead th {\n",
       "        text-align: right;\n",
       "    }\n",
       "</style>\n",
       "<table border=\"1\" class=\"dataframe\">\n",
       "  <thead>\n",
       "    <tr style=\"text-align: right;\">\n",
       "      <th></th>\n",
       "      <th>Airline</th>\n",
       "      <th>Date_of_Journey</th>\n",
       "      <th>Source</th>\n",
       "      <th>Destination</th>\n",
       "      <th>Route</th>\n",
       "      <th>Dep_Time</th>\n",
       "      <th>Arrival_Time</th>\n",
       "      <th>Duration</th>\n",
       "      <th>Total_Stops</th>\n",
       "      <th>Additional_Info</th>\n",
       "      <th>Price</th>\n",
       "    </tr>\n",
       "  </thead>\n",
       "  <tbody>\n",
       "    <tr>\n",
       "      <th>9039</th>\n",
       "      <td>Air India</td>\n",
       "      <td>6/05/2019</td>\n",
       "      <td>Delhi</td>\n",
       "      <td>Cochin</td>\n",
       "      <td>NaN</td>\n",
       "      <td>09:45</td>\n",
       "      <td>09:25 07 May</td>\n",
       "      <td>23h 40m</td>\n",
       "      <td>NaN</td>\n",
       "      <td>No info</td>\n",
       "      <td>7480</td>\n",
       "    </tr>\n",
       "  </tbody>\n",
       "</table>\n",
       "</div>"
      ],
      "text/plain": [
       "        Airline Date_of_Journey Source Destination Route Dep_Time  \\\n",
       "9039  Air India       6/05/2019  Delhi      Cochin   NaN    09:45   \n",
       "\n",
       "      Arrival_Time Duration Total_Stops Additional_Info  Price  \n",
       "9039  09:25 07 May  23h 40m         NaN         No info   7480  "
      ]
     },
     "execution_count": 5,
     "metadata": {},
     "output_type": "execute_result"
    }
   ],
   "source": [
    "data[data['Total_Stops'].isnull()]"
   ]
  },
  {
   "cell_type": "code",
   "execution_count": 6,
   "id": "ec8bd143",
   "metadata": {},
   "outputs": [],
   "source": [
    "data.dropna(inplace=True)"
   ]
  },
  {
   "cell_type": "code",
   "execution_count": 7,
   "id": "82f86315",
   "metadata": {},
   "outputs": [
    {
     "data": {
      "text/plain": [
       "Airline            0\n",
       "Date_of_Journey    0\n",
       "Source             0\n",
       "Destination        0\n",
       "Route              0\n",
       "Dep_Time           0\n",
       "Arrival_Time       0\n",
       "Duration           0\n",
       "Total_Stops        0\n",
       "Additional_Info    0\n",
       "Price              0\n",
       "dtype: int64"
      ]
     },
     "execution_count": 7,
     "metadata": {},
     "output_type": "execute_result"
    }
   ],
   "source": [
    "data.isnull().sum()"
   ]
  },
  {
   "cell_type": "code",
   "execution_count": 8,
   "id": "f4f43774",
   "metadata": {},
   "outputs": [],
   "source": [
    "data1 = data.copy()"
   ]
  },
  {
   "cell_type": "code",
   "execution_count": 9,
   "id": "f8002515",
   "metadata": {},
   "outputs": [
    {
     "data": {
      "text/plain": [
       "Airline            0\n",
       "Date_of_Journey    0\n",
       "Source             0\n",
       "Destination        0\n",
       "Route              0\n",
       "Dep_Time           0\n",
       "Arrival_Time       0\n",
       "Duration           0\n",
       "Total_Stops        0\n",
       "Additional_Info    0\n",
       "Price              0\n",
       "dtype: int64"
      ]
     },
     "execution_count": 9,
     "metadata": {},
     "output_type": "execute_result"
    }
   ],
   "source": [
    "data1.isnull().sum()"
   ]
  },
  {
   "cell_type": "code",
   "execution_count": 10,
   "id": "ed2af5e1",
   "metadata": {},
   "outputs": [
    {
     "data": {
      "text/html": [
       "<div>\n",
       "<style scoped>\n",
       "    .dataframe tbody tr th:only-of-type {\n",
       "        vertical-align: middle;\n",
       "    }\n",
       "\n",
       "    .dataframe tbody tr th {\n",
       "        vertical-align: top;\n",
       "    }\n",
       "\n",
       "    .dataframe thead th {\n",
       "        text-align: right;\n",
       "    }\n",
       "</style>\n",
       "<table border=\"1\" class=\"dataframe\">\n",
       "  <thead>\n",
       "    <tr style=\"text-align: right;\">\n",
       "      <th></th>\n",
       "      <th>Airline</th>\n",
       "      <th>Date_of_Journey</th>\n",
       "      <th>Source</th>\n",
       "      <th>Destination</th>\n",
       "      <th>Route</th>\n",
       "      <th>Dep_Time</th>\n",
       "      <th>Arrival_Time</th>\n",
       "      <th>Duration</th>\n",
       "      <th>Total_Stops</th>\n",
       "      <th>Additional_Info</th>\n",
       "      <th>Price</th>\n",
       "    </tr>\n",
       "  </thead>\n",
       "  <tbody>\n",
       "    <tr>\n",
       "      <th>0</th>\n",
       "      <td>IndiGo</td>\n",
       "      <td>24/03/2019</td>\n",
       "      <td>Banglore</td>\n",
       "      <td>New Delhi</td>\n",
       "      <td>BLR → DEL</td>\n",
       "      <td>22:20</td>\n",
       "      <td>01:10 22 Mar</td>\n",
       "      <td>2h 50m</td>\n",
       "      <td>non-stop</td>\n",
       "      <td>No info</td>\n",
       "      <td>3897</td>\n",
       "    </tr>\n",
       "    <tr>\n",
       "      <th>1</th>\n",
       "      <td>Air India</td>\n",
       "      <td>1/05/2019</td>\n",
       "      <td>Kolkata</td>\n",
       "      <td>Banglore</td>\n",
       "      <td>CCU → IXR → BBI → BLR</td>\n",
       "      <td>05:50</td>\n",
       "      <td>13:15</td>\n",
       "      <td>7h 25m</td>\n",
       "      <td>2 stops</td>\n",
       "      <td>No info</td>\n",
       "      <td>7662</td>\n",
       "    </tr>\n",
       "    <tr>\n",
       "      <th>2</th>\n",
       "      <td>Jet Airways</td>\n",
       "      <td>9/06/2019</td>\n",
       "      <td>Delhi</td>\n",
       "      <td>Cochin</td>\n",
       "      <td>DEL → LKO → BOM → COK</td>\n",
       "      <td>09:25</td>\n",
       "      <td>04:25 10 Jun</td>\n",
       "      <td>19h</td>\n",
       "      <td>2 stops</td>\n",
       "      <td>No info</td>\n",
       "      <td>13882</td>\n",
       "    </tr>\n",
       "    <tr>\n",
       "      <th>3</th>\n",
       "      <td>IndiGo</td>\n",
       "      <td>12/05/2019</td>\n",
       "      <td>Kolkata</td>\n",
       "      <td>Banglore</td>\n",
       "      <td>CCU → NAG → BLR</td>\n",
       "      <td>18:05</td>\n",
       "      <td>23:30</td>\n",
       "      <td>5h 25m</td>\n",
       "      <td>1 stop</td>\n",
       "      <td>No info</td>\n",
       "      <td>6218</td>\n",
       "    </tr>\n",
       "    <tr>\n",
       "      <th>4</th>\n",
       "      <td>IndiGo</td>\n",
       "      <td>01/03/2019</td>\n",
       "      <td>Banglore</td>\n",
       "      <td>New Delhi</td>\n",
       "      <td>BLR → NAG → DEL</td>\n",
       "      <td>16:50</td>\n",
       "      <td>21:35</td>\n",
       "      <td>4h 45m</td>\n",
       "      <td>1 stop</td>\n",
       "      <td>No info</td>\n",
       "      <td>13302</td>\n",
       "    </tr>\n",
       "    <tr>\n",
       "      <th>5</th>\n",
       "      <td>SpiceJet</td>\n",
       "      <td>24/06/2019</td>\n",
       "      <td>Kolkata</td>\n",
       "      <td>Banglore</td>\n",
       "      <td>CCU → BLR</td>\n",
       "      <td>09:00</td>\n",
       "      <td>11:25</td>\n",
       "      <td>2h 25m</td>\n",
       "      <td>non-stop</td>\n",
       "      <td>No info</td>\n",
       "      <td>3873</td>\n",
       "    </tr>\n",
       "    <tr>\n",
       "      <th>6</th>\n",
       "      <td>Jet Airways</td>\n",
       "      <td>12/03/2019</td>\n",
       "      <td>Banglore</td>\n",
       "      <td>New Delhi</td>\n",
       "      <td>BLR → BOM → DEL</td>\n",
       "      <td>18:55</td>\n",
       "      <td>10:25 13 Mar</td>\n",
       "      <td>15h 30m</td>\n",
       "      <td>1 stop</td>\n",
       "      <td>In-flight meal not included</td>\n",
       "      <td>11087</td>\n",
       "    </tr>\n",
       "    <tr>\n",
       "      <th>7</th>\n",
       "      <td>Jet Airways</td>\n",
       "      <td>01/03/2019</td>\n",
       "      <td>Banglore</td>\n",
       "      <td>New Delhi</td>\n",
       "      <td>BLR → BOM → DEL</td>\n",
       "      <td>08:00</td>\n",
       "      <td>05:05 02 Mar</td>\n",
       "      <td>21h 5m</td>\n",
       "      <td>1 stop</td>\n",
       "      <td>No info</td>\n",
       "      <td>22270</td>\n",
       "    </tr>\n",
       "    <tr>\n",
       "      <th>8</th>\n",
       "      <td>Jet Airways</td>\n",
       "      <td>12/03/2019</td>\n",
       "      <td>Banglore</td>\n",
       "      <td>New Delhi</td>\n",
       "      <td>BLR → BOM → DEL</td>\n",
       "      <td>08:55</td>\n",
       "      <td>10:25 13 Mar</td>\n",
       "      <td>25h 30m</td>\n",
       "      <td>1 stop</td>\n",
       "      <td>In-flight meal not included</td>\n",
       "      <td>11087</td>\n",
       "    </tr>\n",
       "    <tr>\n",
       "      <th>9</th>\n",
       "      <td>Multiple carriers</td>\n",
       "      <td>27/05/2019</td>\n",
       "      <td>Delhi</td>\n",
       "      <td>Cochin</td>\n",
       "      <td>DEL → BOM → COK</td>\n",
       "      <td>11:25</td>\n",
       "      <td>19:15</td>\n",
       "      <td>7h 50m</td>\n",
       "      <td>1 stop</td>\n",
       "      <td>No info</td>\n",
       "      <td>8625</td>\n",
       "    </tr>\n",
       "  </tbody>\n",
       "</table>\n",
       "</div>"
      ],
      "text/plain": [
       "             Airline Date_of_Journey    Source Destination  \\\n",
       "0             IndiGo      24/03/2019  Banglore   New Delhi   \n",
       "1          Air India       1/05/2019   Kolkata    Banglore   \n",
       "2        Jet Airways       9/06/2019     Delhi      Cochin   \n",
       "3             IndiGo      12/05/2019   Kolkata    Banglore   \n",
       "4             IndiGo      01/03/2019  Banglore   New Delhi   \n",
       "5           SpiceJet      24/06/2019   Kolkata    Banglore   \n",
       "6        Jet Airways      12/03/2019  Banglore   New Delhi   \n",
       "7        Jet Airways      01/03/2019  Banglore   New Delhi   \n",
       "8        Jet Airways      12/03/2019  Banglore   New Delhi   \n",
       "9  Multiple carriers      27/05/2019     Delhi      Cochin   \n",
       "\n",
       "                   Route Dep_Time  Arrival_Time Duration Total_Stops  \\\n",
       "0              BLR → DEL    22:20  01:10 22 Mar   2h 50m    non-stop   \n",
       "1  CCU → IXR → BBI → BLR    05:50         13:15   7h 25m     2 stops   \n",
       "2  DEL → LKO → BOM → COK    09:25  04:25 10 Jun      19h     2 stops   \n",
       "3        CCU → NAG → BLR    18:05         23:30   5h 25m      1 stop   \n",
       "4        BLR → NAG → DEL    16:50         21:35   4h 45m      1 stop   \n",
       "5              CCU → BLR    09:00         11:25   2h 25m    non-stop   \n",
       "6        BLR → BOM → DEL    18:55  10:25 13 Mar  15h 30m      1 stop   \n",
       "7        BLR → BOM → DEL    08:00  05:05 02 Mar   21h 5m      1 stop   \n",
       "8        BLR → BOM → DEL    08:55  10:25 13 Mar  25h 30m      1 stop   \n",
       "9        DEL → BOM → COK    11:25         19:15   7h 50m      1 stop   \n",
       "\n",
       "               Additional_Info  Price  \n",
       "0                      No info   3897  \n",
       "1                      No info   7662  \n",
       "2                      No info  13882  \n",
       "3                      No info   6218  \n",
       "4                      No info  13302  \n",
       "5                      No info   3873  \n",
       "6  In-flight meal not included  11087  \n",
       "7                      No info  22270  \n",
       "8  In-flight meal not included  11087  \n",
       "9                      No info   8625  "
      ]
     },
     "execution_count": 10,
     "metadata": {},
     "output_type": "execute_result"
    }
   ],
   "source": [
    "data1.head(10)"
   ]
  },
  {
   "cell_type": "code",
   "execution_count": 11,
   "id": "44f430c9",
   "metadata": {},
   "outputs": [
    {
     "data": {
      "text/plain": [
       "Airline            object\n",
       "Date_of_Journey    object\n",
       "Source             object\n",
       "Destination        object\n",
       "Route              object\n",
       "Dep_Time           object\n",
       "Arrival_Time       object\n",
       "Duration           object\n",
       "Total_Stops        object\n",
       "Additional_Info    object\n",
       "Price               int64\n",
       "dtype: object"
      ]
     },
     "execution_count": 11,
     "metadata": {},
     "output_type": "execute_result"
    }
   ],
   "source": [
    "data1.dtypes"
   ]
  },
  {
   "cell_type": "markdown",
   "id": "a96d3bd6",
   "metadata": {},
   "source": [
    "## featurization of date of journey"
   ]
  },
  {
   "cell_type": "code",
   "execution_count": 12,
   "id": "d43301b6",
   "metadata": {},
   "outputs": [],
   "source": [
    "def change_into_datetime(col):\n",
    "    data1[col] = pd.to_datetime(data1[col])\n",
    "    "
   ]
  },
  {
   "cell_type": "code",
   "execution_count": 13,
   "id": "9977f042",
   "metadata": {},
   "outputs": [
    {
     "name": "stderr",
     "output_type": "stream",
     "text": [
      "<ipython-input-12-12d41dc02df1>:2: UserWarning: Parsing dates in %d/%m/%Y format when dayfirst=False (the default) was specified. Pass `dayfirst=True` or specify a format to silence this warning.\n",
      "  data1[col] = pd.to_datetime(data1[col])\n",
      "<ipython-input-12-12d41dc02df1>:2: UserWarning: Could not infer format, so each element will be parsed individually, falling back to `dateutil`. To ensure parsing is consistent and as-expected, please specify a format.\n",
      "  data1[col] = pd.to_datetime(data1[col])\n",
      "<ipython-input-12-12d41dc02df1>:2: UserWarning: Could not infer format, so each element will be parsed individually, falling back to `dateutil`. To ensure parsing is consistent and as-expected, please specify a format.\n",
      "  data1[col] = pd.to_datetime(data1[col])\n"
     ]
    }
   ],
   "source": [
    "for feature in ['Date_of_Journey','Dep_Time','Arrival_Time']:\n",
    "    change_into_datetime(feature)\n"
   ]
  },
  {
   "cell_type": "code",
   "execution_count": 14,
   "id": "fb4ac96e",
   "metadata": {},
   "outputs": [
    {
     "data": {
      "text/plain": [
       "Airline                    object\n",
       "Date_of_Journey    datetime64[ns]\n",
       "Source                     object\n",
       "Destination                object\n",
       "Route                      object\n",
       "Dep_Time           datetime64[ns]\n",
       "Arrival_Time       datetime64[ns]\n",
       "Duration                   object\n",
       "Total_Stops                object\n",
       "Additional_Info            object\n",
       "Price                       int64\n",
       "dtype: object"
      ]
     },
     "execution_count": 14,
     "metadata": {},
     "output_type": "execute_result"
    }
   ],
   "source": [
    "data1.dtypes"
   ]
  },
  {
   "cell_type": "code",
   "execution_count": 15,
   "id": "d61d5a75",
   "metadata": {},
   "outputs": [],
   "source": [
    "data1['journey_day'] = data1['Date_of_Journey'].dt.day"
   ]
  },
  {
   "cell_type": "code",
   "execution_count": 16,
   "id": "fa90372a",
   "metadata": {},
   "outputs": [],
   "source": [
    "data1['journey_month'] = data1['Date_of_Journey'].dt.month"
   ]
  },
  {
   "cell_type": "code",
   "execution_count": 17,
   "id": "8fbddeb2",
   "metadata": {},
   "outputs": [],
   "source": [
    "data1['journey_year'] = data1['Date_of_Journey'].dt.year"
   ]
  },
  {
   "cell_type": "code",
   "execution_count": 18,
   "id": "bd3e24f6",
   "metadata": {},
   "outputs": [
    {
     "data": {
      "text/html": [
       "<div>\n",
       "<style scoped>\n",
       "    .dataframe tbody tr th:only-of-type {\n",
       "        vertical-align: middle;\n",
       "    }\n",
       "\n",
       "    .dataframe tbody tr th {\n",
       "        vertical-align: top;\n",
       "    }\n",
       "\n",
       "    .dataframe thead th {\n",
       "        text-align: right;\n",
       "    }\n",
       "</style>\n",
       "<table border=\"1\" class=\"dataframe\">\n",
       "  <thead>\n",
       "    <tr style=\"text-align: right;\">\n",
       "      <th></th>\n",
       "      <th>Airline</th>\n",
       "      <th>Date_of_Journey</th>\n",
       "      <th>Source</th>\n",
       "      <th>Destination</th>\n",
       "      <th>Route</th>\n",
       "      <th>Dep_Time</th>\n",
       "      <th>Arrival_Time</th>\n",
       "      <th>Duration</th>\n",
       "      <th>Total_Stops</th>\n",
       "      <th>Additional_Info</th>\n",
       "      <th>Price</th>\n",
       "      <th>journey_day</th>\n",
       "      <th>journey_month</th>\n",
       "      <th>journey_year</th>\n",
       "    </tr>\n",
       "  </thead>\n",
       "  <tbody>\n",
       "    <tr>\n",
       "      <th>0</th>\n",
       "      <td>IndiGo</td>\n",
       "      <td>2019-03-24</td>\n",
       "      <td>Banglore</td>\n",
       "      <td>New Delhi</td>\n",
       "      <td>BLR → DEL</td>\n",
       "      <td>2024-03-20 22:20:00</td>\n",
       "      <td>2024-03-22 01:10:00</td>\n",
       "      <td>2h 50m</td>\n",
       "      <td>non-stop</td>\n",
       "      <td>No info</td>\n",
       "      <td>3897</td>\n",
       "      <td>24</td>\n",
       "      <td>3</td>\n",
       "      <td>2019</td>\n",
       "    </tr>\n",
       "    <tr>\n",
       "      <th>1</th>\n",
       "      <td>Air India</td>\n",
       "      <td>2019-05-01</td>\n",
       "      <td>Kolkata</td>\n",
       "      <td>Banglore</td>\n",
       "      <td>CCU → IXR → BBI → BLR</td>\n",
       "      <td>2024-03-20 05:50:00</td>\n",
       "      <td>2024-03-20 13:15:00</td>\n",
       "      <td>7h 25m</td>\n",
       "      <td>2 stops</td>\n",
       "      <td>No info</td>\n",
       "      <td>7662</td>\n",
       "      <td>1</td>\n",
       "      <td>5</td>\n",
       "      <td>2019</td>\n",
       "    </tr>\n",
       "  </tbody>\n",
       "</table>\n",
       "</div>"
      ],
      "text/plain": [
       "     Airline Date_of_Journey    Source Destination                  Route  \\\n",
       "0     IndiGo      2019-03-24  Banglore   New Delhi              BLR → DEL   \n",
       "1  Air India      2019-05-01   Kolkata    Banglore  CCU → IXR → BBI → BLR   \n",
       "\n",
       "             Dep_Time        Arrival_Time Duration Total_Stops  \\\n",
       "0 2024-03-20 22:20:00 2024-03-22 01:10:00   2h 50m    non-stop   \n",
       "1 2024-03-20 05:50:00 2024-03-20 13:15:00   7h 25m     2 stops   \n",
       "\n",
       "  Additional_Info  Price  journey_day  journey_month  journey_year  \n",
       "0         No info   3897           24              3          2019  \n",
       "1         No info   7662            1              5          2019  "
      ]
     },
     "execution_count": 18,
     "metadata": {},
     "output_type": "execute_result"
    }
   ],
   "source": [
    "data1.head(2)"
   ]
  },
  {
   "cell_type": "code",
   "execution_count": 19,
   "id": "bfdbeea9",
   "metadata": {},
   "outputs": [],
   "source": [
    "data1.drop('Date_of_Journey',axis =1, inplace=True)"
   ]
  },
  {
   "cell_type": "code",
   "execution_count": 20,
   "id": "a0dc3609",
   "metadata": {},
   "outputs": [
    {
     "data": {
      "text/html": [
       "<div>\n",
       "<style scoped>\n",
       "    .dataframe tbody tr th:only-of-type {\n",
       "        vertical-align: middle;\n",
       "    }\n",
       "\n",
       "    .dataframe tbody tr th {\n",
       "        vertical-align: top;\n",
       "    }\n",
       "\n",
       "    .dataframe thead th {\n",
       "        text-align: right;\n",
       "    }\n",
       "</style>\n",
       "<table border=\"1\" class=\"dataframe\">\n",
       "  <thead>\n",
       "    <tr style=\"text-align: right;\">\n",
       "      <th></th>\n",
       "      <th>Airline</th>\n",
       "      <th>Source</th>\n",
       "      <th>Destination</th>\n",
       "      <th>Route</th>\n",
       "      <th>Dep_Time</th>\n",
       "      <th>Arrival_Time</th>\n",
       "      <th>Duration</th>\n",
       "      <th>Total_Stops</th>\n",
       "      <th>Additional_Info</th>\n",
       "      <th>Price</th>\n",
       "      <th>journey_day</th>\n",
       "      <th>journey_month</th>\n",
       "      <th>journey_year</th>\n",
       "    </tr>\n",
       "  </thead>\n",
       "  <tbody>\n",
       "    <tr>\n",
       "      <th>0</th>\n",
       "      <td>IndiGo</td>\n",
       "      <td>Banglore</td>\n",
       "      <td>New Delhi</td>\n",
       "      <td>BLR → DEL</td>\n",
       "      <td>2024-03-20 22:20:00</td>\n",
       "      <td>2024-03-22 01:10:00</td>\n",
       "      <td>2h 50m</td>\n",
       "      <td>non-stop</td>\n",
       "      <td>No info</td>\n",
       "      <td>3897</td>\n",
       "      <td>24</td>\n",
       "      <td>3</td>\n",
       "      <td>2019</td>\n",
       "    </tr>\n",
       "    <tr>\n",
       "      <th>1</th>\n",
       "      <td>Air India</td>\n",
       "      <td>Kolkata</td>\n",
       "      <td>Banglore</td>\n",
       "      <td>CCU → IXR → BBI → BLR</td>\n",
       "      <td>2024-03-20 05:50:00</td>\n",
       "      <td>2024-03-20 13:15:00</td>\n",
       "      <td>7h 25m</td>\n",
       "      <td>2 stops</td>\n",
       "      <td>No info</td>\n",
       "      <td>7662</td>\n",
       "      <td>1</td>\n",
       "      <td>5</td>\n",
       "      <td>2019</td>\n",
       "    </tr>\n",
       "    <tr>\n",
       "      <th>2</th>\n",
       "      <td>Jet Airways</td>\n",
       "      <td>Delhi</td>\n",
       "      <td>Cochin</td>\n",
       "      <td>DEL → LKO → BOM → COK</td>\n",
       "      <td>2024-03-20 09:25:00</td>\n",
       "      <td>2024-06-10 04:25:00</td>\n",
       "      <td>19h</td>\n",
       "      <td>2 stops</td>\n",
       "      <td>No info</td>\n",
       "      <td>13882</td>\n",
       "      <td>9</td>\n",
       "      <td>6</td>\n",
       "      <td>2019</td>\n",
       "    </tr>\n",
       "    <tr>\n",
       "      <th>3</th>\n",
       "      <td>IndiGo</td>\n",
       "      <td>Kolkata</td>\n",
       "      <td>Banglore</td>\n",
       "      <td>CCU → NAG → BLR</td>\n",
       "      <td>2024-03-20 18:05:00</td>\n",
       "      <td>2024-03-20 23:30:00</td>\n",
       "      <td>5h 25m</td>\n",
       "      <td>1 stop</td>\n",
       "      <td>No info</td>\n",
       "      <td>6218</td>\n",
       "      <td>12</td>\n",
       "      <td>5</td>\n",
       "      <td>2019</td>\n",
       "    </tr>\n",
       "    <tr>\n",
       "      <th>4</th>\n",
       "      <td>IndiGo</td>\n",
       "      <td>Banglore</td>\n",
       "      <td>New Delhi</td>\n",
       "      <td>BLR → NAG → DEL</td>\n",
       "      <td>2024-03-20 16:50:00</td>\n",
       "      <td>2024-03-20 21:35:00</td>\n",
       "      <td>4h 45m</td>\n",
       "      <td>1 stop</td>\n",
       "      <td>No info</td>\n",
       "      <td>13302</td>\n",
       "      <td>1</td>\n",
       "      <td>3</td>\n",
       "      <td>2019</td>\n",
       "    </tr>\n",
       "  </tbody>\n",
       "</table>\n",
       "</div>"
      ],
      "text/plain": [
       "       Airline    Source Destination                  Route  \\\n",
       "0       IndiGo  Banglore   New Delhi              BLR → DEL   \n",
       "1    Air India   Kolkata    Banglore  CCU → IXR → BBI → BLR   \n",
       "2  Jet Airways     Delhi      Cochin  DEL → LKO → BOM → COK   \n",
       "3       IndiGo   Kolkata    Banglore        CCU → NAG → BLR   \n",
       "4       IndiGo  Banglore   New Delhi        BLR → NAG → DEL   \n",
       "\n",
       "             Dep_Time        Arrival_Time Duration Total_Stops  \\\n",
       "0 2024-03-20 22:20:00 2024-03-22 01:10:00   2h 50m    non-stop   \n",
       "1 2024-03-20 05:50:00 2024-03-20 13:15:00   7h 25m     2 stops   \n",
       "2 2024-03-20 09:25:00 2024-06-10 04:25:00      19h     2 stops   \n",
       "3 2024-03-20 18:05:00 2024-03-20 23:30:00   5h 25m      1 stop   \n",
       "4 2024-03-20 16:50:00 2024-03-20 21:35:00   4h 45m      1 stop   \n",
       "\n",
       "  Additional_Info  Price  journey_day  journey_month  journey_year  \n",
       "0         No info   3897           24              3          2019  \n",
       "1         No info   7662            1              5          2019  \n",
       "2         No info  13882            9              6          2019  \n",
       "3         No info   6218           12              5          2019  \n",
       "4         No info  13302            1              3          2019  "
      ]
     },
     "execution_count": 20,
     "metadata": {},
     "output_type": "execute_result"
    }
   ],
   "source": [
    "data1.head(5)"
   ]
  },
  {
   "cell_type": "markdown",
   "id": "14d212d6",
   "metadata": {},
   "source": [
    "## clean Dep_Time & Arrival_Time & featurize it"
   ]
  },
  {
   "cell_type": "code",
   "execution_count": 21,
   "id": "9224122d",
   "metadata": {},
   "outputs": [
    {
     "data": {
      "text/plain": [
       "dtype('<M8[ns]')"
      ]
     },
     "execution_count": 21,
     "metadata": {},
     "output_type": "execute_result"
    }
   ],
   "source": [
    "data1['Arrival_Time'].dtypes"
   ]
  },
  {
   "cell_type": "code",
   "execution_count": 22,
   "id": "2d341e6a",
   "metadata": {},
   "outputs": [
    {
     "data": {
      "text/plain": [
       "[['01', '10', '00'],\n",
       " ['13', '15', '00'],\n",
       " ['04', '25', '00'],\n",
       " ['23', '30', '00'],\n",
       " ['21', '35', '00'],\n",
       " ['11', '25', '00'],\n",
       " ['10', '25', '00'],\n",
       " ['05', '05', '00'],\n",
       " ['10', '25', '00'],\n",
       " ['19', '15', '00'],\n",
       " ['23', '00', '00'],\n",
       " ['22', '55', '00'],\n",
       " ['13', '55', '00'],\n",
       " ['09', '20', '00'],\n",
       " ['19', '50', '00'],\n",
       " ['19', '15', '00'],\n",
       " ['13', '15', '00'],\n",
       " ['12', '35', '00'],\n",
       " ['19', '15', '00'],\n",
       " ['12', '35', '00'],\n",
       " ['19', '20', '00'],\n",
       " ['13', '20', '00'],\n",
       " ['06', '50', '00'],\n",
       " ['21', '50', '00'],\n",
       " ['08', '15', '00'],\n",
       " ['12', '35', '00'],\n",
       " ['03', '35', '00'],\n",
       " ['12', '55', '00'],\n",
       " ['12', '35', '00'],\n",
       " ['09', '20', '00'],\n",
       " ['09', '20', '00'],\n",
       " ['23', '15', '00'],\n",
       " ['06', '50', '00'],\n",
       " ['12', '35', '00'],\n",
       " ['12', '35', '00'],\n",
       " ['21', '00', '00'],\n",
       " ['20', '20', '00'],\n",
       " ['16', '45', '00'],\n",
       " ['13', '15', '00'],\n",
       " ['19', '00', '00'],\n",
       " ['18', '10', '00'],\n",
       " ['15', '15', '00'],\n",
       " ['19', '00', '00'],\n",
       " ['13', '55', '00'],\n",
       " ['21', '00', '00'],\n",
       " ['08', '35', '00'],\n",
       " ['06', '50', '00'],\n",
       " ['13', '55', '00'],\n",
       " ['11', '05', '00'],\n",
       " ['19', '00', '00'],\n",
       " ['14', '15', '00'],\n",
       " ['10', '55', '00'],\n",
       " ['01', '10', '00'],\n",
       " ['00', '15', '00'],\n",
       " ['02', '45', '00'],\n",
       " ['12', '00', '00'],\n",
       " ['23', '55', '00'],\n",
       " ['09', '20', '00'],\n",
       " ['01', '30', '00'],\n",
       " ['16', '45', '00'],\n",
       " ['21', '50', '00'],\n",
       " ['09', '25', '00'],\n",
       " ['19', '00', '00'],\n",
       " ['01', '30', '00'],\n",
       " ['09', '20', '00'],\n",
       " ['21', '00', '00'],\n",
       " ['12', '35', '00'],\n",
       " ['15', '25', '00'],\n",
       " ['19', '15', '00'],\n",
       " ['15', '35', '00'],\n",
       " ['08', '30', '00'],\n",
       " ['08', '15', '00'],\n",
       " ['19', '00', '00'],\n",
       " ['12', '35', '00'],\n",
       " ['10', '05', '00'],\n",
       " ['12', '35', '00'],\n",
       " ['14', '30', '00'],\n",
       " ['07', '55', '00'],\n",
       " ['12', '35', '00'],\n",
       " ['10', '35', '00'],\n",
       " ['12', '00', '00'],\n",
       " ['22', '35', '00'],\n",
       " ['04', '40', '00'],\n",
       " ['21', '00', '00'],\n",
       " ['19', '00', '00'],\n",
       " ['11', '25', '00'],\n",
       " ['07', '25', '00'],\n",
       " ['04', '25', '00'],\n",
       " ['20', '45', '00'],\n",
       " ['14', '25', '00'],\n",
       " ['22', '30', '00'],\n",
       " ['13', '20', '00'],\n",
       " ['10', '25', '00'],\n",
       " ['19', '15', '00'],\n",
       " ['23', '20', '00'],\n",
       " ['07', '40', '00'],\n",
       " ['08', '35', '00'],\n",
       " ['22', '50', '00'],\n",
       " ['08', '30', '00'],\n",
       " ['12', '35', '00'],\n",
       " ['20', '45', '00'],\n",
       " ['08', '15', '00'],\n",
       " ['04', '25', '00'],\n",
       " ['14', '35', '00'],\n",
       " ['08', '55', '00'],\n",
       " ['04', '25', '00'],\n",
       " ['18', '50', '00'],\n",
       " ['19', '15', '00'],\n",
       " ['19', '15', '00'],\n",
       " ['19', '00', '00'],\n",
       " ['05', '05', '00'],\n",
       " ['21', '50', '00'],\n",
       " ['09', '05', '00'],\n",
       " ['04', '25', '00'],\n",
       " ['12', '55', '00'],\n",
       " ['22', '30', '00'],\n",
       " ['09', '25', '00'],\n",
       " ['01', '35', '00'],\n",
       " ['09', '40', '00'],\n",
       " ['19', '00', '00'],\n",
       " ['08', '35', '00'],\n",
       " ['16', '25', '00'],\n",
       " ['10', '05', '00'],\n",
       " ['19', '15', '00'],\n",
       " ['07', '40', '00'],\n",
       " ['11', '10', '00'],\n",
       " ['08', '15', '00'],\n",
       " ['12', '00', '00'],\n",
       " ['06', '50', '00'],\n",
       " ['17', '05', '00'],\n",
       " ['19', '50', '00'],\n",
       " ['04', '25', '00'],\n",
       " ['17', '50', '00'],\n",
       " ['23', '10', '00'],\n",
       " ['01', '30', '00'],\n",
       " ['19', '00', '00'],\n",
       " ['04', '25', '00'],\n",
       " ['19', '15', '00'],\n",
       " ['08', '45', '00'],\n",
       " ['18', '50', '00'],\n",
       " ['01', '30', '00'],\n",
       " ['07', '45', '00'],\n",
       " ['07', '25', '00'],\n",
       " ['16', '10', '00'],\n",
       " ['00', '55', '00'],\n",
       " ['23', '35', '00'],\n",
       " ['04', '25', '00'],\n",
       " ['09', '25', '00'],\n",
       " ['20', '00', '00'],\n",
       " ['21', '00', '00'],\n",
       " ['00', '40', '00'],\n",
       " ['18', '50', '00'],\n",
       " ['14', '30', '00'],\n",
       " ['20', '45', '00'],\n",
       " ['08', '15', '00'],\n",
       " ['07', '55', '00'],\n",
       " ['12', '35', '00'],\n",
       " ['21', '45', '00'],\n",
       " ['18', '15', '00'],\n",
       " ['04', '25', '00'],\n",
       " ['14', '25', '00'],\n",
       " ['03', '25', '00'],\n",
       " ['13', '15', '00'],\n",
       " ['16', '10', '00'],\n",
       " ['13', '15', '00'],\n",
       " ['04', '25', '00'],\n",
       " ['15', '25', '00'],\n",
       " ['08', '35', '00'],\n",
       " ['04', '25', '00'],\n",
       " ['04', '15', '00'],\n",
       " ['12', '35', '00'],\n",
       " ['21', '10', '00'],\n",
       " ['21', '05', '00'],\n",
       " ['21', '00', '00'],\n",
       " ['09', '20', '00'],\n",
       " ['10', '05', '00'],\n",
       " ['01', '30', '00'],\n",
       " ['18', '50', '00'],\n",
       " ['10', '05', '00'],\n",
       " ['21', '00', '00'],\n",
       " ['04', '25', '00'],\n",
       " ['21', '05', '00'],\n",
       " ['01', '30', '00'],\n",
       " ['12', '00', '00'],\n",
       " ['17', '05', '00'],\n",
       " ['13', '15', '00'],\n",
       " ['03', '35', '00'],\n",
       " ['09', '45', '00'],\n",
       " ['18', '05', '00'],\n",
       " ['13', '55', '00'],\n",
       " ['17', '05', '00'],\n",
       " ['06', '50', '00'],\n",
       " ['22', '30', '00'],\n",
       " ['22', '00', '00'],\n",
       " ['15', '15', '00'],\n",
       " ['12', '00', '00'],\n",
       " ['04', '40', '00'],\n",
       " ['04', '25', '00'],\n",
       " ['16', '10', '00'],\n",
       " ['15', '30', '00'],\n",
       " ['07', '40', '00'],\n",
       " ['23', '55', '00'],\n",
       " ['08', '50', '00'],\n",
       " ['08', '00', '00'],\n",
       " ['19', '00', '00'],\n",
       " ['18', '10', '00'],\n",
       " ['01', '35', '00'],\n",
       " ['19', '35', '00'],\n",
       " ['23', '35', '00'],\n",
       " ['04', '25', '00'],\n",
       " ['03', '25', '00'],\n",
       " ['11', '20', '00'],\n",
       " ['16', '10', '00'],\n",
       " ['19', '15', '00'],\n",
       " ['10', '05', '00'],\n",
       " ['10', '15', '00'],\n",
       " ['18', '50', '00'],\n",
       " ['04', '15', '00'],\n",
       " ['18', '10', '00'],\n",
       " ['19', '00', '00'],\n",
       " ['12', '45', '00'],\n",
       " ['19', '15', '00'],\n",
       " ['08', '35', '00'],\n",
       " ['19', '15', '00'],\n",
       " ['04', '25', '00'],\n",
       " ['19', '15', '00'],\n",
       " ['18', '50', '00'],\n",
       " ['02', '20', '00'],\n",
       " ['07', '15', '00'],\n",
       " ['11', '50', '00'],\n",
       " ['18', '30', '00'],\n",
       " ['23', '20', '00'],\n",
       " ['19', '15', '00'],\n",
       " ['19', '45', '00'],\n",
       " ['03', '35', '00'],\n",
       " ['12', '55', '00'],\n",
       " ['19', '45', '00'],\n",
       " ['21', '00', '00'],\n",
       " ['21', '20', '00'],\n",
       " ['19', '00', '00'],\n",
       " ['20', '20', '00'],\n",
       " ['12', '00', '00'],\n",
       " ['21', '00', '00'],\n",
       " ['12', '00', '00'],\n",
       " ['09', '20', '00'],\n",
       " ['02', '20', '00'],\n",
       " ['04', '25', '00'],\n",
       " ['21', '00', '00'],\n",
       " ['20', '05', '00'],\n",
       " ['13', '15', '00'],\n",
       " ['09', '10', '00'],\n",
       " ['19', '15', '00'],\n",
       " ['19', '50', '00'],\n",
       " ['22', '20', '00'],\n",
       " ['19', '15', '00'],\n",
       " ['14', '30', '00'],\n",
       " ['12', '45', '00'],\n",
       " ['10', '10', '00'],\n",
       " ['19', '00', '00'],\n",
       " ['19', '00', '00'],\n",
       " ['01', '00', '00'],\n",
       " ['23', '50', '00'],\n",
       " ['12', '20', '00'],\n",
       " ['16', '10', '00'],\n",
       " ['20', '25', '00'],\n",
       " ['01', '35', '00'],\n",
       " ['01', '30', '00'],\n",
       " ['07', '55', '00'],\n",
       " ['13', '55', '00'],\n",
       " ['05', '05', '00'],\n",
       " ['10', '05', '00'],\n",
       " ['16', '10', '00'],\n",
       " ['19', '15', '00'],\n",
       " ['01', '30', '00'],\n",
       " ['09', '25', '00'],\n",
       " ['22', '45', '00'],\n",
       " ['07', '40', '00'],\n",
       " ['21', '25', '00'],\n",
       " ['08', '15', '00'],\n",
       " ['08', '50', '00'],\n",
       " ['19', '50', '00'],\n",
       " ['09', '25', '00'],\n",
       " ['14', '05', '00'],\n",
       " ['12', '00', '00'],\n",
       " ['00', '05', '00'],\n",
       " ['01', '30', '00'],\n",
       " ['19', '55', '00'],\n",
       " ['12', '35', '00'],\n",
       " ['04', '25', '00'],\n",
       " ['16', '20', '00'],\n",
       " ['13', '20', '00'],\n",
       " ['19', '15', '00'],\n",
       " ['18', '15', '00'],\n",
       " ['07', '05', '00'],\n",
       " ['00', '05', '00'],\n",
       " ['11', '20', '00'],\n",
       " ['19', '10', '00'],\n",
       " ['12', '05', '00'],\n",
       " ['19', '15', '00'],\n",
       " ['19', '35', '00'],\n",
       " ['04', '05', '00'],\n",
       " ['09', '40', '00'],\n",
       " ['12', '55', '00'],\n",
       " ['04', '25', '00'],\n",
       " ['21', '20', '00'],\n",
       " ['04', '25', '00'],\n",
       " ['15', '15', '00'],\n",
       " ['09', '25', '00'],\n",
       " ['07', '40', '00'],\n",
       " ['19', '40', '00'],\n",
       " ['19', '50', '00'],\n",
       " ['19', '00', '00'],\n",
       " ['12', '00', '00'],\n",
       " ['21', '00', '00'],\n",
       " ['15', '35', '00'],\n",
       " ['19', '15', '00'],\n",
       " ['20', '05', '00'],\n",
       " ['01', '30', '00'],\n",
       " ['04', '25', '00'],\n",
       " ['17', '55', '00'],\n",
       " ['18', '10', '00'],\n",
       " ['04', '25', '00'],\n",
       " ['17', '25', '00'],\n",
       " ['00', '30', '00'],\n",
       " ['20', '45', '00'],\n",
       " ['19', '00', '00'],\n",
       " ['04', '25', '00'],\n",
       " ['19', '15', '00'],\n",
       " ['21', '20', '00'],\n",
       " ['20', '45', '00'],\n",
       " ['13', '15', '00'],\n",
       " ['22', '20', '00'],\n",
       " ['23', '40', '00'],\n",
       " ['23', '05', '00'],\n",
       " ['00', '05', '00'],\n",
       " ['23', '30', '00'],\n",
       " ['12', '35', '00'],\n",
       " ['19', '00', '00'],\n",
       " ['08', '00', '00'],\n",
       " ['19', '00', '00'],\n",
       " ['22', '50', '00'],\n",
       " ['01', '30', '00'],\n",
       " ['10', '55', '00'],\n",
       " ['01', '30', '00'],\n",
       " ['19', '15', '00'],\n",
       " ['00', '50', '00'],\n",
       " ['19', '00', '00'],\n",
       " ['12', '35', '00'],\n",
       " ['13', '45', '00'],\n",
       " ['20', '45', '00'],\n",
       " ['08', '45', '00'],\n",
       " ['10', '05', '00'],\n",
       " ['00', '05', '00'],\n",
       " ['09', '15', '00'],\n",
       " ['04', '25', '00'],\n",
       " ['02', '20', '00'],\n",
       " ['20', '35', '00'],\n",
       " ['07', '10', '00'],\n",
       " ['20', '45', '00'],\n",
       " ['12', '35', '00'],\n",
       " ['22', '00', '00'],\n",
       " ['09', '35', '00'],\n",
       " ['14', '20', '00'],\n",
       " ['08', '55', '00'],\n",
       " ['04', '45', '00'],\n",
       " ['06', '50', '00'],\n",
       " ['22', '30', '00'],\n",
       " ['17', '05', '00'],\n",
       " ['10', '30', '00'],\n",
       " ['21', '20', '00'],\n",
       " ['09', '10', '00'],\n",
       " ['19', '25', '00'],\n",
       " ['22', '50', '00'],\n",
       " ['12', '20', '00'],\n",
       " ['20', '35', '00'],\n",
       " ['19', '00', '00'],\n",
       " ['18', '50', '00'],\n",
       " ['04', '40', '00'],\n",
       " ['05', '35', '00'],\n",
       " ['09', '00', '00'],\n",
       " ['01', '35', '00'],\n",
       " ['12', '35', '00'],\n",
       " ['19', '55', '00'],\n",
       " ['22', '40', '00'],\n",
       " ['19', '00', '00'],\n",
       " ['20', '05', '00'],\n",
       " ['19', '00', '00'],\n",
       " ['14', '45', '00'],\n",
       " ['00', '50', '00'],\n",
       " ['19', '00', '00'],\n",
       " ['19', '00', '00'],\n",
       " ['13', '25', '00'],\n",
       " ['19', '15', '00'],\n",
       " ['01', '35', '00'],\n",
       " ['19', '00', '00'],\n",
       " ['12', '20', '00'],\n",
       " ['19', '15', '00'],\n",
       " ['21', '55', '00'],\n",
       " ['19', '45', '00'],\n",
       " ['05', '35', '00'],\n",
       " ['10', '45', '00'],\n",
       " ['12', '35', '00'],\n",
       " ['07', '40', '00'],\n",
       " ['10', '40', '00'],\n",
       " ['07', '40', '00'],\n",
       " ['04', '40', '00'],\n",
       " ['07', '40', '00'],\n",
       " ['02', '20', '00'],\n",
       " ['19', '15', '00'],\n",
       " ['19', '15', '00'],\n",
       " ['19', '15', '00'],\n",
       " ['12', '00', '00'],\n",
       " ['04', '25', '00'],\n",
       " ['04', '25', '00'],\n",
       " ['13', '00', '00'],\n",
       " ['22', '10', '00'],\n",
       " ['09', '20', '00'],\n",
       " ['12', '35', '00'],\n",
       " ['18', '50', '00'],\n",
       " ['18', '50', '00'],\n",
       " ['16', '10', '00'],\n",
       " ['16', '20', '00'],\n",
       " ['11', '50', '00'],\n",
       " ['02', '20', '00'],\n",
       " ['12', '00', '00'],\n",
       " ['19', '00', '00'],\n",
       " ['18', '35', '00'],\n",
       " ['19', '15', '00'],\n",
       " ['00', '05', '00'],\n",
       " ['22', '40', '00'],\n",
       " ['09', '40', '00'],\n",
       " ['21', '00', '00'],\n",
       " ['05', '25', '00'],\n",
       " ['18', '10', '00'],\n",
       " ['22', '15', '00'],\n",
       " ['19', '00', '00'],\n",
       " ['16', '10', '00'],\n",
       " ['17', '50', '00'],\n",
       " ['19', '15', '00'],\n",
       " ['19', '15', '00'],\n",
       " ['23', '55', '00'],\n",
       " ['20', '45', '00'],\n",
       " ['12', '10', '00'],\n",
       " ['12', '15', '00'],\n",
       " ['04', '40', '00'],\n",
       " ['21', '20', '00'],\n",
       " ['19', '15', '00'],\n",
       " ['12', '00', '00'],\n",
       " ['04', '40', '00'],\n",
       " ['19', '50', '00'],\n",
       " ['19', '00', '00'],\n",
       " ['19', '15', '00'],\n",
       " ['12', '35', '00'],\n",
       " ['14', '30', '00'],\n",
       " ['12', '10', '00'],\n",
       " ['19', '15', '00'],\n",
       " ['19', '00', '00'],\n",
       " ['14', '00', '00'],\n",
       " ['02', '15', '00'],\n",
       " ['01', '30', '00'],\n",
       " ['19', '15', '00'],\n",
       " ['22', '50', '00'],\n",
       " ['22', '50', '00'],\n",
       " ['08', '45', '00'],\n",
       " ['17', '25', '00'],\n",
       " ['04', '40', '00'],\n",
       " ['19', '55', '00'],\n",
       " ['01', '30', '00'],\n",
       " ['22', '15', '00'],\n",
       " ['09', '40', '00'],\n",
       " ['04', '25', '00'],\n",
       " ['19', '15', '00'],\n",
       " ['01', '30', '00'],\n",
       " ['04', '25', '00'],\n",
       " ['18', '50', '00'],\n",
       " ['12', '50', '00'],\n",
       " ['22', '15', '00'],\n",
       " ['19', '50', '00'],\n",
       " ['11', '20', '00'],\n",
       " ['11', '20', '00'],\n",
       " ['12', '00', '00'],\n",
       " ['21', '00', '00'],\n",
       " ['17', '15', '00'],\n",
       " ['19', '00', '00'],\n",
       " ['00', '40', '00'],\n",
       " ['07', '35', '00'],\n",
       " ['15', '15', '00'],\n",
       " ['23', '45', '00'],\n",
       " ['15', '35', '00'],\n",
       " ['22', '10', '00'],\n",
       " ['22', '45', '00'],\n",
       " ['12', '35', '00'],\n",
       " ['07', '40', '00'],\n",
       " ['22', '30', '00'],\n",
       " ['23', '00', '00'],\n",
       " ['09', '20', '00'],\n",
       " ['04', '25', '00'],\n",
       " ['19', '00', '00'],\n",
       " ['20', '20', '00'],\n",
       " ['12', '35', '00'],\n",
       " ['10', '05', '00'],\n",
       " ['21', '35', '00'],\n",
       " ['04', '25', '00'],\n",
       " ['19', '15', '00'],\n",
       " ['04', '25', '00'],\n",
       " ['22', '25', '00'],\n",
       " ['19', '45', '00'],\n",
       " ['07', '40', '00'],\n",
       " ['18', '50', '00'],\n",
       " ['04', '25', '00'],\n",
       " ['12', '25', '00'],\n",
       " ['10', '15', '00'],\n",
       " ['16', '10', '00'],\n",
       " ['20', '45', '00'],\n",
       " ['09', '25', '00'],\n",
       " ['19', '15', '00'],\n",
       " ['09', '20', '00'],\n",
       " ['19', '00', '00'],\n",
       " ['01', '35', '00'],\n",
       " ['06', '50', '00'],\n",
       " ['21', '20', '00'],\n",
       " ['11', '20', '00'],\n",
       " ['06', '35', '00'],\n",
       " ['10', '35', '00'],\n",
       " ['15', '15', '00'],\n",
       " ['08', '55', '00'],\n",
       " ['12', '35', '00'],\n",
       " ['19', '00', '00'],\n",
       " ['14', '30', '00'],\n",
       " ['08', '00', '00'],\n",
       " ['01', '20', '00'],\n",
       " ['23', '00', '00'],\n",
       " ['04', '25', '00'],\n",
       " ['12', '00', '00'],\n",
       " ['19', '10', '00'],\n",
       " ['18', '15', '00'],\n",
       " ['11', '25', '00'],\n",
       " ['12', '05', '00'],\n",
       " ['18', '10', '00'],\n",
       " ['07', '15', '00'],\n",
       " ['22', '15', '00'],\n",
       " ['16', '45', '00'],\n",
       " ['19', '15', '00'],\n",
       " ['16', '20', '00'],\n",
       " ['18', '45', '00'],\n",
       " ['07', '45', '00'],\n",
       " ['12', '35', '00'],\n",
       " ['09', '30', '00'],\n",
       " ['10', '40', '00'],\n",
       " ['20', '25', '00'],\n",
       " ['12', '10', '00'],\n",
       " ['04', '25', '00'],\n",
       " ['09', '20', '00'],\n",
       " ['19', '15', '00'],\n",
       " ['22', '00', '00'],\n",
       " ['18', '50', '00'],\n",
       " ['17', '50', '00'],\n",
       " ['16', '10', '00'],\n",
       " ['21', '05', '00'],\n",
       " ['23', '35', '00'],\n",
       " ['10', '05', '00'],\n",
       " ['22', '55', '00'],\n",
       " ['01', '30', '00'],\n",
       " ['14', '15', '00'],\n",
       " ['19', '10', '00'],\n",
       " ['01', '30', '00'],\n",
       " ['18', '50', '00'],\n",
       " ['10', '10', '00'],\n",
       " ['22', '55', '00'],\n",
       " ['04', '25', '00'],\n",
       " ['19', '10', '00'],\n",
       " ['22', '50', '00'],\n",
       " ['23', '55', '00'],\n",
       " ['22', '35', '00'],\n",
       " ['12', '10', '00'],\n",
       " ['23', '55', '00'],\n",
       " ['07', '40', '00'],\n",
       " ['00', '40', '00'],\n",
       " ['19', '00', '00'],\n",
       " ['19', '35', '00'],\n",
       " ['14', '05', '00'],\n",
       " ['21', '10', '00'],\n",
       " ['12', '55', '00'],\n",
       " ['19', '00', '00'],\n",
       " ['04', '20', '00'],\n",
       " ['16', '10', '00'],\n",
       " ['09', '40', '00'],\n",
       " ['10', '05', '00'],\n",
       " ['04', '25', '00'],\n",
       " ['10', '45', '00'],\n",
       " ['04', '40', '00'],\n",
       " ['10', '10', '00'],\n",
       " ['10', '10', '00'],\n",
       " ['12', '45', '00'],\n",
       " ['04', '40', '00'],\n",
       " ['21', '55', '00'],\n",
       " ['18', '15', '00'],\n",
       " ['15', '15', '00'],\n",
       " ['12', '35', '00'],\n",
       " ['09', '25', '00'],\n",
       " ['19', '15', '00'],\n",
       " ['19', '40', '00'],\n",
       " ['19', '15', '00'],\n",
       " ['07', '40', '00'],\n",
       " ['04', '25', '00'],\n",
       " ['10', '50', '00'],\n",
       " ['18', '15', '00'],\n",
       " ['22', '25', '00'],\n",
       " ['12', '00', '00'],\n",
       " ['04', '25', '00'],\n",
       " ['00', '05', '00'],\n",
       " ['19', '15', '00'],\n",
       " ['19', '00', '00'],\n",
       " ['04', '25', '00'],\n",
       " ['19', '40', '00'],\n",
       " ['19', '00', '00'],\n",
       " ['22', '55', '00'],\n",
       " ['19', '45', '00'],\n",
       " ['07', '45', '00'],\n",
       " ['01', '30', '00'],\n",
       " ['23', '25', '00'],\n",
       " ['21', '25', '00'],\n",
       " ['00', '05', '00'],\n",
       " ['14', '25', '00'],\n",
       " ['22', '20', '00'],\n",
       " ['07', '40', '00'],\n",
       " ['22', '05', '00'],\n",
       " ['10', '45', '00'],\n",
       " ['05', '05', '00'],\n",
       " ['04', '40', '00'],\n",
       " ['12', '15', '00'],\n",
       " ['19', '50', '00'],\n",
       " ['10', '40', '00'],\n",
       " ['11', '20', '00'],\n",
       " ['23', '50', '00'],\n",
       " ['22', '45', '00'],\n",
       " ['18', '50', '00'],\n",
       " ['16', '10', '00'],\n",
       " ['19', '00', '00'],\n",
       " ['13', '55', '00'],\n",
       " ['19', '50', '00'],\n",
       " ['12', '35', '00'],\n",
       " ['23', '35', '00'],\n",
       " ['04', '25', '00'],\n",
       " ['10', '45', '00'],\n",
       " ['22', '50', '00'],\n",
       " ['19', '15', '00'],\n",
       " ['21', '00', '00'],\n",
       " ['07', '55', '00'],\n",
       " ['13', '55', '00'],\n",
       " ['23', '50', '00'],\n",
       " ['08', '55', '00'],\n",
       " ['13', '15', '00'],\n",
       " ['12', '35', '00'],\n",
       " ['13', '30', '00'],\n",
       " ['14', '45', '00'],\n",
       " ['23', '15', '00'],\n",
       " ['10', '45', '00'],\n",
       " ['19', '15', '00'],\n",
       " ['12', '35', '00'],\n",
       " ['12', '35', '00'],\n",
       " ['04', '25', '00'],\n",
       " ['19', '00', '00'],\n",
       " ['10', '35', '00'],\n",
       " ['13', '55', '00'],\n",
       " ['05', '35', '00'],\n",
       " ['23', '50', '00'],\n",
       " ['19', '15', '00'],\n",
       " ['10', '05', '00'],\n",
       " ['10', '40', '00'],\n",
       " ['04', '25', '00'],\n",
       " ['21', '00', '00'],\n",
       " ['19', '15', '00'],\n",
       " ['19', '15', '00'],\n",
       " ['04', '40', '00'],\n",
       " ['13', '00', '00'],\n",
       " ['23', '40', '00'],\n",
       " ['19', '00', '00'],\n",
       " ['09', '45', '00'],\n",
       " ['15', '35', '00'],\n",
       " ['19', '00', '00'],\n",
       " ['22', '15', '00'],\n",
       " ['18', '15', '00'],\n",
       " ['04', '25', '00'],\n",
       " ['00', '15', '00'],\n",
       " ['13', '35', '00'],\n",
       " ['07', '35', '00'],\n",
       " ['19', '15', '00'],\n",
       " ['13', '55', '00'],\n",
       " ['21', '20', '00'],\n",
       " ['21', '05', '00'],\n",
       " ['22', '30', '00'],\n",
       " ['22', '55', '00'],\n",
       " ['10', '10', '00'],\n",
       " ['14', '25', '00'],\n",
       " ['16', '10', '00'],\n",
       " ['01', '30', '00'],\n",
       " ['15', '35', '00'],\n",
       " ['01', '30', '00'],\n",
       " ['04', '25', '00'],\n",
       " ['18', '30', '00'],\n",
       " ['12', '45', '00'],\n",
       " ['04', '25', '00'],\n",
       " ['23', '05', '00'],\n",
       " ['14', '30', '00'],\n",
       " ['20', '05', '00'],\n",
       " ['17', '35', '00'],\n",
       " ['04', '40', '00'],\n",
       " ['19', '15', '00'],\n",
       " ['19', '35', '00'],\n",
       " ['21', '00', '00'],\n",
       " ['07', '15', '00'],\n",
       " ['19', '45', '00'],\n",
       " ['16', '20', '00'],\n",
       " ['08', '20', '00'],\n",
       " ['12', '10', '00'],\n",
       " ['07', '35', '00'],\n",
       " ['19', '15', '00'],\n",
       " ['18', '25', '00'],\n",
       " ['09', '10', '00'],\n",
       " ['18', '50', '00'],\n",
       " ['19', '00', '00'],\n",
       " ['10', '20', '00'],\n",
       " ['19', '00', '00'],\n",
       " ['07', '25', '00'],\n",
       " ['19', '50', '00'],\n",
       " ['19', '35', '00'],\n",
       " ['04', '25', '00'],\n",
       " ['12', '35', '00'],\n",
       " ['23', '00', '00'],\n",
       " ['21', '00', '00'],\n",
       " ['18', '10', '00'],\n",
       " ['20', '20', '00'],\n",
       " ['20', '05', '00'],\n",
       " ['08', '30', '00'],\n",
       " ['13', '00', '00'],\n",
       " ['00', '40', '00'],\n",
       " ['00', '40', '00'],\n",
       " ['23', '00', '00'],\n",
       " ['16', '20', '00'],\n",
       " ['19', '50', '00'],\n",
       " ['12', '00', '00'],\n",
       " ['12', '35', '00'],\n",
       " ['12', '35', '00'],\n",
       " ['04', '20', '00'],\n",
       " ['00', '15', '00'],\n",
       " ['15', '30', '00'],\n",
       " ['13', '55', '00'],\n",
       " ['01', '30', '00'],\n",
       " ['11', '50', '00'],\n",
       " ['01', '30', '00'],\n",
       " ['12', '20', '00'],\n",
       " ['21', '00', '00'],\n",
       " ['19', '15', '00'],\n",
       " ['13', '25', '00'],\n",
       " ['16', '10', '00'],\n",
       " ['19', '15', '00'],\n",
       " ['18', '10', '00'],\n",
       " ['19', '00', '00'],\n",
       " ['15', '50', '00'],\n",
       " ['11', '30', '00'],\n",
       " ['10', '15', '00'],\n",
       " ['19', '00', '00'],\n",
       " ['07', '15', '00'],\n",
       " ['13', '00', '00'],\n",
       " ['12', '55', '00'],\n",
       " ['11', '05', '00'],\n",
       " ['19', '00', '00'],\n",
       " ['23', '25', '00'],\n",
       " ['23', '25', '00'],\n",
       " ['04', '25', '00'],\n",
       " ['12', '20', '00'],\n",
       " ['01', '35', '00'],\n",
       " ['01', '30', '00'],\n",
       " ['09', '40', '00'],\n",
       " ['07', '40', '00'],\n",
       " ['17', '50', '00'],\n",
       " ['18', '45', '00'],\n",
       " ['23', '35', '00'],\n",
       " ['16', '10', '00'],\n",
       " ['12', '55', '00'],\n",
       " ['18', '50', '00'],\n",
       " ['04', '25', '00'],\n",
       " ['22', '30', '00'],\n",
       " ['12', '35', '00'],\n",
       " ['23', '25', '00'],\n",
       " ['18', '50', '00'],\n",
       " ['19', '15', '00'],\n",
       " ['17', '05', '00'],\n",
       " ['16', '20', '00'],\n",
       " ['05', '25', '00'],\n",
       " ['22', '50', '00'],\n",
       " ['19', '35', '00'],\n",
       " ['09', '40', '00'],\n",
       " ['19', '00', '00'],\n",
       " ['21', '50', '00'],\n",
       " ['10', '10', '00'],\n",
       " ['01', '30', '00'],\n",
       " ['19', '15', '00'],\n",
       " ['09', '25', '00'],\n",
       " ['20', '25', '00'],\n",
       " ['01', '00', '00'],\n",
       " ['09', '05', '00'],\n",
       " ['22', '10', '00'],\n",
       " ['14', '10', '00'],\n",
       " ['21', '20', '00'],\n",
       " ['19', '00', '00'],\n",
       " ['23', '55', '00'],\n",
       " ['21', '00', '00'],\n",
       " ['00', '25', '00'],\n",
       " ['04', '25', '00'],\n",
       " ['22', '30', '00'],\n",
       " ['04', '40', '00'],\n",
       " ['09', '40', '00'],\n",
       " ['04', '15', '00'],\n",
       " ['01', '00', '00'],\n",
       " ['14', '35', '00'],\n",
       " ['20', '45', '00'],\n",
       " ['01', '35', '00'],\n",
       " ['20', '45', '00'],\n",
       " ['18', '10', '00'],\n",
       " ['12', '35', '00'],\n",
       " ['04', '25', '00'],\n",
       " ['04', '25', '00'],\n",
       " ['21', '10', '00'],\n",
       " ['19', '00', '00'],\n",
       " ['16', '10', '00'],\n",
       " ['09', '45', '00'],\n",
       " ['08', '45', '00'],\n",
       " ['22', '40', '00'],\n",
       " ['19', '15', '00'],\n",
       " ['19', '00', '00'],\n",
       " ['19', '00', '00'],\n",
       " ['19', '00', '00'],\n",
       " ['08', '20', '00'],\n",
       " ['18', '15', '00'],\n",
       " ['16', '10', '00'],\n",
       " ['13', '25', '00'],\n",
       " ['19', '00', '00'],\n",
       " ['19', '00', '00'],\n",
       " ['16', '10', '00'],\n",
       " ['19', '00', '00'],\n",
       " ['19', '00', '00'],\n",
       " ['02', '20', '00'],\n",
       " ['20', '45', '00'],\n",
       " ['19', '15', '00'],\n",
       " ['12', '35', '00'],\n",
       " ['08', '20', '00'],\n",
       " ['05', '25', '00'],\n",
       " ['13', '25', '00'],\n",
       " ['22', '15', '00'],\n",
       " ['01', '30', '00'],\n",
       " ['12', '20', '00'],\n",
       " ['02', '15', '00'],\n",
       " ['19', '15', '00'],\n",
       " ['03', '15', '00'],\n",
       " ['05', '25', '00'],\n",
       " ['00', '15', '00'],\n",
       " ['19', '50', '00'],\n",
       " ['10', '05', '00'],\n",
       " ['03', '25', '00'],\n",
       " ['08', '50', '00'],\n",
       " ['19', '15', '00'],\n",
       " ['22', '05', '00'],\n",
       " ['23', '00', '00'],\n",
       " ['09', '25', '00'],\n",
       " ['21', '10', '00'],\n",
       " ['21', '10', '00'],\n",
       " ['23', '35', '00'],\n",
       " ['15', '55', '00'],\n",
       " ['21', '00', '00'],\n",
       " ['21', '00', '00'],\n",
       " ['10', '05', '00'],\n",
       " ['19', '10', '00'],\n",
       " ['01', '30', '00'],\n",
       " ['01', '35', '00'],\n",
       " ['18', '10', '00'],\n",
       " ['13', '15', '00'],\n",
       " ['09', '35', '00'],\n",
       " ['19', '40', '00'],\n",
       " ['09', '45', '00'],\n",
       " ['13', '45', '00'],\n",
       " ['08', '30', '00'],\n",
       " ['04', '25', '00'],\n",
       " ['19', '00', '00'],\n",
       " ['16', '10', '00'],\n",
       " ['12', '35', '00'],\n",
       " ['16', '10', '00'],\n",
       " ['10', '05', '00'],\n",
       " ['23', '45', '00'],\n",
       " ['21', '00', '00'],\n",
       " ['09', '00', '00'],\n",
       " ['09', '25', '00'],\n",
       " ['23', '30', '00'],\n",
       " ['10', '30', '00'],\n",
       " ['16', '10', '00'],\n",
       " ['18', '10', '00'],\n",
       " ['09', '20', '00'],\n",
       " ['10', '50', '00'],\n",
       " ['16', '20', '00'],\n",
       " ['21', '05', '00'],\n",
       " ['04', '25', '00'],\n",
       " ['23', '55', '00'],\n",
       " ['12', '35', '00'],\n",
       " ['04', '25', '00'],\n",
       " ['16', '10', '00'],\n",
       " ['12', '35', '00'],\n",
       " ['12', '10', '00'],\n",
       " ['19', '15', '00'],\n",
       " ['18', '05', '00'],\n",
       " ['19', '15', '00'],\n",
       " ['11', '25', '00'],\n",
       " ['19', '50', '00'],\n",
       " ['20', '45', '00'],\n",
       " ['12', '55', '00'],\n",
       " ['19', '00', '00'],\n",
       " ['01', '35', '00'],\n",
       " ['01', '30', '00'],\n",
       " ['04', '25', '00'],\n",
       " ['23', '15', '00'],\n",
       " ['09', '20', '00'],\n",
       " ['22', '25', '00'],\n",
       " ['00', '40', '00'],\n",
       " ['16', '45', '00'],\n",
       " ['04', '25', '00'],\n",
       " ['04', '25', '00'],\n",
       " ['23', '00', '00'],\n",
       " ['15', '30', '00'],\n",
       " ['18', '50', '00'],\n",
       " ['00', '15', '00'],\n",
       " ['18', '25', '00'],\n",
       " ['14', '05', '00'],\n",
       " ['21', '20', '00'],\n",
       " ['22', '45', '00'],\n",
       " ['20', '20', '00'],\n",
       " ['19', '00', '00'],\n",
       " ['19', '10', '00'],\n",
       " ['04', '25', '00'],\n",
       " ['01', '30', '00'],\n",
       " ['04', '25', '00'],\n",
       " ['04', '25', '00'],\n",
       " ['19', '00', '00'],\n",
       " ['06', '50', '00'],\n",
       " ['12', '35', '00'],\n",
       " ['04', '15', '00'],\n",
       " ['00', '15', '00'],\n",
       " ['19', '10', '00'],\n",
       " ['10', '05', '00'],\n",
       " ['04', '40', '00'],\n",
       " ['16', '20', '00'],\n",
       " ['22', '20', '00'],\n",
       " ['00', '25', '00'],\n",
       " ['04', '25', '00'],\n",
       " ['06', '50', '00'],\n",
       " ['04', '25', '00'],\n",
       " ['04', '40', '00'],\n",
       " ['04', '25', '00'],\n",
       " ['19', '40', '00'],\n",
       " ['07', '55', '00'],\n",
       " ['00', '45', '00'],\n",
       " ['14', '45', '00'],\n",
       " ['04', '35', '00'],\n",
       " ['22', '25', '00'],\n",
       " ['04', '25', '00'],\n",
       " ['00', '15', '00'],\n",
       " ['09', '30', '00'],\n",
       " ['19', '15', '00'],\n",
       " ['08', '35', '00'],\n",
       " ['02', '20', '00'],\n",
       " ['19', '15', '00'],\n",
       " ['19', '15', '00'],\n",
       " ['16', '25', '00'],\n",
       " ['04', '35', '00'],\n",
       " ['09', '20', '00'],\n",
       " ['12', '35', '00'],\n",
       " ['00', '45', '00'],\n",
       " ['11', '25', '00'],\n",
       " ['04', '40', '00'],\n",
       " ['10', '45', '00'],\n",
       " ['00', '25', '00'],\n",
       " ['08', '45', '00'],\n",
       " ['10', '30', '00'],\n",
       " ['12', '55', '00'],\n",
       " ['16', '45', '00'],\n",
       " ['10', '25', '00'],\n",
       " ['01', '30', '00'],\n",
       " ['13', '55', '00'],\n",
       " ['18', '00', '00'],\n",
       " ['01', '30', '00'],\n",
       " ['04', '25', '00'],\n",
       " ['01', '30', '00'],\n",
       " ['22', '10', '00'],\n",
       " ['21', '20', '00'],\n",
       " ['19', '55', '00'],\n",
       " ['18', '50', '00'],\n",
       " ['01', '20', '00'],\n",
       " ['04', '40', '00'],\n",
       " ['19', '00', '00'],\n",
       " ['19', '00', '00'],\n",
       " ['04', '40', '00'],\n",
       " ...]"
      ]
     },
     "execution_count": 22,
     "metadata": {},
     "output_type": "execute_result"
    }
   ],
   "source": [
    "s = []\n",
    "for ele in data1['Arrival_Time']:\n",
    "    ans = str(ele)\n",
    "    ans1 = ans.split(\" \")\n",
    "    ans2 = ans1[1]\n",
    "    ans3 = ans2.split(\":\")\n",
    "    s.append(ans3)\n",
    "s"
   ]
  },
  {
   "cell_type": "code",
   "execution_count": 23,
   "id": "70487f94",
   "metadata": {},
   "outputs": [],
   "source": [
    "def extract_hour_min(df,col):\n",
    "    df[col+\"_hour\"] = df[col].dt.hour\n",
    "    df[col+\"_min\"] = df[col].dt.minute\n",
    "    df.drop(col, axis=1,inplace = True)   ###axis = 1 coz wanted to drop it in vertical way\n",
    "    return df\n",
    "    "
   ]
  },
  {
   "cell_type": "code",
   "execution_count": 24,
   "id": "052f4641",
   "metadata": {},
   "outputs": [
    {
     "data": {
      "text/html": [
       "<div>\n",
       "<style scoped>\n",
       "    .dataframe tbody tr th:only-of-type {\n",
       "        vertical-align: middle;\n",
       "    }\n",
       "\n",
       "    .dataframe tbody tr th {\n",
       "        vertical-align: top;\n",
       "    }\n",
       "\n",
       "    .dataframe thead th {\n",
       "        text-align: right;\n",
       "    }\n",
       "</style>\n",
       "<table border=\"1\" class=\"dataframe\">\n",
       "  <thead>\n",
       "    <tr style=\"text-align: right;\">\n",
       "      <th></th>\n",
       "      <th>Airline</th>\n",
       "      <th>Source</th>\n",
       "      <th>Destination</th>\n",
       "      <th>Route</th>\n",
       "      <th>Arrival_Time</th>\n",
       "      <th>Duration</th>\n",
       "      <th>Total_Stops</th>\n",
       "      <th>Additional_Info</th>\n",
       "      <th>Price</th>\n",
       "      <th>journey_day</th>\n",
       "      <th>journey_month</th>\n",
       "      <th>journey_year</th>\n",
       "      <th>Dep_Time_hour</th>\n",
       "      <th>Dep_Time_min</th>\n",
       "    </tr>\n",
       "  </thead>\n",
       "  <tbody>\n",
       "    <tr>\n",
       "      <th>0</th>\n",
       "      <td>IndiGo</td>\n",
       "      <td>Banglore</td>\n",
       "      <td>New Delhi</td>\n",
       "      <td>BLR → DEL</td>\n",
       "      <td>2024-03-22 01:10:00</td>\n",
       "      <td>2h 50m</td>\n",
       "      <td>non-stop</td>\n",
       "      <td>No info</td>\n",
       "      <td>3897</td>\n",
       "      <td>24</td>\n",
       "      <td>3</td>\n",
       "      <td>2019</td>\n",
       "      <td>22</td>\n",
       "      <td>20</td>\n",
       "    </tr>\n",
       "    <tr>\n",
       "      <th>1</th>\n",
       "      <td>Air India</td>\n",
       "      <td>Kolkata</td>\n",
       "      <td>Banglore</td>\n",
       "      <td>CCU → IXR → BBI → BLR</td>\n",
       "      <td>2024-03-20 13:15:00</td>\n",
       "      <td>7h 25m</td>\n",
       "      <td>2 stops</td>\n",
       "      <td>No info</td>\n",
       "      <td>7662</td>\n",
       "      <td>1</td>\n",
       "      <td>5</td>\n",
       "      <td>2019</td>\n",
       "      <td>5</td>\n",
       "      <td>50</td>\n",
       "    </tr>\n",
       "    <tr>\n",
       "      <th>2</th>\n",
       "      <td>Jet Airways</td>\n",
       "      <td>Delhi</td>\n",
       "      <td>Cochin</td>\n",
       "      <td>DEL → LKO → BOM → COK</td>\n",
       "      <td>2024-06-10 04:25:00</td>\n",
       "      <td>19h</td>\n",
       "      <td>2 stops</td>\n",
       "      <td>No info</td>\n",
       "      <td>13882</td>\n",
       "      <td>9</td>\n",
       "      <td>6</td>\n",
       "      <td>2019</td>\n",
       "      <td>9</td>\n",
       "      <td>25</td>\n",
       "    </tr>\n",
       "    <tr>\n",
       "      <th>3</th>\n",
       "      <td>IndiGo</td>\n",
       "      <td>Kolkata</td>\n",
       "      <td>Banglore</td>\n",
       "      <td>CCU → NAG → BLR</td>\n",
       "      <td>2024-03-20 23:30:00</td>\n",
       "      <td>5h 25m</td>\n",
       "      <td>1 stop</td>\n",
       "      <td>No info</td>\n",
       "      <td>6218</td>\n",
       "      <td>12</td>\n",
       "      <td>5</td>\n",
       "      <td>2019</td>\n",
       "      <td>18</td>\n",
       "      <td>5</td>\n",
       "    </tr>\n",
       "    <tr>\n",
       "      <th>4</th>\n",
       "      <td>IndiGo</td>\n",
       "      <td>Banglore</td>\n",
       "      <td>New Delhi</td>\n",
       "      <td>BLR → NAG → DEL</td>\n",
       "      <td>2024-03-20 21:35:00</td>\n",
       "      <td>4h 45m</td>\n",
       "      <td>1 stop</td>\n",
       "      <td>No info</td>\n",
       "      <td>13302</td>\n",
       "      <td>1</td>\n",
       "      <td>3</td>\n",
       "      <td>2019</td>\n",
       "      <td>16</td>\n",
       "      <td>50</td>\n",
       "    </tr>\n",
       "    <tr>\n",
       "      <th>...</th>\n",
       "      <td>...</td>\n",
       "      <td>...</td>\n",
       "      <td>...</td>\n",
       "      <td>...</td>\n",
       "      <td>...</td>\n",
       "      <td>...</td>\n",
       "      <td>...</td>\n",
       "      <td>...</td>\n",
       "      <td>...</td>\n",
       "      <td>...</td>\n",
       "      <td>...</td>\n",
       "      <td>...</td>\n",
       "      <td>...</td>\n",
       "      <td>...</td>\n",
       "    </tr>\n",
       "    <tr>\n",
       "      <th>10678</th>\n",
       "      <td>Air Asia</td>\n",
       "      <td>Kolkata</td>\n",
       "      <td>Banglore</td>\n",
       "      <td>CCU → BLR</td>\n",
       "      <td>2024-03-20 22:25:00</td>\n",
       "      <td>2h 30m</td>\n",
       "      <td>non-stop</td>\n",
       "      <td>No info</td>\n",
       "      <td>4107</td>\n",
       "      <td>9</td>\n",
       "      <td>4</td>\n",
       "      <td>2019</td>\n",
       "      <td>19</td>\n",
       "      <td>55</td>\n",
       "    </tr>\n",
       "    <tr>\n",
       "      <th>10679</th>\n",
       "      <td>Air India</td>\n",
       "      <td>Kolkata</td>\n",
       "      <td>Banglore</td>\n",
       "      <td>CCU → BLR</td>\n",
       "      <td>2024-03-20 23:20:00</td>\n",
       "      <td>2h 35m</td>\n",
       "      <td>non-stop</td>\n",
       "      <td>No info</td>\n",
       "      <td>4145</td>\n",
       "      <td>27</td>\n",
       "      <td>4</td>\n",
       "      <td>2019</td>\n",
       "      <td>20</td>\n",
       "      <td>45</td>\n",
       "    </tr>\n",
       "    <tr>\n",
       "      <th>10680</th>\n",
       "      <td>Jet Airways</td>\n",
       "      <td>Banglore</td>\n",
       "      <td>Delhi</td>\n",
       "      <td>BLR → DEL</td>\n",
       "      <td>2024-03-20 11:20:00</td>\n",
       "      <td>3h</td>\n",
       "      <td>non-stop</td>\n",
       "      <td>No info</td>\n",
       "      <td>7229</td>\n",
       "      <td>27</td>\n",
       "      <td>4</td>\n",
       "      <td>2019</td>\n",
       "      <td>8</td>\n",
       "      <td>20</td>\n",
       "    </tr>\n",
       "    <tr>\n",
       "      <th>10681</th>\n",
       "      <td>Vistara</td>\n",
       "      <td>Banglore</td>\n",
       "      <td>New Delhi</td>\n",
       "      <td>BLR → DEL</td>\n",
       "      <td>2024-03-20 14:10:00</td>\n",
       "      <td>2h 40m</td>\n",
       "      <td>non-stop</td>\n",
       "      <td>No info</td>\n",
       "      <td>12648</td>\n",
       "      <td>1</td>\n",
       "      <td>3</td>\n",
       "      <td>2019</td>\n",
       "      <td>11</td>\n",
       "      <td>30</td>\n",
       "    </tr>\n",
       "    <tr>\n",
       "      <th>10682</th>\n",
       "      <td>Air India</td>\n",
       "      <td>Delhi</td>\n",
       "      <td>Cochin</td>\n",
       "      <td>DEL → GOI → BOM → COK</td>\n",
       "      <td>2024-03-20 19:15:00</td>\n",
       "      <td>8h 20m</td>\n",
       "      <td>2 stops</td>\n",
       "      <td>No info</td>\n",
       "      <td>11753</td>\n",
       "      <td>9</td>\n",
       "      <td>5</td>\n",
       "      <td>2019</td>\n",
       "      <td>10</td>\n",
       "      <td>55</td>\n",
       "    </tr>\n",
       "  </tbody>\n",
       "</table>\n",
       "<p>10682 rows × 14 columns</p>\n",
       "</div>"
      ],
      "text/plain": [
       "           Airline    Source Destination                  Route  \\\n",
       "0           IndiGo  Banglore   New Delhi              BLR → DEL   \n",
       "1        Air India   Kolkata    Banglore  CCU → IXR → BBI → BLR   \n",
       "2      Jet Airways     Delhi      Cochin  DEL → LKO → BOM → COK   \n",
       "3           IndiGo   Kolkata    Banglore        CCU → NAG → BLR   \n",
       "4           IndiGo  Banglore   New Delhi        BLR → NAG → DEL   \n",
       "...            ...       ...         ...                    ...   \n",
       "10678     Air Asia   Kolkata    Banglore              CCU → BLR   \n",
       "10679    Air India   Kolkata    Banglore              CCU → BLR   \n",
       "10680  Jet Airways  Banglore       Delhi              BLR → DEL   \n",
       "10681      Vistara  Banglore   New Delhi              BLR → DEL   \n",
       "10682    Air India     Delhi      Cochin  DEL → GOI → BOM → COK   \n",
       "\n",
       "             Arrival_Time Duration Total_Stops Additional_Info  Price  \\\n",
       "0     2024-03-22 01:10:00   2h 50m    non-stop         No info   3897   \n",
       "1     2024-03-20 13:15:00   7h 25m     2 stops         No info   7662   \n",
       "2     2024-06-10 04:25:00      19h     2 stops         No info  13882   \n",
       "3     2024-03-20 23:30:00   5h 25m      1 stop         No info   6218   \n",
       "4     2024-03-20 21:35:00   4h 45m      1 stop         No info  13302   \n",
       "...                   ...      ...         ...             ...    ...   \n",
       "10678 2024-03-20 22:25:00   2h 30m    non-stop         No info   4107   \n",
       "10679 2024-03-20 23:20:00   2h 35m    non-stop         No info   4145   \n",
       "10680 2024-03-20 11:20:00       3h    non-stop         No info   7229   \n",
       "10681 2024-03-20 14:10:00   2h 40m    non-stop         No info  12648   \n",
       "10682 2024-03-20 19:15:00   8h 20m     2 stops         No info  11753   \n",
       "\n",
       "       journey_day  journey_month  journey_year  Dep_Time_hour  Dep_Time_min  \n",
       "0               24              3          2019             22            20  \n",
       "1                1              5          2019              5            50  \n",
       "2                9              6          2019              9            25  \n",
       "3               12              5          2019             18             5  \n",
       "4                1              3          2019             16            50  \n",
       "...            ...            ...           ...            ...           ...  \n",
       "10678            9              4          2019             19            55  \n",
       "10679           27              4          2019             20            45  \n",
       "10680           27              4          2019              8            20  \n",
       "10681            1              3          2019             11            30  \n",
       "10682            9              5          2019             10            55  \n",
       "\n",
       "[10682 rows x 14 columns]"
      ]
     },
     "execution_count": 24,
     "metadata": {},
     "output_type": "execute_result"
    }
   ],
   "source": [
    "extract_hour_min(data1,'Dep_Time')"
   ]
  },
  {
   "cell_type": "code",
   "execution_count": 25,
   "id": "0bfdf422",
   "metadata": {},
   "outputs": [
    {
     "data": {
      "text/html": [
       "<div>\n",
       "<style scoped>\n",
       "    .dataframe tbody tr th:only-of-type {\n",
       "        vertical-align: middle;\n",
       "    }\n",
       "\n",
       "    .dataframe tbody tr th {\n",
       "        vertical-align: top;\n",
       "    }\n",
       "\n",
       "    .dataframe thead th {\n",
       "        text-align: right;\n",
       "    }\n",
       "</style>\n",
       "<table border=\"1\" class=\"dataframe\">\n",
       "  <thead>\n",
       "    <tr style=\"text-align: right;\">\n",
       "      <th></th>\n",
       "      <th>Airline</th>\n",
       "      <th>Source</th>\n",
       "      <th>Destination</th>\n",
       "      <th>Route</th>\n",
       "      <th>Duration</th>\n",
       "      <th>Total_Stops</th>\n",
       "      <th>Additional_Info</th>\n",
       "      <th>Price</th>\n",
       "      <th>journey_day</th>\n",
       "      <th>journey_month</th>\n",
       "      <th>journey_year</th>\n",
       "      <th>Dep_Time_hour</th>\n",
       "      <th>Dep_Time_min</th>\n",
       "      <th>Arrival_Time_hour</th>\n",
       "      <th>Arrival_Time_min</th>\n",
       "    </tr>\n",
       "  </thead>\n",
       "  <tbody>\n",
       "    <tr>\n",
       "      <th>0</th>\n",
       "      <td>IndiGo</td>\n",
       "      <td>Banglore</td>\n",
       "      <td>New Delhi</td>\n",
       "      <td>BLR → DEL</td>\n",
       "      <td>2h 50m</td>\n",
       "      <td>non-stop</td>\n",
       "      <td>No info</td>\n",
       "      <td>3897</td>\n",
       "      <td>24</td>\n",
       "      <td>3</td>\n",
       "      <td>2019</td>\n",
       "      <td>22</td>\n",
       "      <td>20</td>\n",
       "      <td>1</td>\n",
       "      <td>10</td>\n",
       "    </tr>\n",
       "    <tr>\n",
       "      <th>1</th>\n",
       "      <td>Air India</td>\n",
       "      <td>Kolkata</td>\n",
       "      <td>Banglore</td>\n",
       "      <td>CCU → IXR → BBI → BLR</td>\n",
       "      <td>7h 25m</td>\n",
       "      <td>2 stops</td>\n",
       "      <td>No info</td>\n",
       "      <td>7662</td>\n",
       "      <td>1</td>\n",
       "      <td>5</td>\n",
       "      <td>2019</td>\n",
       "      <td>5</td>\n",
       "      <td>50</td>\n",
       "      <td>13</td>\n",
       "      <td>15</td>\n",
       "    </tr>\n",
       "    <tr>\n",
       "      <th>2</th>\n",
       "      <td>Jet Airways</td>\n",
       "      <td>Delhi</td>\n",
       "      <td>Cochin</td>\n",
       "      <td>DEL → LKO → BOM → COK</td>\n",
       "      <td>19h</td>\n",
       "      <td>2 stops</td>\n",
       "      <td>No info</td>\n",
       "      <td>13882</td>\n",
       "      <td>9</td>\n",
       "      <td>6</td>\n",
       "      <td>2019</td>\n",
       "      <td>9</td>\n",
       "      <td>25</td>\n",
       "      <td>4</td>\n",
       "      <td>25</td>\n",
       "    </tr>\n",
       "    <tr>\n",
       "      <th>3</th>\n",
       "      <td>IndiGo</td>\n",
       "      <td>Kolkata</td>\n",
       "      <td>Banglore</td>\n",
       "      <td>CCU → NAG → BLR</td>\n",
       "      <td>5h 25m</td>\n",
       "      <td>1 stop</td>\n",
       "      <td>No info</td>\n",
       "      <td>6218</td>\n",
       "      <td>12</td>\n",
       "      <td>5</td>\n",
       "      <td>2019</td>\n",
       "      <td>18</td>\n",
       "      <td>5</td>\n",
       "      <td>23</td>\n",
       "      <td>30</td>\n",
       "    </tr>\n",
       "    <tr>\n",
       "      <th>4</th>\n",
       "      <td>IndiGo</td>\n",
       "      <td>Banglore</td>\n",
       "      <td>New Delhi</td>\n",
       "      <td>BLR → NAG → DEL</td>\n",
       "      <td>4h 45m</td>\n",
       "      <td>1 stop</td>\n",
       "      <td>No info</td>\n",
       "      <td>13302</td>\n",
       "      <td>1</td>\n",
       "      <td>3</td>\n",
       "      <td>2019</td>\n",
       "      <td>16</td>\n",
       "      <td>50</td>\n",
       "      <td>21</td>\n",
       "      <td>35</td>\n",
       "    </tr>\n",
       "    <tr>\n",
       "      <th>...</th>\n",
       "      <td>...</td>\n",
       "      <td>...</td>\n",
       "      <td>...</td>\n",
       "      <td>...</td>\n",
       "      <td>...</td>\n",
       "      <td>...</td>\n",
       "      <td>...</td>\n",
       "      <td>...</td>\n",
       "      <td>...</td>\n",
       "      <td>...</td>\n",
       "      <td>...</td>\n",
       "      <td>...</td>\n",
       "      <td>...</td>\n",
       "      <td>...</td>\n",
       "      <td>...</td>\n",
       "    </tr>\n",
       "    <tr>\n",
       "      <th>10678</th>\n",
       "      <td>Air Asia</td>\n",
       "      <td>Kolkata</td>\n",
       "      <td>Banglore</td>\n",
       "      <td>CCU → BLR</td>\n",
       "      <td>2h 30m</td>\n",
       "      <td>non-stop</td>\n",
       "      <td>No info</td>\n",
       "      <td>4107</td>\n",
       "      <td>9</td>\n",
       "      <td>4</td>\n",
       "      <td>2019</td>\n",
       "      <td>19</td>\n",
       "      <td>55</td>\n",
       "      <td>22</td>\n",
       "      <td>25</td>\n",
       "    </tr>\n",
       "    <tr>\n",
       "      <th>10679</th>\n",
       "      <td>Air India</td>\n",
       "      <td>Kolkata</td>\n",
       "      <td>Banglore</td>\n",
       "      <td>CCU → BLR</td>\n",
       "      <td>2h 35m</td>\n",
       "      <td>non-stop</td>\n",
       "      <td>No info</td>\n",
       "      <td>4145</td>\n",
       "      <td>27</td>\n",
       "      <td>4</td>\n",
       "      <td>2019</td>\n",
       "      <td>20</td>\n",
       "      <td>45</td>\n",
       "      <td>23</td>\n",
       "      <td>20</td>\n",
       "    </tr>\n",
       "    <tr>\n",
       "      <th>10680</th>\n",
       "      <td>Jet Airways</td>\n",
       "      <td>Banglore</td>\n",
       "      <td>Delhi</td>\n",
       "      <td>BLR → DEL</td>\n",
       "      <td>3h</td>\n",
       "      <td>non-stop</td>\n",
       "      <td>No info</td>\n",
       "      <td>7229</td>\n",
       "      <td>27</td>\n",
       "      <td>4</td>\n",
       "      <td>2019</td>\n",
       "      <td>8</td>\n",
       "      <td>20</td>\n",
       "      <td>11</td>\n",
       "      <td>20</td>\n",
       "    </tr>\n",
       "    <tr>\n",
       "      <th>10681</th>\n",
       "      <td>Vistara</td>\n",
       "      <td>Banglore</td>\n",
       "      <td>New Delhi</td>\n",
       "      <td>BLR → DEL</td>\n",
       "      <td>2h 40m</td>\n",
       "      <td>non-stop</td>\n",
       "      <td>No info</td>\n",
       "      <td>12648</td>\n",
       "      <td>1</td>\n",
       "      <td>3</td>\n",
       "      <td>2019</td>\n",
       "      <td>11</td>\n",
       "      <td>30</td>\n",
       "      <td>14</td>\n",
       "      <td>10</td>\n",
       "    </tr>\n",
       "    <tr>\n",
       "      <th>10682</th>\n",
       "      <td>Air India</td>\n",
       "      <td>Delhi</td>\n",
       "      <td>Cochin</td>\n",
       "      <td>DEL → GOI → BOM → COK</td>\n",
       "      <td>8h 20m</td>\n",
       "      <td>2 stops</td>\n",
       "      <td>No info</td>\n",
       "      <td>11753</td>\n",
       "      <td>9</td>\n",
       "      <td>5</td>\n",
       "      <td>2019</td>\n",
       "      <td>10</td>\n",
       "      <td>55</td>\n",
       "      <td>19</td>\n",
       "      <td>15</td>\n",
       "    </tr>\n",
       "  </tbody>\n",
       "</table>\n",
       "<p>10682 rows × 15 columns</p>\n",
       "</div>"
      ],
      "text/plain": [
       "           Airline    Source Destination                  Route Duration  \\\n",
       "0           IndiGo  Banglore   New Delhi              BLR → DEL   2h 50m   \n",
       "1        Air India   Kolkata    Banglore  CCU → IXR → BBI → BLR   7h 25m   \n",
       "2      Jet Airways     Delhi      Cochin  DEL → LKO → BOM → COK      19h   \n",
       "3           IndiGo   Kolkata    Banglore        CCU → NAG → BLR   5h 25m   \n",
       "4           IndiGo  Banglore   New Delhi        BLR → NAG → DEL   4h 45m   \n",
       "...            ...       ...         ...                    ...      ...   \n",
       "10678     Air Asia   Kolkata    Banglore              CCU → BLR   2h 30m   \n",
       "10679    Air India   Kolkata    Banglore              CCU → BLR   2h 35m   \n",
       "10680  Jet Airways  Banglore       Delhi              BLR → DEL       3h   \n",
       "10681      Vistara  Banglore   New Delhi              BLR → DEL   2h 40m   \n",
       "10682    Air India     Delhi      Cochin  DEL → GOI → BOM → COK   8h 20m   \n",
       "\n",
       "      Total_Stops Additional_Info  Price  journey_day  journey_month  \\\n",
       "0        non-stop         No info   3897           24              3   \n",
       "1         2 stops         No info   7662            1              5   \n",
       "2         2 stops         No info  13882            9              6   \n",
       "3          1 stop         No info   6218           12              5   \n",
       "4          1 stop         No info  13302            1              3   \n",
       "...           ...             ...    ...          ...            ...   \n",
       "10678    non-stop         No info   4107            9              4   \n",
       "10679    non-stop         No info   4145           27              4   \n",
       "10680    non-stop         No info   7229           27              4   \n",
       "10681    non-stop         No info  12648            1              3   \n",
       "10682     2 stops         No info  11753            9              5   \n",
       "\n",
       "       journey_year  Dep_Time_hour  Dep_Time_min  Arrival_Time_hour  \\\n",
       "0              2019             22            20                  1   \n",
       "1              2019              5            50                 13   \n",
       "2              2019              9            25                  4   \n",
       "3              2019             18             5                 23   \n",
       "4              2019             16            50                 21   \n",
       "...             ...            ...           ...                ...   \n",
       "10678          2019             19            55                 22   \n",
       "10679          2019             20            45                 23   \n",
       "10680          2019              8            20                 11   \n",
       "10681          2019             11            30                 14   \n",
       "10682          2019             10            55                 19   \n",
       "\n",
       "       Arrival_Time_min  \n",
       "0                    10  \n",
       "1                    15  \n",
       "2                    25  \n",
       "3                    30  \n",
       "4                    35  \n",
       "...                 ...  \n",
       "10678                25  \n",
       "10679                20  \n",
       "10680                20  \n",
       "10681                10  \n",
       "10682                15  \n",
       "\n",
       "[10682 rows x 15 columns]"
      ]
     },
     "execution_count": 25,
     "metadata": {},
     "output_type": "execute_result"
    }
   ],
   "source": [
    "extract_hour_min(data1,'Arrival_Time')"
   ]
  },
  {
   "cell_type": "markdown",
   "id": "ccaaf799",
   "metadata": {},
   "source": [
    "## lets analyse when will most of the flights will take-off"
   ]
  },
  {
   "cell_type": "code",
   "execution_count": 26,
   "id": "4b4ee3e9",
   "metadata": {},
   "outputs": [],
   "source": [
    "### Converting the flight Dep_Time into proper time i.e. mid_night, morning, afternoon and evening.\n",
    "def flight_dep_time(x):\n",
    "    if x>4 and x<=8:\n",
    "        return 'Early morning'\n",
    "    elif x>8 and x<=12:\n",
    "        return 'Morning'\n",
    "    elif x>12 and x<=16:\n",
    "        return 'Noon'\n",
    "    elif x>16 and x<=20:\n",
    "        return 'Evening'\n",
    "    elif x>20 and x<=24:\n",
    "        return 'Night'\n",
    "    else:\n",
    "        return 'Late Night'\n",
    "        \n",
    "    "
   ]
  },
  {
   "cell_type": "code",
   "execution_count": 27,
   "id": "382f79a6",
   "metadata": {},
   "outputs": [
    {
     "data": {
      "text/plain": [
       "0                Night\n",
       "1        Early morning\n",
       "2              Morning\n",
       "3              Evening\n",
       "4                 Noon\n",
       "             ...      \n",
       "10678          Evening\n",
       "10679          Evening\n",
       "10680    Early morning\n",
       "10681          Morning\n",
       "10682          Morning\n",
       "Name: Dep_Time_hour, Length: 10682, dtype: object"
      ]
     },
     "execution_count": 27,
     "metadata": {},
     "output_type": "execute_result"
    }
   ],
   "source": [
    "data1['Dep_Time_hour'].apply(flight_dep_time)"
   ]
  },
  {
   "cell_type": "code",
   "execution_count": 28,
   "id": "0be8b8c3",
   "metadata": {},
   "outputs": [
    {
     "data": {
      "text/plain": [
       "<AxesSubplot:xlabel='Dep_Time_hour'>"
      ]
     },
     "execution_count": 28,
     "metadata": {},
     "output_type": "execute_result"
    },
    {
     "data": {
      "image/png": "[encoded data removed]",
      "text/plain": [
       "<Figure size 432x288 with 1 Axes>"
      ]
     },
     "metadata": {
      "needs_background": "light"
     },
     "output_type": "display_data"
    }
   ],
   "source": [
    "data1['Dep_Time_hour'].apply(flight_dep_time).value_counts().plot(kind='bar')"
   ]
  },
  {
   "cell_type": "code",
   "execution_count": 29,
   "id": "6cbd110d",
   "metadata": {},
   "outputs": [
    {
     "data": {
      "text/plain": [
       "Airline              0\n",
       "Source               0\n",
       "Destination          0\n",
       "Route                0\n",
       "Duration             0\n",
       "Total_Stops          0\n",
       "Additional_Info      0\n",
       "Price                0\n",
       "journey_day          0\n",
       "journey_month        0\n",
       "journey_year         0\n",
       "Dep_Time_hour        0\n",
       "Dep_Time_min         0\n",
       "Arrival_Time_hour    0\n",
       "Arrival_Time_min     0\n",
       "dtype: int64"
      ]
     },
     "execution_count": 29,
     "metadata": {},
     "output_type": "execute_result"
    }
   ],
   "source": [
    "data1.isnull().sum()"
   ]
  },
  {
   "cell_type": "code",
   "execution_count": 30,
   "id": "db3cc9fd",
   "metadata": {},
   "outputs": [
    {
     "name": "stdout",
     "output_type": "stream",
     "text": [
      "Requirement already satisfied: plotly in /opt/anaconda3/lib/python3.8/site-packages (5.11.0)\n",
      "Requirement already satisfied: tenacity>=6.2.0 in /opt/anaconda3/lib/python3.8/site-packages (from plotly) (8.1.0)\n",
      "\u001b[33mDEPRECATION: pyodbc 4.0.0-unsupported has a non-standard version number. pip 24.0 will enforce this behaviour change. A possible replacement is to upgrade to a newer version of pyodbc or contact the author to suggest that they release a version with a conforming version number. Discussion can be found at https://github.com/pypa/pip/issues/12063\u001b[0m\u001b[33m\n",
      "\u001b[0m\n",
      "\u001b[1m[\u001b[0m\u001b[34;49mnotice\u001b[0m\u001b[1;39;49m]\u001b[0m\u001b[39;49m A new release of pip is available: \u001b[0m\u001b[31;49m23.3.1\u001b[0m\u001b[39;49m -> \u001b[0m\u001b[32;49m24.0\u001b[0m\n",
      "\u001b[1m[\u001b[0m\u001b[34;49mnotice\u001b[0m\u001b[1;39;49m]\u001b[0m\u001b[39;49m To update, run: \u001b[0m\u001b[32;49mpip install --upgrade pip\u001b[0m\n"
     ]
    }
   ],
   "source": [
    "!pip install plotly"
   ]
  },
  {
   "cell_type": "code",
   "execution_count": 31,
   "id": "dfd038fd",
   "metadata": {},
   "outputs": [
    {
     "name": "stdout",
     "output_type": "stream",
     "text": [
      "Requirement already satisfied: cufflinks in /opt/anaconda3/lib/python3.8/site-packages (0.17.3)\n",
      "Requirement already satisfied: numpy>=1.9.2 in /opt/anaconda3/lib/python3.8/site-packages (from cufflinks) (1.24.4)\n",
      "Requirement already satisfied: pandas>=0.19.2 in /opt/anaconda3/lib/python3.8/site-packages (from cufflinks) (2.0.3)\n",
      "Requirement already satisfied: plotly>=4.1.1 in /opt/anaconda3/lib/python3.8/site-packages (from cufflinks) (5.11.0)\n",
      "Requirement already satisfied: six>=1.9.0 in /opt/anaconda3/lib/python3.8/site-packages (from cufflinks) (1.15.0)\n",
      "Requirement already satisfied: colorlover>=0.2.1 in /opt/anaconda3/lib/python3.8/site-packages (from cufflinks) (0.3.0)\n",
      "Requirement already satisfied: setuptools>=34.4.1 in /opt/anaconda3/lib/python3.8/site-packages (from cufflinks) (69.0.2)\n",
      "Requirement already satisfied: ipython>=5.3.0 in /opt/anaconda3/lib/python3.8/site-packages (from cufflinks) (7.22.0)\n",
      "Requirement already satisfied: ipywidgets>=7.0.0 in /opt/anaconda3/lib/python3.8/site-packages (from cufflinks) (7.6.3)\n",
      "Requirement already satisfied: jedi>=0.16 in /opt/anaconda3/lib/python3.8/site-packages (from ipython>=5.3.0->cufflinks) (0.17.2)\n",
      "Requirement already satisfied: decorator in /opt/anaconda3/lib/python3.8/site-packages (from ipython>=5.3.0->cufflinks) (4.4.2)\n",
      "Requirement already satisfied: pickleshare in /opt/anaconda3/lib/python3.8/site-packages (from ipython>=5.3.0->cufflinks) (0.7.5)\n",
      "Requirement already satisfied: traitlets>=4.2 in /opt/anaconda3/lib/python3.8/site-packages (from ipython>=5.3.0->cufflinks) (5.0.5)\n",
      "Requirement already satisfied: prompt-toolkit!=3.0.0,!=3.0.1,<3.1.0,>=2.0.0 in /opt/anaconda3/lib/python3.8/site-packages (from ipython>=5.3.0->cufflinks) (3.0.17)\n",
      "Requirement already satisfied: pygments in /opt/anaconda3/lib/python3.8/site-packages (from ipython>=5.3.0->cufflinks) (2.17.2)\n",
      "Requirement already satisfied: backcall in /opt/anaconda3/lib/python3.8/site-packages (from ipython>=5.3.0->cufflinks) (0.2.0)\n",
      "Requirement already satisfied: pexpect>4.3 in /opt/anaconda3/lib/python3.8/site-packages (from ipython>=5.3.0->cufflinks) (4.8.0)\n",
      "Requirement already satisfied: appnope in /opt/anaconda3/lib/python3.8/site-packages (from ipython>=5.3.0->cufflinks) (0.1.2)\n",
      "Requirement already satisfied: ipykernel>=4.5.1 in /opt/anaconda3/lib/python3.8/site-packages (from ipywidgets>=7.0.0->cufflinks) (5.3.4)\n",
      "Requirement already satisfied: nbformat>=4.2.0 in /opt/anaconda3/lib/python3.8/site-packages (from ipywidgets>=7.0.0->cufflinks) (5.1.3)\n",
      "Requirement already satisfied: widgetsnbextension~=3.5.0 in /opt/anaconda3/lib/python3.8/site-packages (from ipywidgets>=7.0.0->cufflinks) (3.5.1)\n",
      "Requirement already satisfied: jupyterlab-widgets>=1.0.0 in /opt/anaconda3/lib/python3.8/site-packages (from ipywidgets>=7.0.0->cufflinks) (1.0.0)\n",
      "Requirement already satisfied: python-dateutil>=2.8.2 in /opt/anaconda3/lib/python3.8/site-packages (from pandas>=0.19.2->cufflinks) (2.8.2)\n",
      "Requirement already satisfied: pytz>=2020.1 in /opt/anaconda3/lib/python3.8/site-packages (from pandas>=0.19.2->cufflinks) (2021.1)\n",
      "Requirement already satisfied: tzdata>=2022.1 in /opt/anaconda3/lib/python3.8/site-packages (from pandas>=0.19.2->cufflinks) (2022.1)\n",
      "Requirement already satisfied: tenacity>=6.2.0 in /opt/anaconda3/lib/python3.8/site-packages (from plotly>=4.1.1->cufflinks) (8.1.0)\n",
      "Requirement already satisfied: jupyter-client in /opt/anaconda3/lib/python3.8/site-packages (from ipykernel>=4.5.1->ipywidgets>=7.0.0->cufflinks) (6.1.12)\n",
      "Requirement already satisfied: tornado>=4.2 in /opt/anaconda3/lib/python3.8/site-packages (from ipykernel>=4.5.1->ipywidgets>=7.0.0->cufflinks) (6.1)\n",
      "Requirement already satisfied: parso<0.8.0,>=0.7.0 in /opt/anaconda3/lib/python3.8/site-packages (from jedi>=0.16->ipython>=5.3.0->cufflinks) (0.7.0)\n",
      "Requirement already satisfied: ipython-genutils in /opt/anaconda3/lib/python3.8/site-packages (from nbformat>=4.2.0->ipywidgets>=7.0.0->cufflinks) (0.2.0)\n",
      "Requirement already satisfied: jsonschema!=2.5.0,>=2.4 in /opt/anaconda3/lib/python3.8/site-packages (from nbformat>=4.2.0->ipywidgets>=7.0.0->cufflinks) (3.2.0)\n",
      "Requirement already satisfied: jupyter-core in /opt/anaconda3/lib/python3.8/site-packages (from nbformat>=4.2.0->ipywidgets>=7.0.0->cufflinks) (4.7.1)\n",
      "Requirement already satisfied: ptyprocess>=0.5 in /opt/anaconda3/lib/python3.8/site-packages (from pexpect>4.3->ipython>=5.3.0->cufflinks) (0.7.0)\n",
      "Requirement already satisfied: wcwidth in /opt/anaconda3/lib/python3.8/site-packages (from prompt-toolkit!=3.0.0,!=3.0.1,<3.1.0,>=2.0.0->ipython>=5.3.0->cufflinks) (0.2.5)\n",
      "Requirement already satisfied: notebook>=4.4.1 in /opt/anaconda3/lib/python3.8/site-packages (from widgetsnbextension~=3.5.0->ipywidgets>=7.0.0->cufflinks) (6.3.0)\n",
      "Requirement already satisfied: attrs>=17.4.0 in /opt/anaconda3/lib/python3.8/site-packages (from jsonschema!=2.5.0,>=2.4->nbformat>=4.2.0->ipywidgets>=7.0.0->cufflinks) (20.3.0)\n",
      "Requirement already satisfied: pyrsistent>=0.14.0 in /opt/anaconda3/lib/python3.8/site-packages (from jsonschema!=2.5.0,>=2.4->nbformat>=4.2.0->ipywidgets>=7.0.0->cufflinks) (0.17.3)\n",
      "Requirement already satisfied: jinja2 in /opt/anaconda3/lib/python3.8/site-packages (from notebook>=4.4.1->widgetsnbextension~=3.5.0->ipywidgets>=7.0.0->cufflinks) (2.11.3)\n",
      "Requirement already satisfied: pyzmq>=17 in /opt/anaconda3/lib/python3.8/site-packages (from notebook>=4.4.1->widgetsnbextension~=3.5.0->ipywidgets>=7.0.0->cufflinks) (20.0.0)\n",
      "Requirement already satisfied: argon2-cffi in /opt/anaconda3/lib/python3.8/site-packages (from notebook>=4.4.1->widgetsnbextension~=3.5.0->ipywidgets>=7.0.0->cufflinks) (20.1.0)\n",
      "Requirement already satisfied: nbconvert in /opt/anaconda3/lib/python3.8/site-packages (from notebook>=4.4.1->widgetsnbextension~=3.5.0->ipywidgets>=7.0.0->cufflinks) (6.0.7)\n",
      "Requirement already satisfied: Send2Trash>=1.5.0 in /opt/anaconda3/lib/python3.8/site-packages (from notebook>=4.4.1->widgetsnbextension~=3.5.0->ipywidgets>=7.0.0->cufflinks) (1.5.0)\n",
      "Requirement already satisfied: terminado>=0.8.3 in /opt/anaconda3/lib/python3.8/site-packages (from notebook>=4.4.1->widgetsnbextension~=3.5.0->ipywidgets>=7.0.0->cufflinks) (0.9.4)\n",
      "Requirement already satisfied: prometheus-client in /opt/anaconda3/lib/python3.8/site-packages (from notebook>=4.4.1->widgetsnbextension~=3.5.0->ipywidgets>=7.0.0->cufflinks) (0.10.1)\n",
      "Requirement already satisfied: cffi>=1.0.0 in /opt/anaconda3/lib/python3.8/site-packages (from argon2-cffi->notebook>=4.4.1->widgetsnbextension~=3.5.0->ipywidgets>=7.0.0->cufflinks) (1.14.5)\n",
      "Requirement already satisfied: MarkupSafe>=0.23 in /opt/anaconda3/lib/python3.8/site-packages (from jinja2->notebook>=4.4.1->widgetsnbextension~=3.5.0->ipywidgets>=7.0.0->cufflinks) (1.1.1)\n",
      "Requirement already satisfied: mistune<2,>=0.8.1 in /opt/anaconda3/lib/python3.8/site-packages (from nbconvert->notebook>=4.4.1->widgetsnbextension~=3.5.0->ipywidgets>=7.0.0->cufflinks) (0.8.4)\n",
      "Requirement already satisfied: jupyterlab-pygments in /opt/anaconda3/lib/python3.8/site-packages (from nbconvert->notebook>=4.4.1->widgetsnbextension~=3.5.0->ipywidgets>=7.0.0->cufflinks) (0.1.2)\n",
      "Requirement already satisfied: entrypoints>=0.2.2 in /opt/anaconda3/lib/python3.8/site-packages (from nbconvert->notebook>=4.4.1->widgetsnbextension~=3.5.0->ipywidgets>=7.0.0->cufflinks) (0.3)\n",
      "Requirement already satisfied: bleach in /opt/anaconda3/lib/python3.8/site-packages (from nbconvert->notebook>=4.4.1->widgetsnbextension~=3.5.0->ipywidgets>=7.0.0->cufflinks) (3.3.0)\n",
      "Requirement already satisfied: pandocfilters>=1.4.1 in /opt/anaconda3/lib/python3.8/site-packages (from nbconvert->notebook>=4.4.1->widgetsnbextension~=3.5.0->ipywidgets>=7.0.0->cufflinks) (1.4.3)\n",
      "Requirement already satisfied: testpath in /opt/anaconda3/lib/python3.8/site-packages (from nbconvert->notebook>=4.4.1->widgetsnbextension~=3.5.0->ipywidgets>=7.0.0->cufflinks) (0.4.4)\n",
      "Requirement already satisfied: defusedxml in /opt/anaconda3/lib/python3.8/site-packages (from nbconvert->notebook>=4.4.1->widgetsnbextension~=3.5.0->ipywidgets>=7.0.0->cufflinks) (0.7.1)\n",
      "Requirement already satisfied: nbclient<0.6.0,>=0.5.0 in /opt/anaconda3/lib/python3.8/site-packages (from nbconvert->notebook>=4.4.1->widgetsnbextension~=3.5.0->ipywidgets>=7.0.0->cufflinks) (0.5.3)\n",
      "Requirement already satisfied: pycparser in /opt/anaconda3/lib/python3.8/site-packages (from cffi>=1.0.0->argon2-cffi->notebook>=4.4.1->widgetsnbextension~=3.5.0->ipywidgets>=7.0.0->cufflinks) (2.20)\n",
      "Requirement already satisfied: async-generator in /opt/anaconda3/lib/python3.8/site-packages (from nbclient<0.6.0,>=0.5.0->nbconvert->notebook>=4.4.1->widgetsnbextension~=3.5.0->ipywidgets>=7.0.0->cufflinks) (1.10)\n",
      "Requirement already satisfied: nest-asyncio in /opt/anaconda3/lib/python3.8/site-packages (from nbclient<0.6.0,>=0.5.0->nbconvert->notebook>=4.4.1->widgetsnbextension~=3.5.0->ipywidgets>=7.0.0->cufflinks) (1.5.1)\n",
      "Requirement already satisfied: packaging in /opt/anaconda3/lib/python3.8/site-packages (from bleach->nbconvert->notebook>=4.4.1->widgetsnbextension~=3.5.0->ipywidgets>=7.0.0->cufflinks) (20.9)\n",
      "Requirement already satisfied: webencodings in /opt/anaconda3/lib/python3.8/site-packages (from bleach->nbconvert->notebook>=4.4.1->widgetsnbextension~=3.5.0->ipywidgets>=7.0.0->cufflinks) (0.5.1)\n",
      "Requirement already satisfied: pyparsing>=2.0.2 in /opt/anaconda3/lib/python3.8/site-packages (from packaging->bleach->nbconvert->notebook>=4.4.1->widgetsnbextension~=3.5.0->ipywidgets>=7.0.0->cufflinks) (2.4.7)\n",
      "\u001b[33mDEPRECATION: pyodbc 4.0.0-unsupported has a non-standard version number. pip 24.0 will enforce this behaviour change. A possible replacement is to upgrade to a newer version of pyodbc or contact the author to suggest that they release a version with a conforming version number. Discussion can be found at https://github.com/pypa/pip/issues/12063\u001b[0m\u001b[33m\n",
      "\u001b[0m\n",
      "\u001b[1m[\u001b[0m\u001b[34;49mnotice\u001b[0m\u001b[1;39;49m]\u001b[0m\u001b[39;49m A new release of pip is available: \u001b[0m\u001b[31;49m23.3.1\u001b[0m\u001b[39;49m -> \u001b[0m\u001b[32;49m24.0\u001b[0m\n",
      "\u001b[1m[\u001b[0m\u001b[34;49mnotice\u001b[0m\u001b[1;39;49m]\u001b[0m\u001b[39;49m To update, run: \u001b[0m\u001b[32;49mpip install --upgrade pip\u001b[0m\n",
      "Note: you may need to restart the kernel to use updated packages.\n"
     ]
    }
   ],
   "source": [
    "pip install cufflinks"
   ]
  },
  {
   "cell_type": "code",
   "execution_count": 32,
   "id": "e1963b86",
   "metadata": {},
   "outputs": [],
   "source": [
    "import plotly\n",
    "import cufflinks as cf\n",
    "from cufflinks.offline import go_offline\n",
    "from plotly.offline import download_plotlyjs , init_notebook_mode, plot, iplot"
   ]
  },
  {
   "cell_type": "code",
   "execution_count": 33,
   "id": "eacd07f6",
   "metadata": {},
   "outputs": [
    {
     "data": {
      "text/html": [
       "        <script type=\"text/javascript\">\n",
       "        window.PlotlyConfig = {MathJaxConfig: 'local'};\n",
       "        if (window.MathJax && window.MathJax.Hub && window.MathJax.Hub.Config) {window.MathJax.Hub.Config({SVG: {font: \"STIX-Web\"}});}\n",
       "        if (typeof require !== 'undefined') {\n",
       "        require.undef(\"plotly\");\n",
       "        requirejs.config({\n",
       "            paths: {\n",
       "                'plotly': ['https://cdn.plot.ly/plotly-2.16.1.min']\n",
       "            }\n",
       "        });\n",
       "        require(['plotly'], function(Plotly) {\n",
       "            window._Plotly = Plotly;\n",
       "        });\n",
       "        }\n",
       "        </script>\n",
       "        "
      ]
     },
     "metadata": {},
     "output_type": "display_data"
    }
   ],
   "source": [
    "cf.go_offline()"
   ]
  },
  {
   "cell_type": "code",
   "execution_count": 34,
   "id": "1b1a7e5a",
   "metadata": {},
   "outputs": [
    {
     "data": {
      "application/vnd.plotly.v1+json": {
       "config": {
        "linkText": "Export to plot.ly",
        "plotlyServerURL": "https://plot.ly",
        "showLink": true
       },
       "data": [
        {
         "marker": {
          "color": "rgba(255, 153, 51, 0.6)",
          "line": {
           "color": "rgba(255, 153, 51, 1.0)",
           "width": 1
          }
         },
         "name": "count",
         "orientation": "v",
         "text": "",
         "type": "bar",
         "x": [
          "Early morning",
          "Evening",
          "Morning",
          "Noon",
          "Night",
          "Late Night"
         ],
         "y": [
          2880,
          2357,
          2209,
          1731,
          1040,
          465
         ]
        }
       ],
       "layout": {
        "legend": {
         "bgcolor": "#F5F6F9",
         "font": {
          "color": "#4D5663"
         }
        },
        "paper_bgcolor": "#F5F6F9",
        "plot_bgcolor": "#F5F6F9",
        "template": {
         "data": {
          "bar": [
           {
            "error_x": {
             "color": "#2a3f5f"
            },
            "error_y": {
             "color": "#2a3f5f"
            },
            "marker": {
             "line": {
              "color": "#E5ECF6",
              "width": 0.5
             },
             "pattern": {
              "fillmode": "overlay",
              "size": 10,
              "solidity": 0.2
             }
            },
            "type": "bar"
           }
          ],
          "barpolar": [
           {
            "marker": {
             "line": {
              "color": "#E5ECF6",
              "width": 0.5
             },
             "pattern": {
              "fillmode": "overlay",
              "size": 10,
              "solidity": 0.2
             }
            },
            "type": "barpolar"
           }
          ],
          "carpet": [
           {
            "aaxis": {
             "endlinecolor": "#2a3f5f",
             "gridcolor": "white",
             "linecolor": "white",
             "minorgridcolor": "white",
             "startlinecolor": "#2a3f5f"
            },
            "baxis": {
             "endlinecolor": "#2a3f5f",
             "gridcolor": "white",
             "linecolor": "white",
             "minorgridcolor": "white",
             "startlinecolor": "#2a3f5f"
            },
            "type": "carpet"
           }
          ],
          "choropleth": [
           {
            "colorbar": {
             "outlinewidth": 0,
             "ticks": ""
            },
            "type": "choropleth"
           }
          ],
          "contour": [
           {
            "colorbar": {
             "outlinewidth": 0,
             "ticks": ""
            },
            "colorscale": [
             [
              0,
              "#0d0887"
             ],
             [
              0.1111111111111111,
              "#46039f"
             ],
             [
              0.2222222222222222,
              "#7201a8"
             ],
             [
              0.3333333333333333,
              "#9c179e"
             ],
             [
              0.4444444444444444,
              "#bd3786"
             ],
             [
              0.5555555555555556,
              "#d8576b"
             ],
             [
              0.6666666666666666,
              "#ed7953"
             ],
             [
              0.7777777777777778,
              "#fb9f3a"
             ],
             [
              0.8888888888888888,
              "#fdca26"
             ],
             [
              1,
              "#f0f921"
             ]
            ],
            "type": "contour"
           }
          ],
          "contourcarpet": [
           {
            "colorbar": {
             "outlinewidth": 0,
             "ticks": ""
            },
            "type": "contourcarpet"
           }
          ],
          "heatmap": [
           {
            "colorbar": {
             "outlinewidth": 0,
             "ticks": ""
            },
            "colorscale": [
             [
              0,
              "#0d0887"
             ],
             [
              0.1111111111111111,
              "#46039f"
             ],
             [
              0.2222222222222222,
              "#7201a8"
             ],
             [
              0.3333333333333333,
              "#9c179e"
             ],
             [
              0.4444444444444444,
              "#bd3786"
             ],
             [
              0.5555555555555556,
              "#d8576b"
             ],
             [
              0.6666666666666666,
              "#ed7953"
             ],
             [
              0.7777777777777778,
              "#fb9f3a"
             ],
             [
              0.8888888888888888,
              "#fdca26"
             ],
             [
              1,
              "#f0f921"
             ]
            ],
            "type": "heatmap"
           }
          ],
          "heatmapgl": [
           {
            "colorbar": {
             "outlinewidth": 0,
             "ticks": ""
            },
            "colorscale": [
             [
              0,
              "#0d0887"
             ],
             [
              0.1111111111111111,
              "#46039f"
             ],
             [
              0.2222222222222222,
              "#7201a8"
             ],
             [
              0.3333333333333333,
              "#9c179e"
             ],
             [
              0.4444444444444444,
              "#bd3786"
             ],
             [
              0.5555555555555556,
              "#d8576b"
             ],
             [
              0.6666666666666666,
              "#ed7953"
             ],
             [
              0.7777777777777778,
              "#fb9f3a"
             ],
             [
              0.8888888888888888,
              "#fdca26"
             ],
             [
              1,
              "#f0f921"
             ]
            ],
            "type": "heatmapgl"
           }
          ],
          "histogram": [
           {
            "marker": {
             "pattern": {
              "fillmode": "overlay",
              "size": 10,
              "solidity": 0.2
             }
            },
            "type": "histogram"
           }
          ],
          "histogram2d": [
           {
            "colorbar": {
             "outlinewidth": 0,
             "ticks": ""
            },
            "colorscale": [
             [
              0,
              "#0d0887"
             ],
             [
              0.1111111111111111,
              "#46039f"
             ],
             [
              0.2222222222222222,
              "#7201a8"
             ],
             [
              0.3333333333333333,
              "#9c179e"
             ],
             [
              0.4444444444444444,
              "#bd3786"
             ],
             [
              0.5555555555555556,
              "#d8576b"
             ],
             [
              0.6666666666666666,
              "#ed7953"
             ],
             [
              0.7777777777777778,
              "#fb9f3a"
             ],
             [
              0.8888888888888888,
              "#fdca26"
             ],
             [
              1,
              "#f0f921"
             ]
            ],
            "type": "histogram2d"
           }
          ],
          "histogram2dcontour": [
           {
            "colorbar": {
             "outlinewidth": 0,
             "ticks": ""
            },
            "colorscale": [
             [
              0,
              "#0d0887"
             ],
             [
              0.1111111111111111,
              "#46039f"
             ],
             [
              0.2222222222222222,
              "#7201a8"
             ],
             [
              0.3333333333333333,
              "#9c179e"
             ],
             [
              0.4444444444444444,
              "#bd3786"
             ],
             [
              0.5555555555555556,
              "#d8576b"
             ],
             [
              0.6666666666666666,
              "#ed7953"
             ],
             [
              0.7777777777777778,
              "#fb9f3a"
             ],
             [
              0.8888888888888888,
              "#fdca26"
             ],
             [
              1,
              "#f0f921"
             ]
            ],
            "type": "histogram2dcontour"
           }
          ],
          "mesh3d": [
           {
            "colorbar": {
             "outlinewidth": 0,
             "ticks": ""
            },
            "type": "mesh3d"
           }
          ],
          "parcoords": [
           {
            "line": {
             "colorbar": {
              "outlinewidth": 0,
              "ticks": ""
             }
            },
            "type": "parcoords"
           }
          ],
          "pie": [
           {
            "automargin": true,
            "type": "pie"
           }
          ],
          "scatter": [
           {
            "fillpattern": {
             "fillmode": "overlay",
             "size": 10,
             "solidity": 0.2
            },
            "type": "scatter"
           }
          ],
          "scatter3d": [
           {
            "line": {
             "colorbar": {
              "outlinewidth": 0,
              "ticks": ""
             }
            },
            "marker": {
             "colorbar": {
              "outlinewidth": 0,
              "ticks": ""
             }
            },
            "type": "scatter3d"
           }
          ],
          "scattercarpet": [
           {
            "marker": {
             "colorbar": {
              "outlinewidth": 0,
              "ticks": ""
             }
            },
            "type": "scattercarpet"
           }
          ],
          "scattergeo": [
           {
            "marker": {
             "colorbar": {
              "outlinewidth": 0,
              "ticks": ""
             }
            },
            "type": "scattergeo"
           }
          ],
          "scattergl": [
           {
            "marker": {
             "colorbar": {
              "outlinewidth": 0,
              "ticks": ""
             }
            },
            "type": "scattergl"
           }
          ],
          "scattermapbox": [
           {
            "marker": {
             "colorbar": {
              "outlinewidth": 0,
              "ticks": ""
             }
            },
            "type": "scattermapbox"
           }
          ],
          "scatterpolar": [
           {
            "marker": {
             "colorbar": {
              "outlinewidth": 0,
              "ticks": ""
             }
            },
            "type": "scatterpolar"
           }
          ],
          "scatterpolargl": [
           {
            "marker": {
             "colorbar": {
              "outlinewidth": 0,
              "ticks": ""
             }
            },
            "type": "scatterpolargl"
           }
          ],
          "scatterternary": [
           {
            "marker": {
             "colorbar": {
              "outlinewidth": 0,
              "ticks": ""
             }
            },
            "type": "scatterternary"
           }
          ],
          "surface": [
           {
            "colorbar": {
             "outlinewidth": 0,
             "ticks": ""
            },
            "colorscale": [
             [
              0,
              "#0d0887"
             ],
             [
              0.1111111111111111,
              "#46039f"
             ],
             [
              0.2222222222222222,
              "#7201a8"
             ],
             [
              0.3333333333333333,
              "#9c179e"
             ],
             [
              0.4444444444444444,
              "#bd3786"
             ],
             [
              0.5555555555555556,
              "#d8576b"
             ],
             [
              0.6666666666666666,
              "#ed7953"
             ],
             [
              0.7777777777777778,
              "#fb9f3a"
             ],
             [
              0.8888888888888888,
              "#fdca26"
             ],
             [
              1,
              "#f0f921"
             ]
            ],
            "type": "surface"
           }
          ],
          "table": [
           {
            "cells": {
             "fill": {
              "color": "#EBF0F8"
             },
             "line": {
              "color": "white"
             }
            },
            "header": {
             "fill": {
              "color": "#C8D4E3"
             },
             "line": {
              "color": "white"
             }
            },
            "type": "table"
           }
          ]
         },
         "layout": {
          "annotationdefaults": {
           "arrowcolor": "#2a3f5f",
           "arrowhead": 0,
           "arrowwidth": 1
          },
          "autotypenumbers": "strict",
          "coloraxis": {
           "colorbar": {
            "outlinewidth": 0,
            "ticks": ""
           }
          },
          "colorscale": {
           "diverging": [
            [
             0,
             "#8e0152"
            ],
            [
             0.1,
             "#c51b7d"
            ],
            [
             0.2,
             "#de77ae"
            ],
            [
             0.3,
             "#f1b6da"
            ],
            [
             0.4,
             "#fde0ef"
            ],
            [
             0.5,
             "#f7f7f7"
            ],
            [
             0.6,
             "#e6f5d0"
            ],
            [
             0.7,
             "#b8e186"
            ],
            [
             0.8,
             "#7fbc41"
            ],
            [
             0.9,
             "#4d9221"
            ],
            [
             1,
             "#276419"
            ]
           ],
           "sequential": [
            [
             0,
             "#0d0887"
            ],
            [
             0.1111111111111111,
             "#46039f"
            ],
            [
             0.2222222222222222,
             "#7201a8"
            ],
            [
             0.3333333333333333,
             "#9c179e"
            ],
            [
             0.4444444444444444,
             "#bd3786"
            ],
            [
             0.5555555555555556,
             "#d8576b"
            ],
            [
             0.6666666666666666,
             "#ed7953"
            ],
            [
             0.7777777777777778,
             "#fb9f3a"
            ],
            [
             0.8888888888888888,
             "#fdca26"
            ],
            [
             1,
             "#f0f921"
            ]
           ],
           "sequentialminus": [
            [
             0,
             "#0d0887"
            ],
            [
             0.1111111111111111,
             "#46039f"
            ],
            [
             0.2222222222222222,
             "#7201a8"
            ],
            [
             0.3333333333333333,
             "#9c179e"
            ],
            [
             0.4444444444444444,
             "#bd3786"
            ],
            [
             0.5555555555555556,
             "#d8576b"
            ],
            [
             0.6666666666666666,
             "#ed7953"
            ],
            [
             0.7777777777777778,
             "#fb9f3a"
            ],
            [
             0.8888888888888888,
             "#fdca26"
            ],
            [
             1,
             "#f0f921"
            ]
           ]
          },
          "colorway": [
           "#636efa",
           "#EF553B",
           "#00cc96",
           "#ab63fa",
           "#FFA15A",
           "#19d3f3",
           "#FF6692",
           "#B6E880",
           "#FF97FF",
           "#FECB52"
          ],
          "font": {
           "color": "#2a3f5f"
          },
          "geo": {
           "bgcolor": "white",
           "lakecolor": "white",
           "landcolor": "#E5ECF6",
           "showlakes": true,
           "showland": true,
           "subunitcolor": "white"
          },
          "hoverlabel": {
           "align": "left"
          },
          "hovermode": "closest",
          "mapbox": {
           "style": "light"
          },
          "paper_bgcolor": "white",
          "plot_bgcolor": "#E5ECF6",
          "polar": {
           "angularaxis": {
            "gridcolor": "white",
            "linecolor": "white",
            "ticks": ""
           },
           "bgcolor": "#E5ECF6",
           "radialaxis": {
            "gridcolor": "white",
            "linecolor": "white",
            "ticks": ""
           }
          },
          "scene": {
           "xaxis": {
            "backgroundcolor": "#E5ECF6",
            "gridcolor": "white",
            "gridwidth": 2,
            "linecolor": "white",
            "showbackground": true,
            "ticks": "",
            "zerolinecolor": "white"
           },
           "yaxis": {
            "backgroundcolor": "#E5ECF6",
            "gridcolor": "white",
            "gridwidth": 2,
            "linecolor": "white",
            "showbackground": true,
            "ticks": "",
            "zerolinecolor": "white"
           },
           "zaxis": {
            "backgroundcolor": "#E5ECF6",
            "gridcolor": "white",
            "gridwidth": 2,
            "linecolor": "white",
            "showbackground": true,
            "ticks": "",
            "zerolinecolor": "white"
           }
          },
          "shapedefaults": {
           "line": {
            "color": "#2a3f5f"
           }
          },
          "ternary": {
           "aaxis": {
            "gridcolor": "white",
            "linecolor": "white",
            "ticks": ""
           },
           "baxis": {
            "gridcolor": "white",
            "linecolor": "white",
            "ticks": ""
           },
           "bgcolor": "#E5ECF6",
           "caxis": {
            "gridcolor": "white",
            "linecolor": "white",
            "ticks": ""
           }
          },
          "title": {
           "x": 0.05
          },
          "xaxis": {
           "automargin": true,
           "gridcolor": "white",
           "linecolor": "white",
           "ticks": "",
           "title": {
            "standoff": 15
           },
           "zerolinecolor": "white",
           "zerolinewidth": 2
          },
          "yaxis": {
           "automargin": true,
           "gridcolor": "white",
           "linecolor": "white",
           "ticks": "",
           "title": {
            "standoff": 15
           },
           "zerolinecolor": "white",
           "zerolinewidth": 2
          }
         }
        },
        "title": {
         "font": {
          "color": "#4D5663"
         }
        },
        "xaxis": {
         "gridcolor": "#E1E5ED",
         "showgrid": true,
         "tickfont": {
          "color": "#4D5663"
         },
         "title": {
          "font": {
           "color": "#4D5663"
          },
          "text": ""
         },
         "zerolinecolor": "#E1E5ED"
        },
        "yaxis": {
         "gridcolor": "#E1E5ED",
         "showgrid": true,
         "tickfont": {
          "color": "#4D5663"
         },
         "title": {
          "font": {
           "color": "#4D5663"
          },
          "text": ""
         },
         "zerolinecolor": "#E1E5ED"
        }
       }
      },
      "text/html": [
       "<div>                            <div id=\"1ae34ff6-2b5f-465b-82cb-d8d516914eda\" class=\"plotly-graph-div\" style=\"height:525px; width:100%;\"></div>            <script type=\"text/javascript\">                require([\"plotly\"], function(Plotly) {                    window.PLOTLYENV=window.PLOTLYENV || {};\n",
       "                    window.PLOTLYENV.BASE_URL='https://plot.ly';                                    if (document.getElementById(\"1ae34ff6-2b5f-465b-82cb-d8d516914eda\")) {                    Plotly.newPlot(                        \"1ae34ff6-2b5f-465b-82cb-d8d516914eda\",                        [{\"marker\":{\"color\":\"rgba(255, 153, 51, 0.6)\",\"line\":{\"color\":\"rgba(255, 153, 51, 1.0)\",\"width\":1}},\"name\":\"count\",\"orientation\":\"v\",\"text\":\"\",\"x\":[\"Early morning\",\"Evening\",\"Morning\",\"Noon\",\"Night\",\"Late Night\"],\"y\":[2880,2357,2209,1731,1040,465],\"type\":\"bar\"}],                        {\"legend\":{\"bgcolor\":\"#F5F6F9\",\"font\":{\"color\":\"#4D5663\"}},\"paper_bgcolor\":\"#F5F6F9\",\"plot_bgcolor\":\"#F5F6F9\",\"template\":{\"data\":{\"barpolar\":[{\"marker\":{\"line\":{\"color\":\"#E5ECF6\",\"width\":0.5},\"pattern\":{\"fillmode\":\"overlay\",\"size\":10,\"solidity\":0.2}},\"type\":\"barpolar\"}],\"bar\":[{\"error_x\":{\"color\":\"#2a3f5f\"},\"error_y\":{\"color\":\"#2a3f5f\"},\"marker\":{\"line\":{\"color\":\"#E5ECF6\",\"width\":0.5},\"pattern\":{\"fillmode\":\"overlay\",\"size\":10,\"solidity\":0.2}},\"type\":\"bar\"}],\"carpet\":[{\"aaxis\":{\"endlinecolor\":\"#2a3f5f\",\"gridcolor\":\"white\",\"linecolor\":\"white\",\"minorgridcolor\":\"white\",\"startlinecolor\":\"#2a3f5f\"},\"baxis\":{\"endlinecolor\":\"#2a3f5f\",\"gridcolor\":\"white\",\"linecolor\":\"white\",\"minorgridcolor\":\"white\",\"startlinecolor\":\"#2a3f5f\"},\"type\":\"carpet\"}],\"choropleth\":[{\"colorbar\":{\"outlinewidth\":0,\"ticks\":\"\"},\"type\":\"choropleth\"}],\"contourcarpet\":[{\"colorbar\":{\"outlinewidth\":0,\"ticks\":\"\"},\"type\":\"contourcarpet\"}],\"contour\":[{\"colorbar\":{\"outlinewidth\":0,\"ticks\":\"\"},\"colorscale\":[[0.0,\"#0d0887\"],[0.1111111111111111,\"#46039f\"],[0.2222222222222222,\"#7201a8\"],[0.3333333333333333,\"#9c179e\"],[0.4444444444444444,\"#bd3786\"],[0.5555555555555556,\"#d8576b\"],[0.6666666666666666,\"#ed7953\"],[0.7777777777777778,\"#fb9f3a\"],[0.8888888888888888,\"#fdca26\"],[1.0,\"#f0f921\"]],\"type\":\"contour\"}],\"heatmapgl\":[{\"colorbar\":{\"outlinewidth\":0,\"ticks\":\"\"},\"colorscale\":[[0.0,\"#0d0887\"],[0.1111111111111111,\"#46039f\"],[0.2222222222222222,\"#7201a8\"],[0.3333333333333333,\"#9c179e\"],[0.4444444444444444,\"#bd3786\"],[0.5555555555555556,\"#d8576b\"],[0.6666666666666666,\"#ed7953\"],[0.7777777777777778,\"#fb9f3a\"],[0.8888888888888888,\"#fdca26\"],[1.0,\"#f0f921\"]],\"type\":\"heatmapgl\"}],\"heatmap\":[{\"colorbar\":{\"outlinewidth\":0,\"ticks\":\"\"},\"colorscale\":[[0.0,\"#0d0887\"],[0.1111111111111111,\"#46039f\"],[0.2222222222222222,\"#7201a8\"],[0.3333333333333333,\"#9c179e\"],[0.4444444444444444,\"#bd3786\"],[0.5555555555555556,\"#d8576b\"],[0.6666666666666666,\"#ed7953\"],[0.7777777777777778,\"#fb9f3a\"],[0.8888888888888888,\"#fdca26\"],[1.0,\"#f0f921\"]],\"type\":\"heatmap\"}],\"histogram2dcontour\":[{\"colorbar\":{\"outlinewidth\":0,\"ticks\":\"\"},\"colorscale\":[[0.0,\"#0d0887\"],[0.1111111111111111,\"#46039f\"],[0.2222222222222222,\"#7201a8\"],[0.3333333333333333,\"#9c179e\"],[0.4444444444444444,\"#bd3786\"],[0.5555555555555556,\"#d8576b\"],[0.6666666666666666,\"#ed7953\"],[0.7777777777777778,\"#fb9f3a\"],[0.8888888888888888,\"#fdca26\"],[1.0,\"#f0f921\"]],\"type\":\"histogram2dcontour\"}],\"histogram2d\":[{\"colorbar\":{\"outlinewidth\":0,\"ticks\":\"\"},\"colorscale\":[[0.0,\"#0d0887\"],[0.1111111111111111,\"#46039f\"],[0.2222222222222222,\"#7201a8\"],[0.3333333333333333,\"#9c179e\"],[0.4444444444444444,\"#bd3786\"],[0.5555555555555556,\"#d8576b\"],[0.6666666666666666,\"#ed7953\"],[0.7777777777777778,\"#fb9f3a\"],[0.8888888888888888,\"#fdca26\"],[1.0,\"#f0f921\"]],\"type\":\"histogram2d\"}],\"histogram\":[{\"marker\":{\"pattern\":{\"fillmode\":\"overlay\",\"size\":10,\"solidity\":0.2}},\"type\":\"histogram\"}],\"mesh3d\":[{\"colorbar\":{\"outlinewidth\":0,\"ticks\":\"\"},\"type\":\"mesh3d\"}],\"parcoords\":[{\"line\":{\"colorbar\":{\"outlinewidth\":0,\"ticks\":\"\"}},\"type\":\"parcoords\"}],\"pie\":[{\"automargin\":true,\"type\":\"pie\"}],\"scatter3d\":[{\"line\":{\"colorbar\":{\"outlinewidth\":0,\"ticks\":\"\"}},\"marker\":{\"colorbar\":{\"outlinewidth\":0,\"ticks\":\"\"}},\"type\":\"scatter3d\"}],\"scattercarpet\":[{\"marker\":{\"colorbar\":{\"outlinewidth\":0,\"ticks\":\"\"}},\"type\":\"scattercarpet\"}],\"scattergeo\":[{\"marker\":{\"colorbar\":{\"outlinewidth\":0,\"ticks\":\"\"}},\"type\":\"scattergeo\"}],\"scattergl\":[{\"marker\":{\"colorbar\":{\"outlinewidth\":0,\"ticks\":\"\"}},\"type\":\"scattergl\"}],\"scattermapbox\":[{\"marker\":{\"colorbar\":{\"outlinewidth\":0,\"ticks\":\"\"}},\"type\":\"scattermapbox\"}],\"scatterpolargl\":[{\"marker\":{\"colorbar\":{\"outlinewidth\":0,\"ticks\":\"\"}},\"type\":\"scatterpolargl\"}],\"scatterpolar\":[{\"marker\":{\"colorbar\":{\"outlinewidth\":0,\"ticks\":\"\"}},\"type\":\"scatterpolar\"}],\"scatter\":[{\"fillpattern\":{\"fillmode\":\"overlay\",\"size\":10,\"solidity\":0.2},\"type\":\"scatter\"}],\"scatterternary\":[{\"marker\":{\"colorbar\":{\"outlinewidth\":0,\"ticks\":\"\"}},\"type\":\"scatterternary\"}],\"surface\":[{\"colorbar\":{\"outlinewidth\":0,\"ticks\":\"\"},\"colorscale\":[[0.0,\"#0d0887\"],[0.1111111111111111,\"#46039f\"],[0.2222222222222222,\"#7201a8\"],[0.3333333333333333,\"#9c179e\"],[0.4444444444444444,\"#bd3786\"],[0.5555555555555556,\"#d8576b\"],[0.6666666666666666,\"#ed7953\"],[0.7777777777777778,\"#fb9f3a\"],[0.8888888888888888,\"#fdca26\"],[1.0,\"#f0f921\"]],\"type\":\"surface\"}],\"table\":[{\"cells\":{\"fill\":{\"color\":\"#EBF0F8\"},\"line\":{\"color\":\"white\"}},\"header\":{\"fill\":{\"color\":\"#C8D4E3\"},\"line\":{\"color\":\"white\"}},\"type\":\"table\"}]},\"layout\":{\"annotationdefaults\":{\"arrowcolor\":\"#2a3f5f\",\"arrowhead\":0,\"arrowwidth\":1},\"autotypenumbers\":\"strict\",\"coloraxis\":{\"colorbar\":{\"outlinewidth\":0,\"ticks\":\"\"}},\"colorscale\":{\"diverging\":[[0,\"#8e0152\"],[0.1,\"#c51b7d\"],[0.2,\"#de77ae\"],[0.3,\"#f1b6da\"],[0.4,\"#fde0ef\"],[0.5,\"#f7f7f7\"],[0.6,\"#e6f5d0\"],[0.7,\"#b8e186\"],[0.8,\"#7fbc41\"],[0.9,\"#4d9221\"],[1,\"#276419\"]],\"sequential\":[[0.0,\"#0d0887\"],[0.1111111111111111,\"#46039f\"],[0.2222222222222222,\"#7201a8\"],[0.3333333333333333,\"#9c179e\"],[0.4444444444444444,\"#bd3786\"],[0.5555555555555556,\"#d8576b\"],[0.6666666666666666,\"#ed7953\"],[0.7777777777777778,\"#fb9f3a\"],[0.8888888888888888,\"#fdca26\"],[1.0,\"#f0f921\"]],\"sequentialminus\":[[0.0,\"#0d0887\"],[0.1111111111111111,\"#46039f\"],[0.2222222222222222,\"#7201a8\"],[0.3333333333333333,\"#9c179e\"],[0.4444444444444444,\"#bd3786\"],[0.5555555555555556,\"#d8576b\"],[0.6666666666666666,\"#ed7953\"],[0.7777777777777778,\"#fb9f3a\"],[0.8888888888888888,\"#fdca26\"],[1.0,\"#f0f921\"]]},\"colorway\":[\"#636efa\",\"#EF553B\",\"#00cc96\",\"#ab63fa\",\"#FFA15A\",\"#19d3f3\",\"#FF6692\",\"#B6E880\",\"#FF97FF\",\"#FECB52\"],\"font\":{\"color\":\"#2a3f5f\"},\"geo\":{\"bgcolor\":\"white\",\"lakecolor\":\"white\",\"landcolor\":\"#E5ECF6\",\"showlakes\":true,\"showland\":true,\"subunitcolor\":\"white\"},\"hoverlabel\":{\"align\":\"left\"},\"hovermode\":\"closest\",\"mapbox\":{\"style\":\"light\"},\"paper_bgcolor\":\"white\",\"plot_bgcolor\":\"#E5ECF6\",\"polar\":{\"angularaxis\":{\"gridcolor\":\"white\",\"linecolor\":\"white\",\"ticks\":\"\"},\"bgcolor\":\"#E5ECF6\",\"radialaxis\":{\"gridcolor\":\"white\",\"linecolor\":\"white\",\"ticks\":\"\"}},\"scene\":{\"xaxis\":{\"backgroundcolor\":\"#E5ECF6\",\"gridcolor\":\"white\",\"gridwidth\":2,\"linecolor\":\"white\",\"showbackground\":true,\"ticks\":\"\",\"zerolinecolor\":\"white\"},\"yaxis\":{\"backgroundcolor\":\"#E5ECF6\",\"gridcolor\":\"white\",\"gridwidth\":2,\"linecolor\":\"white\",\"showbackground\":true,\"ticks\":\"\",\"zerolinecolor\":\"white\"},\"zaxis\":{\"backgroundcolor\":\"#E5ECF6\",\"gridcolor\":\"white\",\"gridwidth\":2,\"linecolor\":\"white\",\"showbackground\":true,\"ticks\":\"\",\"zerolinecolor\":\"white\"}},\"shapedefaults\":{\"line\":{\"color\":\"#2a3f5f\"}},\"ternary\":{\"aaxis\":{\"gridcolor\":\"white\",\"linecolor\":\"white\",\"ticks\":\"\"},\"baxis\":{\"gridcolor\":\"white\",\"linecolor\":\"white\",\"ticks\":\"\"},\"bgcolor\":\"#E5ECF6\",\"caxis\":{\"gridcolor\":\"white\",\"linecolor\":\"white\",\"ticks\":\"\"}},\"title\":{\"x\":0.05},\"xaxis\":{\"automargin\":true,\"gridcolor\":\"white\",\"linecolor\":\"white\",\"ticks\":\"\",\"title\":{\"standoff\":15},\"zerolinecolor\":\"white\",\"zerolinewidth\":2},\"yaxis\":{\"automargin\":true,\"gridcolor\":\"white\",\"linecolor\":\"white\",\"ticks\":\"\",\"title\":{\"standoff\":15},\"zerolinecolor\":\"white\",\"zerolinewidth\":2}}},\"title\":{\"font\":{\"color\":\"#4D5663\"}},\"xaxis\":{\"gridcolor\":\"#E1E5ED\",\"showgrid\":true,\"tickfont\":{\"color\":\"#4D5663\"},\"title\":{\"font\":{\"color\":\"#4D5663\"},\"text\":\"\"},\"zerolinecolor\":\"#E1E5ED\"},\"yaxis\":{\"gridcolor\":\"#E1E5ED\",\"showgrid\":true,\"tickfont\":{\"color\":\"#4D5663\"},\"title\":{\"font\":{\"color\":\"#4D5663\"},\"text\":\"\"},\"zerolinecolor\":\"#E1E5ED\"}},                        {\"showLink\": true, \"linkText\": \"Export to plot.ly\", \"plotlyServerURL\": \"https://plot.ly\", \"responsive\": true}                    ).then(function(){\n",
       "                            \n",
       "var gd = document.getElementById('1ae34ff6-2b5f-465b-82cb-d8d516914eda');\n",
       "var x = new MutationObserver(function (mutations, observer) {{\n",
       "        var display = window.getComputedStyle(gd).display;\n",
       "        if (!display || display === 'none') {{\n",
       "            console.log([gd, 'removed!']);\n",
       "            Plotly.purge(gd);\n",
       "            observer.disconnect();\n",
       "        }}\n",
       "}});\n",
       "\n",
       "// Listen for the removal of the full notebook cells\n",
       "var notebookContainer = gd.closest('#notebook-container');\n",
       "if (notebookContainer) {{\n",
       "    x.observe(notebookContainer, {childList: true});\n",
       "}}\n",
       "\n",
       "// Listen for the clearing of the current output cell\n",
       "var outputEl = gd.closest('.output');\n",
       "if (outputEl) {{\n",
       "    x.observe(outputEl, {childList: true});\n",
       "}}\n",
       "\n",
       "                        })                };                });            </script>        </div>"
      ]
     },
     "metadata": {},
     "output_type": "display_data"
    }
   ],
   "source": [
    "data1['Dep_Time_hour'].apply(flight_dep_time).value_counts().iplot(kind='bar')"
   ]
  },
  {
   "cell_type": "markdown",
   "id": "711bbc67",
   "metadata": {},
   "source": [
    "## Pre-process Duration Feature & extract meaningful features"
   ]
  },
  {
   "cell_type": "code",
   "execution_count": 35,
   "id": "48a1509b",
   "metadata": {},
   "outputs": [
    {
     "data": {
      "text/html": [
       "<div>\n",
       "<style scoped>\n",
       "    .dataframe tbody tr th:only-of-type {\n",
       "        vertical-align: middle;\n",
       "    }\n",
       "\n",
       "    .dataframe tbody tr th {\n",
       "        vertical-align: top;\n",
       "    }\n",
       "\n",
       "    .dataframe thead th {\n",
       "        text-align: right;\n",
       "    }\n",
       "</style>\n",
       "<table border=\"1\" class=\"dataframe\">\n",
       "  <thead>\n",
       "    <tr style=\"text-align: right;\">\n",
       "      <th></th>\n",
       "      <th>Airline</th>\n",
       "      <th>Source</th>\n",
       "      <th>Destination</th>\n",
       "      <th>Route</th>\n",
       "      <th>Duration</th>\n",
       "      <th>Total_Stops</th>\n",
       "      <th>Additional_Info</th>\n",
       "      <th>Price</th>\n",
       "      <th>journey_day</th>\n",
       "      <th>journey_month</th>\n",
       "      <th>journey_year</th>\n",
       "      <th>Dep_Time_hour</th>\n",
       "      <th>Dep_Time_min</th>\n",
       "      <th>Arrival_Time_hour</th>\n",
       "      <th>Arrival_Time_min</th>\n",
       "    </tr>\n",
       "  </thead>\n",
       "  <tbody>\n",
       "    <tr>\n",
       "      <th>0</th>\n",
       "      <td>IndiGo</td>\n",
       "      <td>Banglore</td>\n",
       "      <td>New Delhi</td>\n",
       "      <td>BLR → DEL</td>\n",
       "      <td>2h 50m</td>\n",
       "      <td>non-stop</td>\n",
       "      <td>No info</td>\n",
       "      <td>3897</td>\n",
       "      <td>24</td>\n",
       "      <td>3</td>\n",
       "      <td>2019</td>\n",
       "      <td>22</td>\n",
       "      <td>20</td>\n",
       "      <td>1</td>\n",
       "      <td>10</td>\n",
       "    </tr>\n",
       "    <tr>\n",
       "      <th>1</th>\n",
       "      <td>Air India</td>\n",
       "      <td>Kolkata</td>\n",
       "      <td>Banglore</td>\n",
       "      <td>CCU → IXR → BBI → BLR</td>\n",
       "      <td>7h 25m</td>\n",
       "      <td>2 stops</td>\n",
       "      <td>No info</td>\n",
       "      <td>7662</td>\n",
       "      <td>1</td>\n",
       "      <td>5</td>\n",
       "      <td>2019</td>\n",
       "      <td>5</td>\n",
       "      <td>50</td>\n",
       "      <td>13</td>\n",
       "      <td>15</td>\n",
       "    </tr>\n",
       "    <tr>\n",
       "      <th>2</th>\n",
       "      <td>Jet Airways</td>\n",
       "      <td>Delhi</td>\n",
       "      <td>Cochin</td>\n",
       "      <td>DEL → LKO → BOM → COK</td>\n",
       "      <td>19h</td>\n",
       "      <td>2 stops</td>\n",
       "      <td>No info</td>\n",
       "      <td>13882</td>\n",
       "      <td>9</td>\n",
       "      <td>6</td>\n",
       "      <td>2019</td>\n",
       "      <td>9</td>\n",
       "      <td>25</td>\n",
       "      <td>4</td>\n",
       "      <td>25</td>\n",
       "    </tr>\n",
       "    <tr>\n",
       "      <th>3</th>\n",
       "      <td>IndiGo</td>\n",
       "      <td>Kolkata</td>\n",
       "      <td>Banglore</td>\n",
       "      <td>CCU → NAG → BLR</td>\n",
       "      <td>5h 25m</td>\n",
       "      <td>1 stop</td>\n",
       "      <td>No info</td>\n",
       "      <td>6218</td>\n",
       "      <td>12</td>\n",
       "      <td>5</td>\n",
       "      <td>2019</td>\n",
       "      <td>18</td>\n",
       "      <td>5</td>\n",
       "      <td>23</td>\n",
       "      <td>30</td>\n",
       "    </tr>\n",
       "    <tr>\n",
       "      <th>4</th>\n",
       "      <td>IndiGo</td>\n",
       "      <td>Banglore</td>\n",
       "      <td>New Delhi</td>\n",
       "      <td>BLR → NAG → DEL</td>\n",
       "      <td>4h 45m</td>\n",
       "      <td>1 stop</td>\n",
       "      <td>No info</td>\n",
       "      <td>13302</td>\n",
       "      <td>1</td>\n",
       "      <td>3</td>\n",
       "      <td>2019</td>\n",
       "      <td>16</td>\n",
       "      <td>50</td>\n",
       "      <td>21</td>\n",
       "      <td>35</td>\n",
       "    </tr>\n",
       "    <tr>\n",
       "      <th>5</th>\n",
       "      <td>SpiceJet</td>\n",
       "      <td>Kolkata</td>\n",
       "      <td>Banglore</td>\n",
       "      <td>CCU → BLR</td>\n",
       "      <td>2h 25m</td>\n",
       "      <td>non-stop</td>\n",
       "      <td>No info</td>\n",
       "      <td>3873</td>\n",
       "      <td>24</td>\n",
       "      <td>6</td>\n",
       "      <td>2019</td>\n",
       "      <td>9</td>\n",
       "      <td>0</td>\n",
       "      <td>11</td>\n",
       "      <td>25</td>\n",
       "    </tr>\n",
       "    <tr>\n",
       "      <th>6</th>\n",
       "      <td>Jet Airways</td>\n",
       "      <td>Banglore</td>\n",
       "      <td>New Delhi</td>\n",
       "      <td>BLR → BOM → DEL</td>\n",
       "      <td>15h 30m</td>\n",
       "      <td>1 stop</td>\n",
       "      <td>In-flight meal not included</td>\n",
       "      <td>11087</td>\n",
       "      <td>12</td>\n",
       "      <td>3</td>\n",
       "      <td>2019</td>\n",
       "      <td>18</td>\n",
       "      <td>55</td>\n",
       "      <td>10</td>\n",
       "      <td>25</td>\n",
       "    </tr>\n",
       "    <tr>\n",
       "      <th>7</th>\n",
       "      <td>Jet Airways</td>\n",
       "      <td>Banglore</td>\n",
       "      <td>New Delhi</td>\n",
       "      <td>BLR → BOM → DEL</td>\n",
       "      <td>21h 5m</td>\n",
       "      <td>1 stop</td>\n",
       "      <td>No info</td>\n",
       "      <td>22270</td>\n",
       "      <td>1</td>\n",
       "      <td>3</td>\n",
       "      <td>2019</td>\n",
       "      <td>8</td>\n",
       "      <td>0</td>\n",
       "      <td>5</td>\n",
       "      <td>5</td>\n",
       "    </tr>\n",
       "    <tr>\n",
       "      <th>8</th>\n",
       "      <td>Jet Airways</td>\n",
       "      <td>Banglore</td>\n",
       "      <td>New Delhi</td>\n",
       "      <td>BLR → BOM → DEL</td>\n",
       "      <td>25h 30m</td>\n",
       "      <td>1 stop</td>\n",
       "      <td>In-flight meal not included</td>\n",
       "      <td>11087</td>\n",
       "      <td>12</td>\n",
       "      <td>3</td>\n",
       "      <td>2019</td>\n",
       "      <td>8</td>\n",
       "      <td>55</td>\n",
       "      <td>10</td>\n",
       "      <td>25</td>\n",
       "    </tr>\n",
       "    <tr>\n",
       "      <th>9</th>\n",
       "      <td>Multiple carriers</td>\n",
       "      <td>Delhi</td>\n",
       "      <td>Cochin</td>\n",
       "      <td>DEL → BOM → COK</td>\n",
       "      <td>7h 50m</td>\n",
       "      <td>1 stop</td>\n",
       "      <td>No info</td>\n",
       "      <td>8625</td>\n",
       "      <td>27</td>\n",
       "      <td>5</td>\n",
       "      <td>2019</td>\n",
       "      <td>11</td>\n",
       "      <td>25</td>\n",
       "      <td>19</td>\n",
       "      <td>15</td>\n",
       "    </tr>\n",
       "  </tbody>\n",
       "</table>\n",
       "</div>"
      ],
      "text/plain": [
       "             Airline    Source Destination                  Route Duration  \\\n",
       "0             IndiGo  Banglore   New Delhi              BLR → DEL   2h 50m   \n",
       "1          Air India   Kolkata    Banglore  CCU → IXR → BBI → BLR   7h 25m   \n",
       "2        Jet Airways     Delhi      Cochin  DEL → LKO → BOM → COK      19h   \n",
       "3             IndiGo   Kolkata    Banglore        CCU → NAG → BLR   5h 25m   \n",
       "4             IndiGo  Banglore   New Delhi        BLR → NAG → DEL   4h 45m   \n",
       "5           SpiceJet   Kolkata    Banglore              CCU → BLR   2h 25m   \n",
       "6        Jet Airways  Banglore   New Delhi        BLR → BOM → DEL  15h 30m   \n",
       "7        Jet Airways  Banglore   New Delhi        BLR → BOM → DEL   21h 5m   \n",
       "8        Jet Airways  Banglore   New Delhi        BLR → BOM → DEL  25h 30m   \n",
       "9  Multiple carriers     Delhi      Cochin        DEL → BOM → COK   7h 50m   \n",
       "\n",
       "  Total_Stops              Additional_Info  Price  journey_day  journey_month  \\\n",
       "0    non-stop                      No info   3897           24              3   \n",
       "1     2 stops                      No info   7662            1              5   \n",
       "2     2 stops                      No info  13882            9              6   \n",
       "3      1 stop                      No info   6218           12              5   \n",
       "4      1 stop                      No info  13302            1              3   \n",
       "5    non-stop                      No info   3873           24              6   \n",
       "6      1 stop  In-flight meal not included  11087           12              3   \n",
       "7      1 stop                      No info  22270            1              3   \n",
       "8      1 stop  In-flight meal not included  11087           12              3   \n",
       "9      1 stop                      No info   8625           27              5   \n",
       "\n",
       "   journey_year  Dep_Time_hour  Dep_Time_min  Arrival_Time_hour  \\\n",
       "0          2019             22            20                  1   \n",
       "1          2019              5            50                 13   \n",
       "2          2019              9            25                  4   \n",
       "3          2019             18             5                 23   \n",
       "4          2019             16            50                 21   \n",
       "5          2019              9             0                 11   \n",
       "6          2019             18            55                 10   \n",
       "7          2019              8             0                  5   \n",
       "8          2019              8            55                 10   \n",
       "9          2019             11            25                 19   \n",
       "\n",
       "   Arrival_Time_min  \n",
       "0                10  \n",
       "1                15  \n",
       "2                25  \n",
       "3                30  \n",
       "4                35  \n",
       "5                25  \n",
       "6                25  \n",
       "7                 5  \n",
       "8                25  \n",
       "9                15  "
      ]
     },
     "execution_count": 35,
     "metadata": {},
     "output_type": "execute_result"
    }
   ],
   "source": [
    "data1.head(10)"
   ]
  },
  {
   "cell_type": "code",
   "execution_count": 36,
   "id": "65f9d364",
   "metadata": {},
   "outputs": [],
   "source": [
    "def preprocess_duration(x):\n",
    "    if x is None:\n",
    "        x = '0h 0m'\n",
    "    elif 'h'not in x:\n",
    "        x = '0h '+x\n",
    "    elif 'm' not in x:\n",
    "        x = x + ' 0m'\n",
    "    return x"
   ]
  },
  {
   "cell_type": "code",
   "execution_count": 37,
   "id": "1357d6b3",
   "metadata": {},
   "outputs": [],
   "source": [
    "data1['Duration'] = data1['Duration'].apply(preprocess_duration)"
   ]
  },
  {
   "cell_type": "code",
   "execution_count": 38,
   "id": "aa4e9985",
   "metadata": {},
   "outputs": [
    {
     "data": {
      "text/plain": [
       "0        2h 50m\n",
       "1        7h 25m\n",
       "2        19h 0m\n",
       "3        5h 25m\n",
       "4        4h 45m\n",
       "          ...  \n",
       "10678    2h 30m\n",
       "10679    2h 35m\n",
       "10680     3h 0m\n",
       "10681    2h 40m\n",
       "10682    8h 20m\n",
       "Name: Duration, Length: 10682, dtype: object"
      ]
     },
     "execution_count": 38,
     "metadata": {},
     "output_type": "execute_result"
    }
   ],
   "source": [
    "data1['Duration']"
   ]
  },
  {
   "cell_type": "code",
   "execution_count": 39,
   "id": "1dd117bc",
   "metadata": {},
   "outputs": [
    {
     "data": {
      "text/plain": [
       "'2h'"
      ]
     },
     "execution_count": 39,
     "metadata": {},
     "output_type": "execute_result"
    }
   ],
   "source": [
    "data1['Duration'][0].split(\" \")[0]"
   ]
  },
  {
   "cell_type": "code",
   "execution_count": 40,
   "id": "4798b6d1",
   "metadata": {},
   "outputs": [
    {
     "data": {
      "text/plain": [
       "'2'"
      ]
     },
     "execution_count": 40,
     "metadata": {},
     "output_type": "execute_result"
    }
   ],
   "source": [
    "data1['Duration'][0].split(\" \")[0][0:-1]"
   ]
  },
  {
   "cell_type": "code",
   "execution_count": 41,
   "id": "c89ff011",
   "metadata": {},
   "outputs": [
    {
     "data": {
      "text/plain": [
       "str"
      ]
     },
     "execution_count": 41,
     "metadata": {},
     "output_type": "execute_result"
    }
   ],
   "source": [
    "type(data1['Duration'][0])"
   ]
  },
  {
   "cell_type": "code",
   "execution_count": 42,
   "id": "170a0615",
   "metadata": {},
   "outputs": [
    {
     "data": {
      "text/plain": [
       "str"
      ]
     },
     "execution_count": 42,
     "metadata": {},
     "output_type": "execute_result"
    }
   ],
   "source": [
    "type(str(data1['Duration']))"
   ]
  },
  {
   "cell_type": "code",
   "execution_count": 43,
   "id": "57ce697e",
   "metadata": {},
   "outputs": [],
   "source": [
    "data1['Duration_hours'] = data1['Duration'].apply(lambda x:int(x.split(' ')[0][0:-1]))"
   ]
  },
  {
   "cell_type": "code",
   "execution_count": 44,
   "id": "946b1770",
   "metadata": {},
   "outputs": [],
   "source": [
    "data1['Duration_mins'] = data1['Duration'].apply(lambda x:int(x.split( )[1][0:-1]))"
   ]
  },
  {
   "cell_type": "code",
   "execution_count": 45,
   "id": "8e16abf4",
   "metadata": {},
   "outputs": [
    {
     "data": {
      "text/html": [
       "<div>\n",
       "<style scoped>\n",
       "    .dataframe tbody tr th:only-of-type {\n",
       "        vertical-align: middle;\n",
       "    }\n",
       "\n",
       "    .dataframe tbody tr th {\n",
       "        vertical-align: top;\n",
       "    }\n",
       "\n",
       "    .dataframe thead th {\n",
       "        text-align: right;\n",
       "    }\n",
       "</style>\n",
       "<table border=\"1\" class=\"dataframe\">\n",
       "  <thead>\n",
       "    <tr style=\"text-align: right;\">\n",
       "      <th></th>\n",
       "      <th>Airline</th>\n",
       "      <th>Source</th>\n",
       "      <th>Destination</th>\n",
       "      <th>Route</th>\n",
       "      <th>Duration</th>\n",
       "      <th>Total_Stops</th>\n",
       "      <th>Additional_Info</th>\n",
       "      <th>Price</th>\n",
       "      <th>journey_day</th>\n",
       "      <th>journey_month</th>\n",
       "      <th>journey_year</th>\n",
       "      <th>Dep_Time_hour</th>\n",
       "      <th>Dep_Time_min</th>\n",
       "      <th>Arrival_Time_hour</th>\n",
       "      <th>Arrival_Time_min</th>\n",
       "      <th>Duration_hours</th>\n",
       "      <th>Duration_mins</th>\n",
       "    </tr>\n",
       "  </thead>\n",
       "  <tbody>\n",
       "    <tr>\n",
       "      <th>0</th>\n",
       "      <td>IndiGo</td>\n",
       "      <td>Banglore</td>\n",
       "      <td>New Delhi</td>\n",
       "      <td>BLR → DEL</td>\n",
       "      <td>2h 50m</td>\n",
       "      <td>non-stop</td>\n",
       "      <td>No info</td>\n",
       "      <td>3897</td>\n",
       "      <td>24</td>\n",
       "      <td>3</td>\n",
       "      <td>2019</td>\n",
       "      <td>22</td>\n",
       "      <td>20</td>\n",
       "      <td>1</td>\n",
       "      <td>10</td>\n",
       "      <td>2</td>\n",
       "      <td>50</td>\n",
       "    </tr>\n",
       "    <tr>\n",
       "      <th>1</th>\n",
       "      <td>Air India</td>\n",
       "      <td>Kolkata</td>\n",
       "      <td>Banglore</td>\n",
       "      <td>CCU → IXR → BBI → BLR</td>\n",
       "      <td>7h 25m</td>\n",
       "      <td>2 stops</td>\n",
       "      <td>No info</td>\n",
       "      <td>7662</td>\n",
       "      <td>1</td>\n",
       "      <td>5</td>\n",
       "      <td>2019</td>\n",
       "      <td>5</td>\n",
       "      <td>50</td>\n",
       "      <td>13</td>\n",
       "      <td>15</td>\n",
       "      <td>7</td>\n",
       "      <td>25</td>\n",
       "    </tr>\n",
       "    <tr>\n",
       "      <th>2</th>\n",
       "      <td>Jet Airways</td>\n",
       "      <td>Delhi</td>\n",
       "      <td>Cochin</td>\n",
       "      <td>DEL → LKO → BOM → COK</td>\n",
       "      <td>19h 0m</td>\n",
       "      <td>2 stops</td>\n",
       "      <td>No info</td>\n",
       "      <td>13882</td>\n",
       "      <td>9</td>\n",
       "      <td>6</td>\n",
       "      <td>2019</td>\n",
       "      <td>9</td>\n",
       "      <td>25</td>\n",
       "      <td>4</td>\n",
       "      <td>25</td>\n",
       "      <td>19</td>\n",
       "      <td>0</td>\n",
       "    </tr>\n",
       "    <tr>\n",
       "      <th>3</th>\n",
       "      <td>IndiGo</td>\n",
       "      <td>Kolkata</td>\n",
       "      <td>Banglore</td>\n",
       "      <td>CCU → NAG → BLR</td>\n",
       "      <td>5h 25m</td>\n",
       "      <td>1 stop</td>\n",
       "      <td>No info</td>\n",
       "      <td>6218</td>\n",
       "      <td>12</td>\n",
       "      <td>5</td>\n",
       "      <td>2019</td>\n",
       "      <td>18</td>\n",
       "      <td>5</td>\n",
       "      <td>23</td>\n",
       "      <td>30</td>\n",
       "      <td>5</td>\n",
       "      <td>25</td>\n",
       "    </tr>\n",
       "    <tr>\n",
       "      <th>4</th>\n",
       "      <td>IndiGo</td>\n",
       "      <td>Banglore</td>\n",
       "      <td>New Delhi</td>\n",
       "      <td>BLR → NAG → DEL</td>\n",
       "      <td>4h 45m</td>\n",
       "      <td>1 stop</td>\n",
       "      <td>No info</td>\n",
       "      <td>13302</td>\n",
       "      <td>1</td>\n",
       "      <td>3</td>\n",
       "      <td>2019</td>\n",
       "      <td>16</td>\n",
       "      <td>50</td>\n",
       "      <td>21</td>\n",
       "      <td>35</td>\n",
       "      <td>4</td>\n",
       "      <td>45</td>\n",
       "    </tr>\n",
       "  </tbody>\n",
       "</table>\n",
       "</div>"
      ],
      "text/plain": [
       "       Airline    Source Destination                  Route Duration  \\\n",
       "0       IndiGo  Banglore   New Delhi              BLR → DEL   2h 50m   \n",
       "1    Air India   Kolkata    Banglore  CCU → IXR → BBI → BLR   7h 25m   \n",
       "2  Jet Airways     Delhi      Cochin  DEL → LKO → BOM → COK   19h 0m   \n",
       "3       IndiGo   Kolkata    Banglore        CCU → NAG → BLR   5h 25m   \n",
       "4       IndiGo  Banglore   New Delhi        BLR → NAG → DEL   4h 45m   \n",
       "\n",
       "  Total_Stops Additional_Info  Price  journey_day  journey_month  \\\n",
       "0    non-stop         No info   3897           24              3   \n",
       "1     2 stops         No info   7662            1              5   \n",
       "2     2 stops         No info  13882            9              6   \n",
       "3      1 stop         No info   6218           12              5   \n",
       "4      1 stop         No info  13302            1              3   \n",
       "\n",
       "   journey_year  Dep_Time_hour  Dep_Time_min  Arrival_Time_hour  \\\n",
       "0          2019             22            20                  1   \n",
       "1          2019              5            50                 13   \n",
       "2          2019              9            25                  4   \n",
       "3          2019             18             5                 23   \n",
       "4          2019             16            50                 21   \n",
       "\n",
       "   Arrival_Time_min  Duration_hours  Duration_mins  \n",
       "0                10               2             50  \n",
       "1                15               7             25  \n",
       "2                25              19              0  \n",
       "3                30               5             25  \n",
       "4                35               4             45  "
      ]
     },
     "execution_count": 45,
     "metadata": {},
     "output_type": "execute_result"
    }
   ],
   "source": [
    "data1.head(5)"
   ]
  },
  {
   "cell_type": "markdown",
   "id": "e626f7e1",
   "metadata": {},
   "source": [
    "## Lets Analyse whether Duration impacts on Price or not ?"
   ]
  },
  {
   "cell_type": "code",
   "execution_count": 46,
   "id": "0b89ddf7",
   "metadata": {},
   "outputs": [],
   "source": [
    "data1['Duration_total_min'] = data1['Duration'].str.replace('h', '*60').str.replace(' ','+').str.replace('m','*1').apply(eval)"
   ]
  },
  {
   "cell_type": "code",
   "execution_count": 47,
   "id": "464e4942",
   "metadata": {},
   "outputs": [
    {
     "data": {
      "text/html": [
       "<div>\n",
       "<style scoped>\n",
       "    .dataframe tbody tr th:only-of-type {\n",
       "        vertical-align: middle;\n",
       "    }\n",
       "\n",
       "    .dataframe tbody tr th {\n",
       "        vertical-align: top;\n",
       "    }\n",
       "\n",
       "    .dataframe thead th {\n",
       "        text-align: right;\n",
       "    }\n",
       "</style>\n",
       "<table border=\"1\" class=\"dataframe\">\n",
       "  <thead>\n",
       "    <tr style=\"text-align: right;\">\n",
       "      <th></th>\n",
       "      <th>Airline</th>\n",
       "      <th>Source</th>\n",
       "      <th>Destination</th>\n",
       "      <th>Route</th>\n",
       "      <th>Duration</th>\n",
       "      <th>Total_Stops</th>\n",
       "      <th>Additional_Info</th>\n",
       "      <th>Price</th>\n",
       "      <th>journey_day</th>\n",
       "      <th>journey_month</th>\n",
       "      <th>journey_year</th>\n",
       "      <th>Dep_Time_hour</th>\n",
       "      <th>Dep_Time_min</th>\n",
       "      <th>Arrival_Time_hour</th>\n",
       "      <th>Arrival_Time_min</th>\n",
       "      <th>Duration_hours</th>\n",
       "      <th>Duration_mins</th>\n",
       "      <th>Duration_total_min</th>\n",
       "    </tr>\n",
       "  </thead>\n",
       "  <tbody>\n",
       "    <tr>\n",
       "      <th>0</th>\n",
       "      <td>IndiGo</td>\n",
       "      <td>Banglore</td>\n",
       "      <td>New Delhi</td>\n",
       "      <td>BLR → DEL</td>\n",
       "      <td>2h 50m</td>\n",
       "      <td>non-stop</td>\n",
       "      <td>No info</td>\n",
       "      <td>3897</td>\n",
       "      <td>24</td>\n",
       "      <td>3</td>\n",
       "      <td>2019</td>\n",
       "      <td>22</td>\n",
       "      <td>20</td>\n",
       "      <td>1</td>\n",
       "      <td>10</td>\n",
       "      <td>2</td>\n",
       "      <td>50</td>\n",
       "      <td>170</td>\n",
       "    </tr>\n",
       "    <tr>\n",
       "      <th>1</th>\n",
       "      <td>Air India</td>\n",
       "      <td>Kolkata</td>\n",
       "      <td>Banglore</td>\n",
       "      <td>CCU → IXR → BBI → BLR</td>\n",
       "      <td>7h 25m</td>\n",
       "      <td>2 stops</td>\n",
       "      <td>No info</td>\n",
       "      <td>7662</td>\n",
       "      <td>1</td>\n",
       "      <td>5</td>\n",
       "      <td>2019</td>\n",
       "      <td>5</td>\n",
       "      <td>50</td>\n",
       "      <td>13</td>\n",
       "      <td>15</td>\n",
       "      <td>7</td>\n",
       "      <td>25</td>\n",
       "      <td>445</td>\n",
       "    </tr>\n",
       "  </tbody>\n",
       "</table>\n",
       "</div>"
      ],
      "text/plain": [
       "     Airline    Source Destination                  Route Duration  \\\n",
       "0     IndiGo  Banglore   New Delhi              BLR → DEL   2h 50m   \n",
       "1  Air India   Kolkata    Banglore  CCU → IXR → BBI → BLR   7h 25m   \n",
       "\n",
       "  Total_Stops Additional_Info  Price  journey_day  journey_month  \\\n",
       "0    non-stop         No info   3897           24              3   \n",
       "1     2 stops         No info   7662            1              5   \n",
       "\n",
       "   journey_year  Dep_Time_hour  Dep_Time_min  Arrival_Time_hour  \\\n",
       "0          2019             22            20                  1   \n",
       "1          2019              5            50                 13   \n",
       "\n",
       "   Arrival_Time_min  Duration_hours  Duration_mins  Duration_total_min  \n",
       "0                10               2             50                 170  \n",
       "1                15               7             25                 445  "
      ]
     },
     "execution_count": 47,
     "metadata": {},
     "output_type": "execute_result"
    }
   ],
   "source": [
    "data1.head(2)"
   ]
  },
  {
   "cell_type": "code",
   "execution_count": 48,
   "id": "a7b65214",
   "metadata": {},
   "outputs": [],
   "source": [
    "import matplotlib.pyplot as plt"
   ]
  },
  {
   "cell_type": "code",
   "execution_count": 49,
   "id": "6870f0c1",
   "metadata": {},
   "outputs": [
    {
     "data": {
      "text/plain": [
       "<matplotlib.collections.PathCollection at 0x7f96d7106280>"
      ]
     },
     "execution_count": 49,
     "metadata": {},
     "output_type": "execute_result"
    },
    {
     "data": {
      "image/png": "[encoded data removed]",
      "text/plain": [
       "<Figure size 432x288 with 1 Axes>"
      ]
     },
     "metadata": {
      "needs_background": "light"
     },
     "output_type": "display_data"
    }
   ],
   "source": [
    "plt.scatter(data1['Duration_total_min'], data1['Price'], color = 'blue')\n",
    "\n",
    "\n",
    "### pretty clear that As the duration of minutes increases Flight price also increases."
   ]
  },
  {
   "cell_type": "code",
   "execution_count": 50,
   "id": "317a1f2f",
   "metadata": {},
   "outputs": [
    {
     "data": {
      "text/plain": [
       "<seaborn.axisgrid.FacetGrid at 0x7f96d798ec40>"
      ]
     },
     "execution_count": 50,
     "metadata": {},
     "output_type": "execute_result"
    },
    {
     "data": {
      "image/png": "[encoded data removed]",
      "text/plain": [
       "<Figure size 360x360 with 1 Axes>"
      ]
     },
     "metadata": {
      "needs_background": "light"
     },
     "output_type": "display_data"
    }
   ],
   "source": [
    "sns.lmplot(x = 'Duration_total_min', y= 'Price', data = data1)"
   ]
  },
  {
   "cell_type": "markdown",
   "id": "c218961e",
   "metadata": {},
   "source": [
    "## which city has maximum final destination of flights ?"
   ]
  },
  {
   "cell_type": "code",
   "execution_count": 51,
   "id": "9d1b5675",
   "metadata": {},
   "outputs": [
    {
     "data": {
      "text/plain": [
       "<AxesSubplot:xlabel='Destination'>"
      ]
     },
     "execution_count": 51,
     "metadata": {},
     "output_type": "execute_result"
    },
    {
     "data": {
      "image/png": "[encoded data removed]",
      "text/plain": [
       "<Figure size 432x288 with 1 Axes>"
      ]
     },
     "metadata": {
      "needs_background": "light"
     },
     "output_type": "display_data"
    }
   ],
   "source": [
    "data1['Destination'].value_counts().plot(kind='bar')\n",
    "\n",
    "# Inference->> \n",
    "# Final destination of majority of flights is Cochin. There are two values for Delhi destination which needs to be corrected,\n"
   ]
  },
  {
   "cell_type": "markdown",
   "id": "380acf77",
   "metadata": {},
   "source": [
    "## Lets Perform Exploratory Data Analysis(Bivariate Analysis) to come up with some business insights"
   ]
  },
  {
   "cell_type": "code",
   "execution_count": 52,
   "id": "a8c88c96",
   "metadata": {},
   "outputs": [
    {
     "data": {
      "text/plain": [
       "0                    BLR → DEL\n",
       "1        CCU → IXR → BBI → BLR\n",
       "2        DEL → LKO → BOM → COK\n",
       "3              CCU → NAG → BLR\n",
       "4              BLR → NAG → DEL\n",
       "                 ...          \n",
       "10678                CCU → BLR\n",
       "10679                CCU → BLR\n",
       "10680                BLR → DEL\n",
       "10681                BLR → DEL\n",
       "10682    DEL → GOI → BOM → COK\n",
       "Name: Route, Length: 10682, dtype: object"
      ]
     },
     "execution_count": 52,
     "metadata": {},
     "output_type": "execute_result"
    }
   ],
   "source": [
    "data1['Route']"
   ]
  },
  {
   "cell_type": "code",
   "execution_count": 53,
   "id": "bbd5d81e",
   "metadata": {},
   "outputs": [
    {
     "data": {
      "text/plain": [
       "Route\n",
       "CCU → BOM → BLR          930\n",
       "DEL → BOM → COK          875\n",
       "BLR → BOM → DEL          385\n",
       "BLR → DEL                382\n",
       "CCU → DEL → BLR          300\n",
       "BOM → HYD                207\n",
       "DEL → JAI → BOM → COK    207\n",
       "DEL → AMD → BOM → COK    141\n",
       "DEL → IDR → BOM → COK     86\n",
       "DEL → NAG → BOM → COK     61\n",
       "DEL → ATQ → BOM → COK     38\n",
       "DEL → COK                 34\n",
       "DEL → BHO → BOM → COK     29\n",
       "DEL → BDQ → BOM → COK     28\n",
       "DEL → LKO → BOM → COK     25\n",
       "DEL → JDH → BOM → COK     23\n",
       "CCU → GAU → BLR           22\n",
       "DEL → MAA → BOM → COK     16\n",
       "DEL → IXC → BOM → COK     13\n",
       "BLR → MAA → DEL           10\n",
       "BLR → BDQ → DEL            8\n",
       "DEL → UDR → BOM → COK      7\n",
       "BOM → DEL → HYD            5\n",
       "CCU → BOM → PNQ → BLR      4\n",
       "BLR → BOM → JDH → DEL      3\n",
       "DEL → DED → BOM → COK      2\n",
       "BOM → BDQ → DEL → HYD      2\n",
       "DEL → CCU → BOM → COK      1\n",
       "BOM → VNS → DEL → HYD      1\n",
       "BOM → UDR → DEL → HYD      1\n",
       "BOM → JDH → DEL → HYD      1\n",
       "BOM → IDR → DEL → HYD      1\n",
       "BOM → DED → DEL → HYD      1\n",
       "dtype: int64"
      ]
     },
     "execution_count": 53,
     "metadata": {},
     "output_type": "execute_result"
    }
   ],
   "source": [
    "data1[data1['Airline']=='Jet Airways'].groupby('Route').size().sort_values(ascending=False)"
   ]
  },
  {
   "cell_type": "markdown",
   "id": "e350892d",
   "metadata": {},
   "source": [
    "## Airline vs Price Analysis"
   ]
  },
  {
   "cell_type": "code",
   "execution_count": 54,
   "id": "27de1acd",
   "metadata": {},
   "outputs": [
    {
     "data": {
      "text/plain": [
       "(array([ 0,  1,  2,  3,  4,  5,  6,  7,  8,  9, 10, 11]),\n",
       " [Text(0, 0, 'IndiGo'),\n",
       "  Text(1, 0, 'Air India'),\n",
       "  Text(2, 0, 'Jet Airways'),\n",
       "  Text(3, 0, 'SpiceJet'),\n",
       "  Text(4, 0, 'Multiple carriers'),\n",
       "  Text(5, 0, 'GoAir'),\n",
       "  Text(6, 0, 'Vistara'),\n",
       "  Text(7, 0, 'Air Asia'),\n",
       "  Text(8, 0, 'Vistara Premium economy'),\n",
       "  Text(9, 0, 'Jet Airways Business'),\n",
       "  Text(10, 0, 'Multiple carriers Premium economy'),\n",
       "  Text(11, 0, 'Trujet')])"
      ]
     },
     "execution_count": 54,
     "metadata": {},
     "output_type": "execute_result"
    },
    {
     "data": {
      "image/png": "[encoded data removed]",
      "text/plain": [
       "<Figure size 1080x360 with 1 Axes>"
      ]
     },
     "metadata": {
      "needs_background": "light"
     },
     "output_type": "display_data"
    }
   ],
   "source": [
    "plt.figure(figsize=(15,5))\n",
    "sns.boxplot(y='Price',x='Airline',data=data)\n",
    "plt.xticks(rotation='vertical')"
   ]
  },
  {
   "cell_type": "markdown",
   "id": "ae7009b0",
   "metadata": {},
   "source": [
    "## Perform Feature-Encoding on Data"
   ]
  },
  {
   "cell_type": "code",
   "execution_count": 55,
   "id": "93319bc8",
   "metadata": {},
   "outputs": [],
   "source": [
    "# Additional_Info contains almost 80% no_info,so we can drop this column\n",
    "# we can drop Route as well as we have pre-process that column\n",
    "## lets drop Duration_total_mins as we have already extracted \"Duration_hours\" & \"Duration_mins\"\n",
    "\n",
    "data1.drop(columns=['Additional_Info','Route','Duration_total_min','journey_year'],axis=1,inplace=True)"
   ]
  },
  {
   "cell_type": "code",
   "execution_count": 56,
   "id": "b7a1218c",
   "metadata": {},
   "outputs": [
    {
     "data": {
      "text/plain": [
       "Index(['Airline', 'Source', 'Destination', 'Duration', 'Total_Stops', 'Price',\n",
       "       'journey_day', 'journey_month', 'Dep_Time_hour', 'Dep_Time_min',\n",
       "       'Arrival_Time_hour', 'Arrival_Time_min', 'Duration_hours',\n",
       "       'Duration_mins'],\n",
       "      dtype='object')"
      ]
     },
     "execution_count": 56,
     "metadata": {},
     "output_type": "execute_result"
    }
   ],
   "source": [
    "data1.columns"
   ]
  },
  {
   "cell_type": "markdown",
   "id": "176b5ac2",
   "metadata": {},
   "source": [
    "## Lets separate categorical data & numerical data "
   ]
  },
  {
   "cell_type": "code",
   "execution_count": 57,
   "id": "58eb994d",
   "metadata": {},
   "outputs": [],
   "source": [
    "cat_col = [col for col in data1.columns if data1[col].dtype=='object']"
   ]
  },
  {
   "cell_type": "code",
   "execution_count": 58,
   "id": "d35aff32",
   "metadata": {},
   "outputs": [],
   "source": [
    "num_col = [col for col in data1.columns if data1[col].dtype!='object']"
   ]
  },
  {
   "cell_type": "code",
   "execution_count": 59,
   "id": "f98ce833",
   "metadata": {},
   "outputs": [
    {
     "data": {
      "text/plain": [
       "['Airline', 'Source', 'Destination', 'Duration', 'Total_Stops']"
      ]
     },
     "execution_count": 59,
     "metadata": {},
     "output_type": "execute_result"
    }
   ],
   "source": [
    "cat_col"
   ]
  },
  {
   "cell_type": "code",
   "execution_count": 60,
   "id": "6d60731e",
   "metadata": {},
   "outputs": [
    {
     "data": {
      "text/plain": [
       "['Price',\n",
       " 'journey_day',\n",
       " 'journey_month',\n",
       " 'Dep_Time_hour',\n",
       " 'Dep_Time_min',\n",
       " 'Arrival_Time_hour',\n",
       " 'Arrival_Time_min',\n",
       " 'Duration_hours',\n",
       " 'Duration_mins']"
      ]
     },
     "execution_count": 60,
     "metadata": {},
     "output_type": "execute_result"
    }
   ],
   "source": [
    "num_col"
   ]
  },
  {
   "cell_type": "markdown",
   "id": "daac1919",
   "metadata": {},
   "source": [
    "## Handling Categorical Data"
   ]
  },
  {
   "cell_type": "code",
   "execution_count": 61,
   "id": "711227be",
   "metadata": {},
   "outputs": [],
   "source": [
    "for category in data['Source'].unique():\n",
    "    data1['Source_'+category]=data1['Source'].apply(lambda x: 1 if x==category else 0)"
   ]
  },
  {
   "cell_type": "code",
   "execution_count": 62,
   "id": "5587ff1a",
   "metadata": {},
   "outputs": [
    {
     "data": {
      "text/html": [
       "<div>\n",
       "<style scoped>\n",
       "    .dataframe tbody tr th:only-of-type {\n",
       "        vertical-align: middle;\n",
       "    }\n",
       "\n",
       "    .dataframe tbody tr th {\n",
       "        vertical-align: top;\n",
       "    }\n",
       "\n",
       "    .dataframe thead th {\n",
       "        text-align: right;\n",
       "    }\n",
       "</style>\n",
       "<table border=\"1\" class=\"dataframe\">\n",
       "  <thead>\n",
       "    <tr style=\"text-align: right;\">\n",
       "      <th></th>\n",
       "      <th>Airline</th>\n",
       "      <th>Source</th>\n",
       "      <th>Destination</th>\n",
       "      <th>Duration</th>\n",
       "      <th>Total_Stops</th>\n",
       "      <th>Price</th>\n",
       "      <th>journey_day</th>\n",
       "      <th>journey_month</th>\n",
       "      <th>Dep_Time_hour</th>\n",
       "      <th>Dep_Time_min</th>\n",
       "      <th>Arrival_Time_hour</th>\n",
       "      <th>Arrival_Time_min</th>\n",
       "      <th>Duration_hours</th>\n",
       "      <th>Duration_mins</th>\n",
       "      <th>Source_Banglore</th>\n",
       "      <th>Source_Kolkata</th>\n",
       "      <th>Source_Delhi</th>\n",
       "      <th>Source_Chennai</th>\n",
       "      <th>Source_Mumbai</th>\n",
       "    </tr>\n",
       "  </thead>\n",
       "  <tbody>\n",
       "    <tr>\n",
       "      <th>0</th>\n",
       "      <td>IndiGo</td>\n",
       "      <td>Banglore</td>\n",
       "      <td>New Delhi</td>\n",
       "      <td>2h 50m</td>\n",
       "      <td>non-stop</td>\n",
       "      <td>3897</td>\n",
       "      <td>24</td>\n",
       "      <td>3</td>\n",
       "      <td>22</td>\n",
       "      <td>20</td>\n",
       "      <td>1</td>\n",
       "      <td>10</td>\n",
       "      <td>2</td>\n",
       "      <td>50</td>\n",
       "      <td>1</td>\n",
       "      <td>0</td>\n",
       "      <td>0</td>\n",
       "      <td>0</td>\n",
       "      <td>0</td>\n",
       "    </tr>\n",
       "    <tr>\n",
       "      <th>1</th>\n",
       "      <td>Air India</td>\n",
       "      <td>Kolkata</td>\n",
       "      <td>Banglore</td>\n",
       "      <td>7h 25m</td>\n",
       "      <td>2 stops</td>\n",
       "      <td>7662</td>\n",
       "      <td>1</td>\n",
       "      <td>5</td>\n",
       "      <td>5</td>\n",
       "      <td>50</td>\n",
       "      <td>13</td>\n",
       "      <td>15</td>\n",
       "      <td>7</td>\n",
       "      <td>25</td>\n",
       "      <td>0</td>\n",
       "      <td>1</td>\n",
       "      <td>0</td>\n",
       "      <td>0</td>\n",
       "      <td>0</td>\n",
       "    </tr>\n",
       "    <tr>\n",
       "      <th>2</th>\n",
       "      <td>Jet Airways</td>\n",
       "      <td>Delhi</td>\n",
       "      <td>Cochin</td>\n",
       "      <td>19h 0m</td>\n",
       "      <td>2 stops</td>\n",
       "      <td>13882</td>\n",
       "      <td>9</td>\n",
       "      <td>6</td>\n",
       "      <td>9</td>\n",
       "      <td>25</td>\n",
       "      <td>4</td>\n",
       "      <td>25</td>\n",
       "      <td>19</td>\n",
       "      <td>0</td>\n",
       "      <td>0</td>\n",
       "      <td>0</td>\n",
       "      <td>1</td>\n",
       "      <td>0</td>\n",
       "      <td>0</td>\n",
       "    </tr>\n",
       "  </tbody>\n",
       "</table>\n",
       "</div>"
      ],
      "text/plain": [
       "       Airline    Source Destination Duration Total_Stops  Price  journey_day  \\\n",
       "0       IndiGo  Banglore   New Delhi   2h 50m    non-stop   3897           24   \n",
       "1    Air India   Kolkata    Banglore   7h 25m     2 stops   7662            1   \n",
       "2  Jet Airways     Delhi      Cochin   19h 0m     2 stops  13882            9   \n",
       "\n",
       "   journey_month  Dep_Time_hour  Dep_Time_min  Arrival_Time_hour  \\\n",
       "0              3             22            20                  1   \n",
       "1              5              5            50                 13   \n",
       "2              6              9            25                  4   \n",
       "\n",
       "   Arrival_Time_min  Duration_hours  Duration_mins  Source_Banglore  \\\n",
       "0                10               2             50                1   \n",
       "1                15               7             25                0   \n",
       "2                25              19              0                0   \n",
       "\n",
       "   Source_Kolkata  Source_Delhi  Source_Chennai  Source_Mumbai  \n",
       "0               0             0               0              0  \n",
       "1               1             0               0              0  \n",
       "2               0             1               0              0  "
      ]
     },
     "execution_count": 62,
     "metadata": {},
     "output_type": "execute_result"
    }
   ],
   "source": [
    "data1.head(3)"
   ]
  },
  {
   "cell_type": "markdown",
   "id": "6929e5a0",
   "metadata": {},
   "source": [
    "## Target Guided Mean Encoding"
   ]
  },
  {
   "cell_type": "code",
   "execution_count": 63,
   "id": "997eab0d",
   "metadata": {},
   "outputs": [],
   "source": [
    "# ofcourse we can use One-hot , but if we have more sub-categories , it creates curse of dimensionality in ML..\n",
    "# lets use Target Guided Mean Encoding in order to get rid of this"
   ]
  },
  {
   "cell_type": "code",
   "execution_count": 64,
   "id": "1cd024a0",
   "metadata": {},
   "outputs": [],
   "source": [
    "airlines=data1.groupby(['Airline'])['Price'].mean().sort_values().index"
   ]
  },
  {
   "cell_type": "code",
   "execution_count": 65,
   "id": "8a72f3ab",
   "metadata": {},
   "outputs": [
    {
     "data": {
      "text/plain": [
       "Index(['Trujet', 'SpiceJet', 'Air Asia', 'IndiGo', 'GoAir', 'Vistara',\n",
       "       'Vistara Premium economy', 'Air India', 'Multiple carriers',\n",
       "       'Multiple carriers Premium economy', 'Jet Airways',\n",
       "       'Jet Airways Business'],\n",
       "      dtype='object', name='Airline')"
      ]
     },
     "execution_count": 65,
     "metadata": {},
     "output_type": "execute_result"
    }
   ],
   "source": [
    "airlines"
   ]
  },
  {
   "cell_type": "code",
   "execution_count": 66,
   "id": "ba516f25",
   "metadata": {},
   "outputs": [],
   "source": [
    "dict1={key:index for index,key in enumerate(airlines,0)}"
   ]
  },
  {
   "cell_type": "code",
   "execution_count": 67,
   "id": "1e0765d4",
   "metadata": {},
   "outputs": [
    {
     "data": {
      "text/plain": [
       "{'Trujet': 0,\n",
       " 'SpiceJet': 1,\n",
       " 'Air Asia': 2,\n",
       " 'IndiGo': 3,\n",
       " 'GoAir': 4,\n",
       " 'Vistara': 5,\n",
       " 'Vistara Premium economy': 6,\n",
       " 'Air India': 7,\n",
       " 'Multiple carriers': 8,\n",
       " 'Multiple carriers Premium economy': 9,\n",
       " 'Jet Airways': 10,\n",
       " 'Jet Airways Business': 11}"
      ]
     },
     "execution_count": 67,
     "metadata": {},
     "output_type": "execute_result"
    }
   ],
   "source": [
    "dict1"
   ]
  },
  {
   "cell_type": "code",
   "execution_count": 68,
   "id": "08d56b7c",
   "metadata": {},
   "outputs": [],
   "source": [
    "data1['Airline']=data1['Airline'].map(dict1)"
   ]
  },
  {
   "cell_type": "code",
   "execution_count": 69,
   "id": "810a9def",
   "metadata": {},
   "outputs": [
    {
     "data": {
      "text/plain": [
       "10682"
      ]
     },
     "execution_count": 69,
     "metadata": {},
     "output_type": "execute_result"
    }
   ],
   "source": [
    "len(data1['Airline'])"
   ]
  },
  {
   "cell_type": "code",
   "execution_count": 70,
   "id": "a209d72c",
   "metadata": {},
   "outputs": [
    {
     "data": {
      "text/plain": [
       "array(['New Delhi', 'Banglore', 'Cochin', 'Kolkata', 'Delhi', 'Hyderabad'],\n",
       "      dtype=object)"
      ]
     },
     "execution_count": 70,
     "metadata": {},
     "output_type": "execute_result"
    }
   ],
   "source": [
    "data1['Destination'].unique()"
   ]
  },
  {
   "cell_type": "code",
   "execution_count": 71,
   "id": "e59b6056",
   "metadata": {},
   "outputs": [],
   "source": [
    "data1['Destination'].replace('New Delhi','Delhi',inplace=True)"
   ]
  },
  {
   "cell_type": "code",
   "execution_count": 72,
   "id": "782cb8cf",
   "metadata": {},
   "outputs": [
    {
     "data": {
      "text/plain": [
       "array(['Delhi', 'Banglore', 'Cochin', 'Kolkata', 'Hyderabad'],\n",
       "      dtype=object)"
      ]
     },
     "execution_count": 72,
     "metadata": {},
     "output_type": "execute_result"
    }
   ],
   "source": [
    "data1['Destination'].unique()"
   ]
  },
  {
   "cell_type": "code",
   "execution_count": 73,
   "id": "dca2e84e",
   "metadata": {},
   "outputs": [],
   "source": [
    "dest=data1.groupby(['Destination'])['Price'].mean().sort_values().index"
   ]
  },
  {
   "cell_type": "code",
   "execution_count": 74,
   "id": "0cb57996",
   "metadata": {},
   "outputs": [],
   "source": [
    "dict2={key:index for index,key in enumerate(dest,0)}"
   ]
  },
  {
   "cell_type": "code",
   "execution_count": 75,
   "id": "f9c65a4b",
   "metadata": {},
   "outputs": [
    {
     "data": {
      "text/plain": [
       "{'Kolkata': 0, 'Hyderabad': 1, 'Delhi': 2, 'Banglore': 3, 'Cochin': 4}"
      ]
     },
     "execution_count": 75,
     "metadata": {},
     "output_type": "execute_result"
    }
   ],
   "source": [
    "dict2"
   ]
  },
  {
   "cell_type": "code",
   "execution_count": 76,
   "id": "76a24487",
   "metadata": {},
   "outputs": [],
   "source": [
    "data1['Destination']=data1['Destination'].map(dict2)"
   ]
  },
  {
   "cell_type": "code",
   "execution_count": 77,
   "id": "6e03ffd4",
   "metadata": {},
   "outputs": [
    {
     "data": {
      "text/html": [
       "<div>\n",
       "<style scoped>\n",
       "    .dataframe tbody tr th:only-of-type {\n",
       "        vertical-align: middle;\n",
       "    }\n",
       "\n",
       "    .dataframe tbody tr th {\n",
       "        vertical-align: top;\n",
       "    }\n",
       "\n",
       "    .dataframe thead th {\n",
       "        text-align: right;\n",
       "    }\n",
       "</style>\n",
       "<table border=\"1\" class=\"dataframe\">\n",
       "  <thead>\n",
       "    <tr style=\"text-align: right;\">\n",
       "      <th></th>\n",
       "      <th>Airline</th>\n",
       "      <th>Source</th>\n",
       "      <th>Destination</th>\n",
       "      <th>Duration</th>\n",
       "      <th>Total_Stops</th>\n",
       "      <th>Price</th>\n",
       "      <th>journey_day</th>\n",
       "      <th>journey_month</th>\n",
       "      <th>Dep_Time_hour</th>\n",
       "      <th>Dep_Time_min</th>\n",
       "      <th>Arrival_Time_hour</th>\n",
       "      <th>Arrival_Time_min</th>\n",
       "      <th>Duration_hours</th>\n",
       "      <th>Duration_mins</th>\n",
       "      <th>Source_Banglore</th>\n",
       "      <th>Source_Kolkata</th>\n",
       "      <th>Source_Delhi</th>\n",
       "      <th>Source_Chennai</th>\n",
       "      <th>Source_Mumbai</th>\n",
       "    </tr>\n",
       "  </thead>\n",
       "  <tbody>\n",
       "    <tr>\n",
       "      <th>0</th>\n",
       "      <td>3</td>\n",
       "      <td>Banglore</td>\n",
       "      <td>2</td>\n",
       "      <td>2h 50m</td>\n",
       "      <td>non-stop</td>\n",
       "      <td>3897</td>\n",
       "      <td>24</td>\n",
       "      <td>3</td>\n",
       "      <td>22</td>\n",
       "      <td>20</td>\n",
       "      <td>1</td>\n",
       "      <td>10</td>\n",
       "      <td>2</td>\n",
       "      <td>50</td>\n",
       "      <td>1</td>\n",
       "      <td>0</td>\n",
       "      <td>0</td>\n",
       "      <td>0</td>\n",
       "      <td>0</td>\n",
       "    </tr>\n",
       "    <tr>\n",
       "      <th>1</th>\n",
       "      <td>7</td>\n",
       "      <td>Kolkata</td>\n",
       "      <td>3</td>\n",
       "      <td>7h 25m</td>\n",
       "      <td>2 stops</td>\n",
       "      <td>7662</td>\n",
       "      <td>1</td>\n",
       "      <td>5</td>\n",
       "      <td>5</td>\n",
       "      <td>50</td>\n",
       "      <td>13</td>\n",
       "      <td>15</td>\n",
       "      <td>7</td>\n",
       "      <td>25</td>\n",
       "      <td>0</td>\n",
       "      <td>1</td>\n",
       "      <td>0</td>\n",
       "      <td>0</td>\n",
       "      <td>0</td>\n",
       "    </tr>\n",
       "  </tbody>\n",
       "</table>\n",
       "</div>"
      ],
      "text/plain": [
       "   Airline    Source  Destination Duration Total_Stops  Price  journey_day  \\\n",
       "0        3  Banglore            2   2h 50m    non-stop   3897           24   \n",
       "1        7   Kolkata            3   7h 25m     2 stops   7662            1   \n",
       "\n",
       "   journey_month  Dep_Time_hour  Dep_Time_min  Arrival_Time_hour  \\\n",
       "0              3             22            20                  1   \n",
       "1              5              5            50                 13   \n",
       "\n",
       "   Arrival_Time_min  Duration_hours  Duration_mins  Source_Banglore  \\\n",
       "0                10               2             50                1   \n",
       "1                15               7             25                0   \n",
       "\n",
       "   Source_Kolkata  Source_Delhi  Source_Chennai  Source_Mumbai  \n",
       "0               0             0               0              0  \n",
       "1               1             0               0              0  "
      ]
     },
     "execution_count": 77,
     "metadata": {},
     "output_type": "execute_result"
    }
   ],
   "source": [
    "data1.head(2)"
   ]
  },
  {
   "cell_type": "markdown",
   "id": "4a7fa60f",
   "metadata": {},
   "source": [
    "## Perform Manual Encoding on Total_stops feature"
   ]
  },
  {
   "cell_type": "code",
   "execution_count": 78,
   "id": "d75e231c",
   "metadata": {},
   "outputs": [
    {
     "data": {
      "text/plain": [
       "array(['non-stop', '2 stops', '1 stop', '3 stops', '4 stops'],\n",
       "      dtype=object)"
      ]
     },
     "execution_count": 78,
     "metadata": {},
     "output_type": "execute_result"
    }
   ],
   "source": [
    "data1['Total_Stops'].unique()"
   ]
  },
  {
   "cell_type": "code",
   "execution_count": 79,
   "id": "6c0c0781",
   "metadata": {},
   "outputs": [],
   "source": [
    "stops={'non-stop':0, '2 stops':2, '1 stop':1, '3 stops':3, '4 stops':4}"
   ]
  },
  {
   "cell_type": "code",
   "execution_count": 80,
   "id": "5f34dc63",
   "metadata": {},
   "outputs": [],
   "source": [
    "data1['Total_Stops']=data1['Total_Stops'].map(stops)"
   ]
  },
  {
   "cell_type": "code",
   "execution_count": 81,
   "id": "d60003f5",
   "metadata": {},
   "outputs": [
    {
     "data": {
      "text/plain": [
       "0        0\n",
       "1        2\n",
       "2        2\n",
       "3        1\n",
       "4        1\n",
       "        ..\n",
       "10678    0\n",
       "10679    0\n",
       "10680    0\n",
       "10681    0\n",
       "10682    2\n",
       "Name: Total_Stops, Length: 10682, dtype: int64"
      ]
     },
     "execution_count": 81,
     "metadata": {},
     "output_type": "execute_result"
    }
   ],
   "source": [
    "data1['Total_Stops']"
   ]
  },
  {
   "cell_type": "markdown",
   "id": "45f7b61a",
   "metadata": {},
   "source": [
    "### wherever I have price >35K just replacing it with median of Price (treating it as a outlier)"
   ]
  },
  {
   "cell_type": "code",
   "execution_count": 92,
   "id": "e53dc58b",
   "metadata": {},
   "outputs": [],
   "source": [
    "data1['Price']=np.where(data1['Price']>=35000,data1['Price'].median(),data1['Price'])"
   ]
  },
  {
   "cell_type": "code",
   "execution_count": 94,
   "id": "bcc83d06",
   "metadata": {},
   "outputs": [],
   "source": [
    "data1.drop(columns=['Source','Duration'],axis=1,inplace=True)"
   ]
  },
  {
   "cell_type": "code",
   "execution_count": 95,
   "id": "c3433c24",
   "metadata": {},
   "outputs": [
    {
     "data": {
      "text/html": [
       "<div>\n",
       "<style scoped>\n",
       "    .dataframe tbody tr th:only-of-type {\n",
       "        vertical-align: middle;\n",
       "    }\n",
       "\n",
       "    .dataframe tbody tr th {\n",
       "        vertical-align: top;\n",
       "    }\n",
       "\n",
       "    .dataframe thead th {\n",
       "        text-align: right;\n",
       "    }\n",
       "</style>\n",
       "<table border=\"1\" class=\"dataframe\">\n",
       "  <thead>\n",
       "    <tr style=\"text-align: right;\">\n",
       "      <th></th>\n",
       "      <th>Airline</th>\n",
       "      <th>Destination</th>\n",
       "      <th>Total_Stops</th>\n",
       "      <th>Price</th>\n",
       "      <th>journey_day</th>\n",
       "      <th>journey_month</th>\n",
       "      <th>Dep_Time_hour</th>\n",
       "      <th>Dep_Time_min</th>\n",
       "      <th>Arrival_Time_hour</th>\n",
       "      <th>Arrival_Time_min</th>\n",
       "      <th>Duration_hours</th>\n",
       "      <th>Duration_mins</th>\n",
       "      <th>Source_Banglore</th>\n",
       "      <th>Source_Kolkata</th>\n",
       "      <th>Source_Delhi</th>\n",
       "      <th>Source_Chennai</th>\n",
       "      <th>Source_Mumbai</th>\n",
       "    </tr>\n",
       "  </thead>\n",
       "  <tbody>\n",
       "    <tr>\n",
       "      <th>0</th>\n",
       "      <td>3</td>\n",
       "      <td>2</td>\n",
       "      <td>0</td>\n",
       "      <td>3897.0</td>\n",
       "      <td>24</td>\n",
       "      <td>3</td>\n",
       "      <td>22</td>\n",
       "      <td>20</td>\n",
       "      <td>1</td>\n",
       "      <td>10</td>\n",
       "      <td>2</td>\n",
       "      <td>50</td>\n",
       "      <td>1</td>\n",
       "      <td>0</td>\n",
       "      <td>0</td>\n",
       "      <td>0</td>\n",
       "      <td>0</td>\n",
       "    </tr>\n",
       "    <tr>\n",
       "      <th>1</th>\n",
       "      <td>7</td>\n",
       "      <td>3</td>\n",
       "      <td>2</td>\n",
       "      <td>7662.0</td>\n",
       "      <td>1</td>\n",
       "      <td>5</td>\n",
       "      <td>5</td>\n",
       "      <td>50</td>\n",
       "      <td>13</td>\n",
       "      <td>15</td>\n",
       "      <td>7</td>\n",
       "      <td>25</td>\n",
       "      <td>0</td>\n",
       "      <td>1</td>\n",
       "      <td>0</td>\n",
       "      <td>0</td>\n",
       "      <td>0</td>\n",
       "    </tr>\n",
       "  </tbody>\n",
       "</table>\n",
       "</div>"
      ],
      "text/plain": [
       "   Airline  Destination  Total_Stops   Price  journey_day  journey_month  \\\n",
       "0        3            2            0  3897.0           24              3   \n",
       "1        7            3            2  7662.0            1              5   \n",
       "\n",
       "   Dep_Time_hour  Dep_Time_min  Arrival_Time_hour  Arrival_Time_min  \\\n",
       "0             22            20                  1                10   \n",
       "1              5            50                 13                15   \n",
       "\n",
       "   Duration_hours  Duration_mins  Source_Banglore  Source_Kolkata  \\\n",
       "0               2             50                1               0   \n",
       "1               7             25                0               1   \n",
       "\n",
       "   Source_Delhi  Source_Chennai  Source_Mumbai  \n",
       "0             0               0              0  \n",
       "1             0               0              0  "
      ]
     },
     "execution_count": 95,
     "metadata": {},
     "output_type": "execute_result"
    }
   ],
   "source": [
    "data1.head(2)"
   ]
  },
  {
   "cell_type": "markdown",
   "id": "7f854531",
   "metadata": {},
   "source": [
    "## Performing Feature Selection"
   ]
  },
  {
   "cell_type": "code",
   "execution_count": 96,
   "id": "b0430b9b",
   "metadata": {},
   "outputs": [],
   "source": [
    "from sklearn.feature_selection import mutual_info_regression"
   ]
  },
  {
   "cell_type": "code",
   "execution_count": 97,
   "id": "7d15b31d",
   "metadata": {},
   "outputs": [],
   "source": [
    "X=data1.drop(['Price'],axis=1)\n"
   ]
  },
  {
   "cell_type": "code",
   "execution_count": 98,
   "id": "1af354f5",
   "metadata": {},
   "outputs": [
    {
     "data": {
      "text/html": [
       "<div>\n",
       "<style scoped>\n",
       "    .dataframe tbody tr th:only-of-type {\n",
       "        vertical-align: middle;\n",
       "    }\n",
       "\n",
       "    .dataframe tbody tr th {\n",
       "        vertical-align: top;\n",
       "    }\n",
       "\n",
       "    .dataframe thead th {\n",
       "        text-align: right;\n",
       "    }\n",
       "</style>\n",
       "<table border=\"1\" class=\"dataframe\">\n",
       "  <thead>\n",
       "    <tr style=\"text-align: right;\">\n",
       "      <th></th>\n",
       "      <th>Airline</th>\n",
       "      <th>Destination</th>\n",
       "      <th>Total_Stops</th>\n",
       "      <th>journey_day</th>\n",
       "      <th>journey_month</th>\n",
       "      <th>Dep_Time_hour</th>\n",
       "      <th>Dep_Time_min</th>\n",
       "      <th>Arrival_Time_hour</th>\n",
       "      <th>Arrival_Time_min</th>\n",
       "      <th>Duration_hours</th>\n",
       "      <th>Duration_mins</th>\n",
       "      <th>Source_Banglore</th>\n",
       "      <th>Source_Kolkata</th>\n",
       "      <th>Source_Delhi</th>\n",
       "      <th>Source_Chennai</th>\n",
       "      <th>Source_Mumbai</th>\n",
       "    </tr>\n",
       "  </thead>\n",
       "  <tbody>\n",
       "    <tr>\n",
       "      <th>0</th>\n",
       "      <td>3</td>\n",
       "      <td>2</td>\n",
       "      <td>0</td>\n",
       "      <td>24</td>\n",
       "      <td>3</td>\n",
       "      <td>22</td>\n",
       "      <td>20</td>\n",
       "      <td>1</td>\n",
       "      <td>10</td>\n",
       "      <td>2</td>\n",
       "      <td>50</td>\n",
       "      <td>1</td>\n",
       "      <td>0</td>\n",
       "      <td>0</td>\n",
       "      <td>0</td>\n",
       "      <td>0</td>\n",
       "    </tr>\n",
       "    <tr>\n",
       "      <th>1</th>\n",
       "      <td>7</td>\n",
       "      <td>3</td>\n",
       "      <td>2</td>\n",
       "      <td>1</td>\n",
       "      <td>5</td>\n",
       "      <td>5</td>\n",
       "      <td>50</td>\n",
       "      <td>13</td>\n",
       "      <td>15</td>\n",
       "      <td>7</td>\n",
       "      <td>25</td>\n",
       "      <td>0</td>\n",
       "      <td>1</td>\n",
       "      <td>0</td>\n",
       "      <td>0</td>\n",
       "      <td>0</td>\n",
       "    </tr>\n",
       "    <tr>\n",
       "      <th>2</th>\n",
       "      <td>10</td>\n",
       "      <td>4</td>\n",
       "      <td>2</td>\n",
       "      <td>9</td>\n",
       "      <td>6</td>\n",
       "      <td>9</td>\n",
       "      <td>25</td>\n",
       "      <td>4</td>\n",
       "      <td>25</td>\n",
       "      <td>19</td>\n",
       "      <td>0</td>\n",
       "      <td>0</td>\n",
       "      <td>0</td>\n",
       "      <td>1</td>\n",
       "      <td>0</td>\n",
       "      <td>0</td>\n",
       "    </tr>\n",
       "    <tr>\n",
       "      <th>3</th>\n",
       "      <td>3</td>\n",
       "      <td>3</td>\n",
       "      <td>1</td>\n",
       "      <td>12</td>\n",
       "      <td>5</td>\n",
       "      <td>18</td>\n",
       "      <td>5</td>\n",
       "      <td>23</td>\n",
       "      <td>30</td>\n",
       "      <td>5</td>\n",
       "      <td>25</td>\n",
       "      <td>0</td>\n",
       "      <td>1</td>\n",
       "      <td>0</td>\n",
       "      <td>0</td>\n",
       "      <td>0</td>\n",
       "    </tr>\n",
       "    <tr>\n",
       "      <th>4</th>\n",
       "      <td>3</td>\n",
       "      <td>2</td>\n",
       "      <td>1</td>\n",
       "      <td>1</td>\n",
       "      <td>3</td>\n",
       "      <td>16</td>\n",
       "      <td>50</td>\n",
       "      <td>21</td>\n",
       "      <td>35</td>\n",
       "      <td>4</td>\n",
       "      <td>45</td>\n",
       "      <td>1</td>\n",
       "      <td>0</td>\n",
       "      <td>0</td>\n",
       "      <td>0</td>\n",
       "      <td>0</td>\n",
       "    </tr>\n",
       "    <tr>\n",
       "      <th>...</th>\n",
       "      <td>...</td>\n",
       "      <td>...</td>\n",
       "      <td>...</td>\n",
       "      <td>...</td>\n",
       "      <td>...</td>\n",
       "      <td>...</td>\n",
       "      <td>...</td>\n",
       "      <td>...</td>\n",
       "      <td>...</td>\n",
       "      <td>...</td>\n",
       "      <td>...</td>\n",
       "      <td>...</td>\n",
       "      <td>...</td>\n",
       "      <td>...</td>\n",
       "      <td>...</td>\n",
       "      <td>...</td>\n",
       "    </tr>\n",
       "    <tr>\n",
       "      <th>10678</th>\n",
       "      <td>2</td>\n",
       "      <td>3</td>\n",
       "      <td>0</td>\n",
       "      <td>9</td>\n",
       "      <td>4</td>\n",
       "      <td>19</td>\n",
       "      <td>55</td>\n",
       "      <td>22</td>\n",
       "      <td>25</td>\n",
       "      <td>2</td>\n",
       "      <td>30</td>\n",
       "      <td>0</td>\n",
       "      <td>1</td>\n",
       "      <td>0</td>\n",
       "      <td>0</td>\n",
       "      <td>0</td>\n",
       "    </tr>\n",
       "    <tr>\n",
       "      <th>10679</th>\n",
       "      <td>7</td>\n",
       "      <td>3</td>\n",
       "      <td>0</td>\n",
       "      <td>27</td>\n",
       "      <td>4</td>\n",
       "      <td>20</td>\n",
       "      <td>45</td>\n",
       "      <td>23</td>\n",
       "      <td>20</td>\n",
       "      <td>2</td>\n",
       "      <td>35</td>\n",
       "      <td>0</td>\n",
       "      <td>1</td>\n",
       "      <td>0</td>\n",
       "      <td>0</td>\n",
       "      <td>0</td>\n",
       "    </tr>\n",
       "    <tr>\n",
       "      <th>10680</th>\n",
       "      <td>10</td>\n",
       "      <td>2</td>\n",
       "      <td>0</td>\n",
       "      <td>27</td>\n",
       "      <td>4</td>\n",
       "      <td>8</td>\n",
       "      <td>20</td>\n",
       "      <td>11</td>\n",
       "      <td>20</td>\n",
       "      <td>3</td>\n",
       "      <td>0</td>\n",
       "      <td>1</td>\n",
       "      <td>0</td>\n",
       "      <td>0</td>\n",
       "      <td>0</td>\n",
       "      <td>0</td>\n",
       "    </tr>\n",
       "    <tr>\n",
       "      <th>10681</th>\n",
       "      <td>5</td>\n",
       "      <td>2</td>\n",
       "      <td>0</td>\n",
       "      <td>1</td>\n",
       "      <td>3</td>\n",
       "      <td>11</td>\n",
       "      <td>30</td>\n",
       "      <td>14</td>\n",
       "      <td>10</td>\n",
       "      <td>2</td>\n",
       "      <td>40</td>\n",
       "      <td>1</td>\n",
       "      <td>0</td>\n",
       "      <td>0</td>\n",
       "      <td>0</td>\n",
       "      <td>0</td>\n",
       "    </tr>\n",
       "    <tr>\n",
       "      <th>10682</th>\n",
       "      <td>7</td>\n",
       "      <td>4</td>\n",
       "      <td>2</td>\n",
       "      <td>9</td>\n",
       "      <td>5</td>\n",
       "      <td>10</td>\n",
       "      <td>55</td>\n",
       "      <td>19</td>\n",
       "      <td>15</td>\n",
       "      <td>8</td>\n",
       "      <td>20</td>\n",
       "      <td>0</td>\n",
       "      <td>0</td>\n",
       "      <td>1</td>\n",
       "      <td>0</td>\n",
       "      <td>0</td>\n",
       "    </tr>\n",
       "  </tbody>\n",
       "</table>\n",
       "<p>10682 rows × 16 columns</p>\n",
       "</div>"
      ],
      "text/plain": [
       "       Airline  Destination  Total_Stops  journey_day  journey_month  \\\n",
       "0            3            2            0           24              3   \n",
       "1            7            3            2            1              5   \n",
       "2           10            4            2            9              6   \n",
       "3            3            3            1           12              5   \n",
       "4            3            2            1            1              3   \n",
       "...        ...          ...          ...          ...            ...   \n",
       "10678        2            3            0            9              4   \n",
       "10679        7            3            0           27              4   \n",
       "10680       10            2            0           27              4   \n",
       "10681        5            2            0            1              3   \n",
       "10682        7            4            2            9              5   \n",
       "\n",
       "       Dep_Time_hour  Dep_Time_min  Arrival_Time_hour  Arrival_Time_min  \\\n",
       "0                 22            20                  1                10   \n",
       "1                  5            50                 13                15   \n",
       "2                  9            25                  4                25   \n",
       "3                 18             5                 23                30   \n",
       "4                 16            50                 21                35   \n",
       "...              ...           ...                ...               ...   \n",
       "10678             19            55                 22                25   \n",
       "10679             20            45                 23                20   \n",
       "10680              8            20                 11                20   \n",
       "10681             11            30                 14                10   \n",
       "10682             10            55                 19                15   \n",
       "\n",
       "       Duration_hours  Duration_mins  Source_Banglore  Source_Kolkata  \\\n",
       "0                   2             50                1               0   \n",
       "1                   7             25                0               1   \n",
       "2                  19              0                0               0   \n",
       "3                   5             25                0               1   \n",
       "4                   4             45                1               0   \n",
       "...               ...            ...              ...             ...   \n",
       "10678               2             30                0               1   \n",
       "10679               2             35                0               1   \n",
       "10680               3              0                1               0   \n",
       "10681               2             40                1               0   \n",
       "10682               8             20                0               0   \n",
       "\n",
       "       Source_Delhi  Source_Chennai  Source_Mumbai  \n",
       "0                 0               0              0  \n",
       "1                 0               0              0  \n",
       "2                 1               0              0  \n",
       "3                 0               0              0  \n",
       "4                 0               0              0  \n",
       "...             ...             ...            ...  \n",
       "10678             0               0              0  \n",
       "10679             0               0              0  \n",
       "10680             0               0              0  \n",
       "10681             0               0              0  \n",
       "10682             1               0              0  \n",
       "\n",
       "[10682 rows x 16 columns]"
      ]
     },
     "execution_count": 98,
     "metadata": {},
     "output_type": "execute_result"
    }
   ],
   "source": [
    "X"
   ]
  },
  {
   "cell_type": "code",
   "execution_count": 99,
   "id": "9eadd377",
   "metadata": {},
   "outputs": [],
   "source": [
    "y=data1['Price']"
   ]
  },
  {
   "cell_type": "code",
   "execution_count": 100,
   "id": "c49f14a7",
   "metadata": {},
   "outputs": [
    {
     "data": {
      "text/plain": [
       "Airline              int64\n",
       "Destination          int64\n",
       "Total_Stops          int64\n",
       "journey_day          int32\n",
       "journey_month        int32\n",
       "Dep_Time_hour        int32\n",
       "Dep_Time_min         int32\n",
       "Arrival_Time_hour    int32\n",
       "Arrival_Time_min     int32\n",
       "Duration_hours       int64\n",
       "Duration_mins        int64\n",
       "Source_Banglore      int64\n",
       "Source_Kolkata       int64\n",
       "Source_Delhi         int64\n",
       "Source_Chennai       int64\n",
       "Source_Mumbai        int64\n",
       "dtype: object"
      ]
     },
     "execution_count": 100,
     "metadata": {},
     "output_type": "execute_result"
    }
   ],
   "source": [
    "X.dtypes"
   ]
  },
  {
   "cell_type": "code",
   "execution_count": 101,
   "id": "2738c90b",
   "metadata": {},
   "outputs": [
    {
     "data": {
      "text/plain": [
       "array([0.97898187, 0.99890592, 0.78924951, 0.23099384, 0.61948542,\n",
       "       0.34102473, 0.26500566, 0.39606677, 0.34219603, 0.4680533 ,\n",
       "       0.34409311, 0.39054916, 0.45487424, 0.52473079, 0.14086442,\n",
       "       0.20297633])"
      ]
     },
     "execution_count": 101,
     "metadata": {},
     "output_type": "execute_result"
    }
   ],
   "source": [
    "mutual_info_regression(X,y)  ## how closely two vectors ar related to eachother"
   ]
  },
  {
   "cell_type": "code",
   "execution_count": 102,
   "id": "d7dd0c02",
   "metadata": {},
   "outputs": [],
   "source": [
    "imp=pd.DataFrame(mutual_info_regression(X,y),index=X.columns)\n",
    "imp.columns=['importance']"
   ]
  },
  {
   "cell_type": "code",
   "execution_count": 103,
   "id": "b95c83f1",
   "metadata": {},
   "outputs": [
    {
     "data": {
      "text/html": [
       "<div>\n",
       "<style scoped>\n",
       "    .dataframe tbody tr th:only-of-type {\n",
       "        vertical-align: middle;\n",
       "    }\n",
       "\n",
       "    .dataframe tbody tr th {\n",
       "        vertical-align: top;\n",
       "    }\n",
       "\n",
       "    .dataframe thead th {\n",
       "        text-align: right;\n",
       "    }\n",
       "</style>\n",
       "<table border=\"1\" class=\"dataframe\">\n",
       "  <thead>\n",
       "    <tr style=\"text-align: right;\">\n",
       "      <th></th>\n",
       "      <th>importance</th>\n",
       "    </tr>\n",
       "  </thead>\n",
       "  <tbody>\n",
       "    <tr>\n",
       "      <th>Destination</th>\n",
       "      <td>1.011369</td>\n",
       "    </tr>\n",
       "    <tr>\n",
       "      <th>Airline</th>\n",
       "      <td>0.976203</td>\n",
       "    </tr>\n",
       "    <tr>\n",
       "      <th>Total_Stops</th>\n",
       "      <td>0.788554</td>\n",
       "    </tr>\n",
       "    <tr>\n",
       "      <th>journey_month</th>\n",
       "      <td>0.622360</td>\n",
       "    </tr>\n",
       "    <tr>\n",
       "      <th>Source_Delhi</th>\n",
       "      <td>0.532146</td>\n",
       "    </tr>\n",
       "    <tr>\n",
       "      <th>Duration_hours</th>\n",
       "      <td>0.474826</td>\n",
       "    </tr>\n",
       "    <tr>\n",
       "      <th>Source_Kolkata</th>\n",
       "      <td>0.461898</td>\n",
       "    </tr>\n",
       "    <tr>\n",
       "      <th>Arrival_Time_hour</th>\n",
       "      <td>0.396268</td>\n",
       "    </tr>\n",
       "    <tr>\n",
       "      <th>Source_Banglore</th>\n",
       "      <td>0.387476</td>\n",
       "    </tr>\n",
       "    <tr>\n",
       "      <th>Arrival_Time_min</th>\n",
       "      <td>0.346435</td>\n",
       "    </tr>\n",
       "    <tr>\n",
       "      <th>Duration_mins</th>\n",
       "      <td>0.344268</td>\n",
       "    </tr>\n",
       "    <tr>\n",
       "      <th>Dep_Time_hour</th>\n",
       "      <td>0.338301</td>\n",
       "    </tr>\n",
       "    <tr>\n",
       "      <th>Dep_Time_min</th>\n",
       "      <td>0.267281</td>\n",
       "    </tr>\n",
       "    <tr>\n",
       "      <th>journey_day</th>\n",
       "      <td>0.235380</td>\n",
       "    </tr>\n",
       "    <tr>\n",
       "      <th>Source_Mumbai</th>\n",
       "      <td>0.205783</td>\n",
       "    </tr>\n",
       "    <tr>\n",
       "      <th>Source_Chennai</th>\n",
       "      <td>0.135506</td>\n",
       "    </tr>\n",
       "  </tbody>\n",
       "</table>\n",
       "</div>"
      ],
      "text/plain": [
       "                   importance\n",
       "Destination          1.011369\n",
       "Airline              0.976203\n",
       "Total_Stops          0.788554\n",
       "journey_month        0.622360\n",
       "Source_Delhi         0.532146\n",
       "Duration_hours       0.474826\n",
       "Source_Kolkata       0.461898\n",
       "Arrival_Time_hour    0.396268\n",
       "Source_Banglore      0.387476\n",
       "Arrival_Time_min     0.346435\n",
       "Duration_mins        0.344268\n",
       "Dep_Time_hour        0.338301\n",
       "Dep_Time_min         0.267281\n",
       "journey_day          0.235380\n",
       "Source_Mumbai        0.205783\n",
       "Source_Chennai       0.135506"
      ]
     },
     "execution_count": 103,
     "metadata": {},
     "output_type": "execute_result"
    }
   ],
   "source": [
    "imp.sort_values(by='importance',ascending=False)"
   ]
  },
  {
   "cell_type": "markdown",
   "id": "31b0e245",
   "metadata": {},
   "source": [
    "## build ML Model"
   ]
  },
  {
   "cell_type": "code",
   "execution_count": null,
   "id": "84134c44",
   "metadata": {},
   "outputs": [],
   "source": [
    "# split dataset into train & test"
   ]
  },
  {
   "cell_type": "code",
   "execution_count": 104,
   "id": "d722d8e7",
   "metadata": {},
   "outputs": [],
   "source": [
    "from sklearn.model_selection import train_test_split"
   ]
  },
  {
   "cell_type": "code",
   "execution_count": 105,
   "id": "2d7ac664",
   "metadata": {},
   "outputs": [],
   "source": [
    "X_train, X_test, y_train, y_test = train_test_split(\n",
    "   X, y, test_size=0.25, random_state=42)"
   ]
  },
  {
   "cell_type": "code",
   "execution_count": 106,
   "id": "4803e72f",
   "metadata": {},
   "outputs": [],
   "source": [
    "from sklearn.ensemble import RandomForestRegressor"
   ]
  },
  {
   "cell_type": "code",
   "execution_count": 107,
   "id": "ff4e8873",
   "metadata": {},
   "outputs": [],
   "source": [
    "ml_model = RandomForestRegressor()"
   ]
  },
  {
   "cell_type": "code",
   "execution_count": 109,
   "id": "1b58baf0",
   "metadata": {},
   "outputs": [
    {
     "data": {
      "text/plain": [
       "RandomForestRegressor()"
      ]
     },
     "execution_count": 109,
     "metadata": {},
     "output_type": "execute_result"
    }
   ],
   "source": [
    "ml_model.fit(X_train , y_train)"
   ]
  },
  {
   "cell_type": "code",
   "execution_count": 110,
   "id": "9d32110f",
   "metadata": {},
   "outputs": [],
   "source": [
    "y_pred = ml_model.predict(X_test)"
   ]
  },
  {
   "cell_type": "code",
   "execution_count": 111,
   "id": "6d9761ac",
   "metadata": {},
   "outputs": [
    {
     "data": {
      "text/plain": [
       "array([16834.68,  5461.48,  8841.29, ...,  3539.56,  6265.12,  6868.8 ])"
      ]
     },
     "execution_count": 111,
     "metadata": {},
     "output_type": "execute_result"
    }
   ],
   "source": [
    "y_pred "
   ]
  },
  {
   "cell_type": "code",
   "execution_count": 112,
   "id": "8e5b1c8c",
   "metadata": {},
   "outputs": [],
   "source": [
    "from sklearn import metrics"
   ]
  },
  {
   "cell_type": "code",
   "execution_count": 113,
   "id": "b291e47b",
   "metadata": {},
   "outputs": [
    {
     "data": {
      "text/plain": [
       "0.8117328741410241"
      ]
     },
     "execution_count": 113,
     "metadata": {},
     "output_type": "execute_result"
    }
   ],
   "source": [
    "metrics.r2_score(y_test , y_pred)"
   ]
  },
  {
   "cell_type": "code",
   "execution_count": null,
   "id": "f2933fff",
   "metadata": {},
   "outputs": [],
   "source": []
  },
  {
   "cell_type": "code",
   "execution_count": null,
   "id": "aa0c3cc9",
   "metadata": {},
   "outputs": [],
   "source": []
  },
  {
   "cell_type": "markdown",
   "id": "db915427",
   "metadata": {},
   "source": [
    "## automating ml pipeline &  defining Evaluation metric.."
   ]
  },
  {
   "cell_type": "code",
   "execution_count": null,
   "id": "2f653216",
   "metadata": {},
   "outputs": [],
   "source": [
    "# make our own metric."
   ]
  },
  {
   "cell_type": "code",
   "execution_count": 114,
   "id": "dff3a1bc",
   "metadata": {},
   "outputs": [],
   "source": [
    "def mape(y_true , y_pred):\n",
    "    y_true , y_pred = np.array(y_true) , np.array(y_pred)\n",
    "    return np.mean(np.abs((y_true - y_pred) / y_true)) * 100"
   ]
  },
  {
   "cell_type": "code",
   "execution_count": 115,
   "id": "8066ecbb",
   "metadata": {},
   "outputs": [
    {
     "data": {
      "text/plain": [
       "13.148194869258084"
      ]
     },
     "execution_count": 115,
     "metadata": {},
     "output_type": "execute_result"
    }
   ],
   "source": [
    "mape(y_test , y_pred)"
   ]
  },
  {
   "cell_type": "code",
   "execution_count": null,
   "id": "2b9b5dc2",
   "metadata": {},
   "outputs": [],
   "source": [
    "# automate ml pipeline"
   ]
  },
  {
   "cell_type": "code",
   "execution_count": 116,
   "id": "46ea350b",
   "metadata": {},
   "outputs": [],
   "source": [
    "from sklearn import metrics"
   ]
  },
  {
   "cell_type": "code",
   "execution_count": 119,
   "id": "8aae82e4",
   "metadata": {},
   "outputs": [],
   "source": [
    "def predict(ml_model):\n",
    "    model = ml_model.fit(X_train , y_train)\n",
    "    print('Training score : {}'.format(model.score(X_train , y_train)))\n",
    "    y_predection = model.predict(X_test)\n",
    "    print('predictions are : {}'.format(y_predection))\n",
    "    print('\\n')\n",
    "    r2_score = metrics.r2_score(y_test , y_predection)\n",
    "    print('r2 score : {}'.format(r2_score))\n",
    "    print('MAE : {}'.format(metrics.mean_absolute_error(y_test , y_predection)))\n",
    "    print('MSE : {}'.format(metrics.mean_squared_error(y_test , y_predection)))\n",
    "    print('RMSE : {}'.format(np.sqrt(metrics.mean_squared_error(y_test , y_predection))))\n",
    "    print('MAPE : {}'.format(mape(y_test , y_predection)))\n",
    "    "
   ]
  },
  {
   "cell_type": "code",
   "execution_count": 120,
   "id": "03f81d8a",
   "metadata": {},
   "outputs": [
    {
     "name": "stdout",
     "output_type": "stream",
     "text": [
      "Training score : 0.951760693224993\n",
      "predictions are : [16869.68  5324.27  8772.51 ...  3509.49  6253.13  6895.68]\n",
      "\n",
      "\n",
      "r2 score : 0.8115328919179126\n",
      "MAE : 1178.4971395667644\n",
      "MSE : 3669002.210243431\n",
      "RMSE : 1915.4639673571078\n",
      "MAPE : 13.226595452452186\n"
     ]
    }
   ],
   "source": [
    "predict(RandomForestRegressor())"
   ]
  },
  {
   "cell_type": "code",
   "execution_count": null,
   "id": "6c916d18",
   "metadata": {},
   "outputs": [],
   "source": []
  },
  {
   "cell_type": "code",
   "execution_count": null,
   "id": "b8c4bb3e",
   "metadata": {},
   "outputs": [],
   "source": []
  },
  {
   "cell_type": "code",
   "execution_count": null,
   "id": "a51f9834",
   "metadata": {},
   "outputs": [],
   "source": []
  },
  {
   "cell_type": "code",
   "execution_count": null,
   "id": "e93a8139",
   "metadata": {},
   "outputs": [],
   "source": []
  },
  {
   "cell_type": "code",
   "execution_count": null,
   "id": "550ff34a",
   "metadata": {},
   "outputs": [],
   "source": []
  },
  {
   "cell_type": "code",
   "execution_count": null,
   "id": "b836b5ae",
   "metadata": {},
   "outputs": [],
   "source": []
  },
  {
   "cell_type": "code",
   "execution_count": null,
   "id": "2bddab59",
   "metadata": {},
   "outputs": [],
   "source": []
  }
 ],
 "metadata": {
  "kernelspec": {
   "display_name": "Python 3",
   "language": "python",
   "name": "python3"
  },
  "language_info": {
   "codemirror_mode": {
    "name": "ipython",
    "version": 3
   },
   "file_extension": ".py",
   "mimetype": "text/x-python",
   "name": "python",
   "nbconvert_exporter": "python",
   "pygments_lexer": "ipython3",
   "version": "3.8.8"
  }
 },
 "nbformat": 4,
 "nbformat_minor": 5
}
